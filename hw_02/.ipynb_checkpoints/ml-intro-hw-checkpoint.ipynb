{
 "cells": [
  {
   "cell_type": "markdown",
   "metadata": {},
   "source": [
    "# SkillFactory\n",
    "## Введение в ML, введение в sklearn"
   ]
  },
  {
   "cell_type": "markdown",
   "metadata": {},
   "source": [
    "В этом задании мы с вами рассмотрим данные с конкурса [Задача предсказания отклика клиентов ОТП Банка](http://www.machinelearning.ru/wiki/index.php?title=%D0%97%D0%B0%D0%B4%D0%B0%D1%87%D0%B0_%D0%BF%D1%80%D0%B5%D0%B4%D1%81%D0%BA%D0%B0%D0%B7%D0%B0%D0%BD%D0%B8%D1%8F_%D0%BE%D1%82%D0%BA%D0%BB%D0%B8%D0%BA%D0%B0_%D0%BA%D0%BB%D0%B8%D0%B5%D0%BD%D1%82%D0%BE%D0%B2_%D0%9E%D0%A2%D0%9F_%D0%91%D0%B0%D0%BD%D0%BA%D0%B0_%28%D0%BA%D0%BE%D0%BD%D0%BA%D1%83%D1%80%D1%81%29)"
   ]
  },
  {
   "cell_type": "code",
   "execution_count": 1,
   "metadata": {},
   "outputs": [
    {
     "data": {
      "text/html": [
       "<style>.container { width:95% !important; }</style>"
      ],
      "text/plain": [
       "<IPython.core.display.HTML object>"
      ]
     },
     "metadata": {},
     "output_type": "display_data"
    }
   ],
   "source": [
    "# Думаю, так удобнее :-)\n",
    "from IPython.core.display import display, HTML\n",
    "display(HTML(\"<style>.container { width:95% !important; }</style>\"))"
   ]
  },
  {
   "cell_type": "code",
   "execution_count": 2,
   "metadata": {},
   "outputs": [],
   "source": [
    "import pandas as pd\n",
    "import numpy as np\n",
    "import matplotlib.pyplot as plt\n",
    "\n",
    "%matplotlib inline\n",
    "\n",
    "plt.style.use('ggplot')\n",
    "plt.rcParams['figure.figsize'] = (12,5)"
   ]
  },
  {
   "cell_type": "markdown",
   "metadata": {},
   "source": [
    "### Грузим данные"
   ]
  },
  {
   "cell_type": "markdown",
   "metadata": {},
   "source": [
    "Считаем описание данных"
   ]
  },
  {
   "cell_type": "code",
   "execution_count": 3,
   "metadata": {},
   "outputs": [],
   "source": [
    "\n",
    "df_descr = pd.read_csv('data/otp_description.csv', sep='\\t', encoding='utf8')"
   ]
  },
  {
   "cell_type": "code",
   "execution_count": 4,
   "metadata": {},
   "outputs": [
    {
     "data": {
      "text/html": [
       "<div>\n",
       "<style scoped>\n",
       "    .dataframe tbody tr th:only-of-type {\n",
       "        vertical-align: middle;\n",
       "    }\n",
       "\n",
       "    .dataframe tbody tr th {\n",
       "        vertical-align: top;\n",
       "    }\n",
       "\n",
       "    .dataframe thead th {\n",
       "        text-align: right;\n",
       "    }\n",
       "</style>\n",
       "<table border=\"1\" class=\"dataframe\">\n",
       "  <thead>\n",
       "    <tr style=\"text-align: right;\">\n",
       "      <th></th>\n",
       "      <th>ПОЛЕ</th>\n",
       "      <th>ОПИСАНИЕ</th>\n",
       "    </tr>\n",
       "  </thead>\n",
       "  <tbody>\n",
       "    <tr>\n",
       "      <th>0</th>\n",
       "      <td>AGREEMENT_RK</td>\n",
       "      <td>уникальный идентификатор объекта в выборке</td>\n",
       "    </tr>\n",
       "    <tr>\n",
       "      <th>1</th>\n",
       "      <td>AGE</td>\n",
       "      <td>возраст клиента</td>\n",
       "    </tr>\n",
       "    <tr>\n",
       "      <th>2</th>\n",
       "      <td>SOCSTATUS_WORK_FL</td>\n",
       "      <td>социальный статус клиента относительно работы ...</td>\n",
       "    </tr>\n",
       "    <tr>\n",
       "      <th>3</th>\n",
       "      <td>SOCSTATUS_PENS_FL</td>\n",
       "      <td>социальный статус клиента относительно пенсии ...</td>\n",
       "    </tr>\n",
       "    <tr>\n",
       "      <th>4</th>\n",
       "      <td>GENDER</td>\n",
       "      <td>пол клиента (1- женщины, 0-мужчины)</td>\n",
       "    </tr>\n",
       "    <tr>\n",
       "      <th>5</th>\n",
       "      <td>CHILD_TOTAL</td>\n",
       "      <td>количество детей клиента</td>\n",
       "    </tr>\n",
       "    <tr>\n",
       "      <th>6</th>\n",
       "      <td>DEPENDANTS</td>\n",
       "      <td>количество иждивенцев клиента</td>\n",
       "    </tr>\n",
       "    <tr>\n",
       "      <th>7</th>\n",
       "      <td>EDUCATION</td>\n",
       "      <td>образование</td>\n",
       "    </tr>\n",
       "    <tr>\n",
       "      <th>8</th>\n",
       "      <td>MARITAL_STATUS</td>\n",
       "      <td>семейное положение</td>\n",
       "    </tr>\n",
       "    <tr>\n",
       "      <th>9</th>\n",
       "      <td>GEN_INDUSTRY</td>\n",
       "      <td>отрасль работы клиента</td>\n",
       "    </tr>\n",
       "    <tr>\n",
       "      <th>10</th>\n",
       "      <td>GEN_TITLE</td>\n",
       "      <td>должность</td>\n",
       "    </tr>\n",
       "    <tr>\n",
       "      <th>11</th>\n",
       "      <td>ORG_TP_STATE</td>\n",
       "      <td>форма собственности компании</td>\n",
       "    </tr>\n",
       "    <tr>\n",
       "      <th>12</th>\n",
       "      <td>ORG_TP_FCAPITAL</td>\n",
       "      <td>отношение к иностранному капиталу</td>\n",
       "    </tr>\n",
       "    <tr>\n",
       "      <th>13</th>\n",
       "      <td>JOB_DIR</td>\n",
       "      <td>направление деятельности в нутри компании</td>\n",
       "    </tr>\n",
       "    <tr>\n",
       "      <th>14</th>\n",
       "      <td>FAMILY_INCOME</td>\n",
       "      <td>семейный доход (несколько категорий)</td>\n",
       "    </tr>\n",
       "    <tr>\n",
       "      <th>15</th>\n",
       "      <td>PERSONAL_INCOME</td>\n",
       "      <td>личный доход клиента (в рублях)</td>\n",
       "    </tr>\n",
       "    <tr>\n",
       "      <th>16</th>\n",
       "      <td>REG_ADDRESS_PROVINCE</td>\n",
       "      <td>область регистрации клиента</td>\n",
       "    </tr>\n",
       "    <tr>\n",
       "      <th>17</th>\n",
       "      <td>FACT_ADDRESS_PROVINCE</td>\n",
       "      <td>область фактического пребывания клиента</td>\n",
       "    </tr>\n",
       "    <tr>\n",
       "      <th>18</th>\n",
       "      <td>POSTAL_ADDRESS_PROVINCE</td>\n",
       "      <td>почтовый адрес область</td>\n",
       "    </tr>\n",
       "    <tr>\n",
       "      <th>19</th>\n",
       "      <td>TP_PROVINCE</td>\n",
       "      <td>область торговой точки, где клиент брал послед...</td>\n",
       "    </tr>\n",
       "    <tr>\n",
       "      <th>20</th>\n",
       "      <td>REGION_NM</td>\n",
       "      <td>регион РФ</td>\n",
       "    </tr>\n",
       "    <tr>\n",
       "      <th>21</th>\n",
       "      <td>REG_FACT_FL</td>\n",
       "      <td>адрес регистрации и адрес фактического пребыва...</td>\n",
       "    </tr>\n",
       "    <tr>\n",
       "      <th>22</th>\n",
       "      <td>FACT_POST_FL</td>\n",
       "      <td>адрес фактического пребывания клиента и его по...</td>\n",
       "    </tr>\n",
       "    <tr>\n",
       "      <th>23</th>\n",
       "      <td>REG_POST_FL</td>\n",
       "      <td>адрес регистрации клиента и его почтовый адрес...</td>\n",
       "    </tr>\n",
       "    <tr>\n",
       "      <th>24</th>\n",
       "      <td>REG_FACT_POST_FL</td>\n",
       "      <td>почтовый, фактический и адрес регистрации совп...</td>\n",
       "    </tr>\n",
       "    <tr>\n",
       "      <th>25</th>\n",
       "      <td>REG_FACT_POST_TP_FL</td>\n",
       "      <td>область регистрации, фактического пребывания, ...</td>\n",
       "    </tr>\n",
       "    <tr>\n",
       "      <th>26</th>\n",
       "      <td>FL_PRESENCE_FL</td>\n",
       "      <td>наличие в собственности квартиры (1 - есть, 0 ...</td>\n",
       "    </tr>\n",
       "    <tr>\n",
       "      <th>27</th>\n",
       "      <td>OWN_AUTO</td>\n",
       "      <td>кол-во автомобилей в собственности</td>\n",
       "    </tr>\n",
       "    <tr>\n",
       "      <th>28</th>\n",
       "      <td>AUTO_RUS_FL</td>\n",
       "      <td>наличие в собственности автомобиля российского...</td>\n",
       "    </tr>\n",
       "    <tr>\n",
       "      <th>29</th>\n",
       "      <td>HS_PRESENCE_FL</td>\n",
       "      <td>наличие в собственности загородного дома (1 - ...</td>\n",
       "    </tr>\n",
       "    <tr>\n",
       "      <th>30</th>\n",
       "      <td>COT_PRESENCE_FL</td>\n",
       "      <td>наличие в собственности котеджа (1 - есть, 0 -...</td>\n",
       "    </tr>\n",
       "    <tr>\n",
       "      <th>31</th>\n",
       "      <td>GAR_PRESENCE_FL</td>\n",
       "      <td>наличие в собственности гаража (1 - есть, 0 - ...</td>\n",
       "    </tr>\n",
       "    <tr>\n",
       "      <th>32</th>\n",
       "      <td>LAND_PRESENCE_FL</td>\n",
       "      <td>наличие в собственности земельного участка (1 ...</td>\n",
       "    </tr>\n",
       "    <tr>\n",
       "      <th>33</th>\n",
       "      <td>CREDIT</td>\n",
       "      <td>сумма последнего кредита клиента (в рублях)</td>\n",
       "    </tr>\n",
       "    <tr>\n",
       "      <th>34</th>\n",
       "      <td>TERM</td>\n",
       "      <td>срок кредита</td>\n",
       "    </tr>\n",
       "    <tr>\n",
       "      <th>35</th>\n",
       "      <td>FST_PAYMENT</td>\n",
       "      <td>первоначальный взнос (в рублях)</td>\n",
       "    </tr>\n",
       "    <tr>\n",
       "      <th>36</th>\n",
       "      <td>DL_DOCUMENT_FL</td>\n",
       "      <td>в анкете клиент указал водительское удостовере...</td>\n",
       "    </tr>\n",
       "    <tr>\n",
       "      <th>37</th>\n",
       "      <td>GPF_DOCUMENT_FL</td>\n",
       "      <td>в анкете клиен указал ГПФ (1 - указал, 0 - не ...</td>\n",
       "    </tr>\n",
       "    <tr>\n",
       "      <th>38</th>\n",
       "      <td>FACT_LIVING_TERM</td>\n",
       "      <td>количество месяцев проживания по месту фактиче...</td>\n",
       "    </tr>\n",
       "    <tr>\n",
       "      <th>39</th>\n",
       "      <td>WORK_TIME</td>\n",
       "      <td>время работы на текущем месте (в месяцах)</td>\n",
       "    </tr>\n",
       "    <tr>\n",
       "      <th>40</th>\n",
       "      <td>FACT_PHONE_FL</td>\n",
       "      <td>наличие в заявке телефона по фактическому мест...</td>\n",
       "    </tr>\n",
       "    <tr>\n",
       "      <th>41</th>\n",
       "      <td>REG_PHONE_FL</td>\n",
       "      <td>наличие в заявке телефона по месту регистрации</td>\n",
       "    </tr>\n",
       "    <tr>\n",
       "      <th>42</th>\n",
       "      <td>GEN_PHONE_FL</td>\n",
       "      <td>наличие в заявке рабочего телефона</td>\n",
       "    </tr>\n",
       "    <tr>\n",
       "      <th>43</th>\n",
       "      <td>LOAN_NUM_TOTAL</td>\n",
       "      <td>количество ссуд клиента</td>\n",
       "    </tr>\n",
       "    <tr>\n",
       "      <th>44</th>\n",
       "      <td>LOAN_NUM_CLOSED</td>\n",
       "      <td>количество погашенных ссуд клиента</td>\n",
       "    </tr>\n",
       "    <tr>\n",
       "      <th>45</th>\n",
       "      <td>LOAN_NUM_PAYM</td>\n",
       "      <td>количество платежей, которые сделал клиент</td>\n",
       "    </tr>\n",
       "    <tr>\n",
       "      <th>46</th>\n",
       "      <td>LOAN_DLQ_NUM</td>\n",
       "      <td>количество просрочек, допущенных клиентом</td>\n",
       "    </tr>\n",
       "    <tr>\n",
       "      <th>47</th>\n",
       "      <td>LOAN_MAX_DLQ</td>\n",
       "      <td>номер максимальной просрочки, допущенной клиентом</td>\n",
       "    </tr>\n",
       "    <tr>\n",
       "      <th>48</th>\n",
       "      <td>LOAN_AVG_DLQ_AMT</td>\n",
       "      <td>средняя сумма просрочки (в рублях)</td>\n",
       "    </tr>\n",
       "    <tr>\n",
       "      <th>49</th>\n",
       "      <td>LOAN_MAX_DLQ_AMT</td>\n",
       "      <td>максимальная сумма просрочки (в рублях)</td>\n",
       "    </tr>\n",
       "    <tr>\n",
       "      <th>50</th>\n",
       "      <td>PREVIOUS_CARD_NUM_UTILIZED</td>\n",
       "      <td>количество уже утилизированных карт ( если пус...</td>\n",
       "    </tr>\n",
       "  </tbody>\n",
       "</table>\n",
       "</div>"
      ],
      "text/plain": [
       "                          ПОЛЕ  \\\n",
       "0                 AGREEMENT_RK   \n",
       "1                          AGE   \n",
       "2            SOCSTATUS_WORK_FL   \n",
       "3            SOCSTATUS_PENS_FL   \n",
       "4                       GENDER   \n",
       "5                  CHILD_TOTAL   \n",
       "6                   DEPENDANTS   \n",
       "7                    EDUCATION   \n",
       "8               MARITAL_STATUS   \n",
       "9                 GEN_INDUSTRY   \n",
       "10                   GEN_TITLE   \n",
       "11                ORG_TP_STATE   \n",
       "12             ORG_TP_FCAPITAL   \n",
       "13                     JOB_DIR   \n",
       "14               FAMILY_INCOME   \n",
       "15             PERSONAL_INCOME   \n",
       "16        REG_ADDRESS_PROVINCE   \n",
       "17       FACT_ADDRESS_PROVINCE   \n",
       "18     POSTAL_ADDRESS_PROVINCE   \n",
       "19                 TP_PROVINCE   \n",
       "20                   REGION_NM   \n",
       "21                 REG_FACT_FL   \n",
       "22                FACT_POST_FL   \n",
       "23                 REG_POST_FL   \n",
       "24            REG_FACT_POST_FL   \n",
       "25         REG_FACT_POST_TP_FL   \n",
       "26              FL_PRESENCE_FL   \n",
       "27                    OWN_AUTO   \n",
       "28                 AUTO_RUS_FL   \n",
       "29              HS_PRESENCE_FL   \n",
       "30             COT_PRESENCE_FL   \n",
       "31             GAR_PRESENCE_FL   \n",
       "32            LAND_PRESENCE_FL   \n",
       "33                      CREDIT   \n",
       "34                        TERM   \n",
       "35                 FST_PAYMENT   \n",
       "36              DL_DOCUMENT_FL   \n",
       "37             GPF_DOCUMENT_FL   \n",
       "38            FACT_LIVING_TERM   \n",
       "39                   WORK_TIME   \n",
       "40               FACT_PHONE_FL   \n",
       "41                REG_PHONE_FL   \n",
       "42                GEN_PHONE_FL   \n",
       "43              LOAN_NUM_TOTAL   \n",
       "44             LOAN_NUM_CLOSED   \n",
       "45               LOAN_NUM_PAYM   \n",
       "46                LOAN_DLQ_NUM   \n",
       "47                LOAN_MAX_DLQ   \n",
       "48            LOAN_AVG_DLQ_AMT   \n",
       "49            LOAN_MAX_DLQ_AMT   \n",
       "50  PREVIOUS_CARD_NUM_UTILIZED   \n",
       "\n",
       "                                             ОПИСАНИЕ  \n",
       "0          уникальный идентификатор объекта в выборке  \n",
       "1                                     возраст клиента  \n",
       "2   социальный статус клиента относительно работы ...  \n",
       "3   социальный статус клиента относительно пенсии ...  \n",
       "4                 пол клиента (1- женщины, 0-мужчины)  \n",
       "5                            количество детей клиента  \n",
       "6                       количество иждивенцев клиента  \n",
       "7                                         образование  \n",
       "8                                  семейное положение  \n",
       "9                              отрасль работы клиента  \n",
       "10                                          должность  \n",
       "11                       форма собственности компании  \n",
       "12                  отношение к иностранному капиталу  \n",
       "13          направление деятельности в нутри компании  \n",
       "14               семейный доход (несколько категорий)  \n",
       "15                    личный доход клиента (в рублях)  \n",
       "16                        область регистрации клиента  \n",
       "17            область фактического пребывания клиента  \n",
       "18                             почтовый адрес область  \n",
       "19  область торговой точки, где клиент брал послед...  \n",
       "20                                          регион РФ  \n",
       "21  адрес регистрации и адрес фактического пребыва...  \n",
       "22  адрес фактического пребывания клиента и его по...  \n",
       "23  адрес регистрации клиента и его почтовый адрес...  \n",
       "24  почтовый, фактический и адрес регистрации совп...  \n",
       "25  область регистрации, фактического пребывания, ...  \n",
       "26  наличие в собственности квартиры (1 - есть, 0 ...  \n",
       "27                кол-во автомобилей в собственности   \n",
       "28  наличие в собственности автомобиля российского...  \n",
       "29  наличие в собственности загородного дома (1 - ...  \n",
       "30  наличие в собственности котеджа (1 - есть, 0 -...  \n",
       "31  наличие в собственности гаража (1 - есть, 0 - ...  \n",
       "32  наличие в собственности земельного участка (1 ...  \n",
       "33        сумма последнего кредита клиента (в рублях)  \n",
       "34                                       срок кредита  \n",
       "35                    первоначальный взнос (в рублях)  \n",
       "36  в анкете клиент указал водительское удостовере...  \n",
       "37  в анкете клиен указал ГПФ (1 - указал, 0 - не ...  \n",
       "38  количество месяцев проживания по месту фактиче...  \n",
       "39          время работы на текущем месте (в месяцах)  \n",
       "40  наличие в заявке телефона по фактическому мест...  \n",
       "41     наличие в заявке телефона по месту регистрации  \n",
       "42                 наличие в заявке рабочего телефона  \n",
       "43                            количество ссуд клиента  \n",
       "44                 количество погашенных ссуд клиента  \n",
       "45         количество платежей, которые сделал клиент  \n",
       "46          количество просрочек, допущенных клиентом  \n",
       "47  номер максимальной просрочки, допущенной клиентом  \n",
       "48                 средняя сумма просрочки (в рублях)  \n",
       "49            максимальная сумма просрочки (в рублях)  \n",
       "50  количество уже утилизированных карт ( если пус...  "
      ]
     },
     "execution_count": 4,
     "metadata": {},
     "output_type": "execute_result"
    }
   ],
   "source": [
    "df_descr"
   ]
  },
  {
   "cell_type": "markdown",
   "metadata": {},
   "source": [
    "Считаем обучающую выборки и тестовую (которую мы как бы не видим)"
   ]
  },
  {
   "cell_type": "code",
   "execution_count": 5,
   "metadata": {},
   "outputs": [],
   "source": [
    "df_train = pd.read_csv('data/otp_train.csv', sep='\\t', encoding='utf8')"
   ]
  },
  {
   "cell_type": "code",
   "execution_count": 6,
   "metadata": {},
   "outputs": [
    {
     "data": {
      "text/plain": [
       "(15223, 52)"
      ]
     },
     "execution_count": 6,
     "metadata": {},
     "output_type": "execute_result"
    }
   ],
   "source": [
    "df_train.shape"
   ]
  },
  {
   "cell_type": "code",
   "execution_count": 7,
   "metadata": {},
   "outputs": [],
   "source": [
    "df_test = pd.read_csv('data/otp_test.csv', sep='\\t', encoding='utf8')"
   ]
  },
  {
   "cell_type": "code",
   "execution_count": 8,
   "metadata": {},
   "outputs": [
    {
     "data": {
      "text/plain": [
       "(14910, 52)"
      ]
     },
     "execution_count": 8,
     "metadata": {},
     "output_type": "execute_result"
    }
   ],
   "source": [
    "df_test.shape"
   ]
  },
  {
   "cell_type": "code",
   "execution_count": 9,
   "metadata": {},
   "outputs": [
    {
     "data": {
      "text/html": [
       "<div>\n",
       "<style scoped>\n",
       "    .dataframe tbody tr th:only-of-type {\n",
       "        vertical-align: middle;\n",
       "    }\n",
       "\n",
       "    .dataframe tbody tr th {\n",
       "        vertical-align: top;\n",
       "    }\n",
       "\n",
       "    .dataframe thead th {\n",
       "        text-align: right;\n",
       "    }\n",
       "</style>\n",
       "<table border=\"1\" class=\"dataframe\">\n",
       "  <thead>\n",
       "    <tr style=\"text-align: right;\">\n",
       "      <th></th>\n",
       "      <th>AGREEMENT_RK</th>\n",
       "      <th>TARGET</th>\n",
       "      <th>AGE</th>\n",
       "      <th>SOCSTATUS_WORK_FL</th>\n",
       "      <th>SOCSTATUS_PENS_FL</th>\n",
       "      <th>GENDER</th>\n",
       "      <th>CHILD_TOTAL</th>\n",
       "      <th>DEPENDANTS</th>\n",
       "      <th>EDUCATION</th>\n",
       "      <th>MARITAL_STATUS</th>\n",
       "      <th>...</th>\n",
       "      <th>REG_PHONE_FL</th>\n",
       "      <th>GEN_PHONE_FL</th>\n",
       "      <th>LOAN_NUM_TOTAL</th>\n",
       "      <th>LOAN_NUM_CLOSED</th>\n",
       "      <th>LOAN_NUM_PAYM</th>\n",
       "      <th>LOAN_DLQ_NUM</th>\n",
       "      <th>LOAN_MAX_DLQ</th>\n",
       "      <th>LOAN_AVG_DLQ_AMT</th>\n",
       "      <th>LOAN_MAX_DLQ_AMT</th>\n",
       "      <th>PREVIOUS_CARD_NUM_UTILIZED</th>\n",
       "    </tr>\n",
       "  </thead>\n",
       "  <tbody>\n",
       "    <tr>\n",
       "      <th>0</th>\n",
       "      <td>59910150</td>\n",
       "      <td>0</td>\n",
       "      <td>49</td>\n",
       "      <td>1</td>\n",
       "      <td>0</td>\n",
       "      <td>1</td>\n",
       "      <td>2</td>\n",
       "      <td>1</td>\n",
       "      <td>Среднее специальное</td>\n",
       "      <td>Состою в браке</td>\n",
       "      <td>...</td>\n",
       "      <td>0</td>\n",
       "      <td>1</td>\n",
       "      <td>1</td>\n",
       "      <td>1</td>\n",
       "      <td>6</td>\n",
       "      <td>2</td>\n",
       "      <td>1</td>\n",
       "      <td>1580</td>\n",
       "      <td>1580</td>\n",
       "      <td>NaN</td>\n",
       "    </tr>\n",
       "    <tr>\n",
       "      <th>1</th>\n",
       "      <td>59910230</td>\n",
       "      <td>0</td>\n",
       "      <td>32</td>\n",
       "      <td>1</td>\n",
       "      <td>0</td>\n",
       "      <td>1</td>\n",
       "      <td>3</td>\n",
       "      <td>3</td>\n",
       "      <td>Среднее</td>\n",
       "      <td>Состою в браке</td>\n",
       "      <td>...</td>\n",
       "      <td>0</td>\n",
       "      <td>1</td>\n",
       "      <td>1</td>\n",
       "      <td>1</td>\n",
       "      <td>6</td>\n",
       "      <td>1</td>\n",
       "      <td>1</td>\n",
       "      <td>4020</td>\n",
       "      <td>4020</td>\n",
       "      <td>NaN</td>\n",
       "    </tr>\n",
       "    <tr>\n",
       "      <th>2</th>\n",
       "      <td>59910525</td>\n",
       "      <td>0</td>\n",
       "      <td>52</td>\n",
       "      <td>1</td>\n",
       "      <td>0</td>\n",
       "      <td>1</td>\n",
       "      <td>4</td>\n",
       "      <td>0</td>\n",
       "      <td>Неполное среднее</td>\n",
       "      <td>Состою в браке</td>\n",
       "      <td>...</td>\n",
       "      <td>0</td>\n",
       "      <td>1</td>\n",
       "      <td>2</td>\n",
       "      <td>1</td>\n",
       "      <td>11</td>\n",
       "      <td>0</td>\n",
       "      <td>0</td>\n",
       "      <td>0</td>\n",
       "      <td>0</td>\n",
       "      <td>NaN</td>\n",
       "    </tr>\n",
       "    <tr>\n",
       "      <th>3</th>\n",
       "      <td>59910803</td>\n",
       "      <td>0</td>\n",
       "      <td>39</td>\n",
       "      <td>1</td>\n",
       "      <td>0</td>\n",
       "      <td>1</td>\n",
       "      <td>1</td>\n",
       "      <td>1</td>\n",
       "      <td>Высшее</td>\n",
       "      <td>Состою в браке</td>\n",
       "      <td>...</td>\n",
       "      <td>1</td>\n",
       "      <td>1</td>\n",
       "      <td>1</td>\n",
       "      <td>1</td>\n",
       "      <td>6</td>\n",
       "      <td>3</td>\n",
       "      <td>1</td>\n",
       "      <td>1589,92333333333</td>\n",
       "      <td>1590</td>\n",
       "      <td>NaN</td>\n",
       "    </tr>\n",
       "    <tr>\n",
       "      <th>4</th>\n",
       "      <td>59911781</td>\n",
       "      <td>0</td>\n",
       "      <td>30</td>\n",
       "      <td>1</td>\n",
       "      <td>0</td>\n",
       "      <td>0</td>\n",
       "      <td>0</td>\n",
       "      <td>0</td>\n",
       "      <td>Среднее</td>\n",
       "      <td>Состою в браке</td>\n",
       "      <td>...</td>\n",
       "      <td>0</td>\n",
       "      <td>1</td>\n",
       "      <td>2</td>\n",
       "      <td>1</td>\n",
       "      <td>16</td>\n",
       "      <td>2</td>\n",
       "      <td>1</td>\n",
       "      <td>1152,15</td>\n",
       "      <td>2230</td>\n",
       "      <td>NaN</td>\n",
       "    </tr>\n",
       "  </tbody>\n",
       "</table>\n",
       "<p>5 rows × 52 columns</p>\n",
       "</div>"
      ],
      "text/plain": [
       "   AGREEMENT_RK  TARGET  AGE  SOCSTATUS_WORK_FL  SOCSTATUS_PENS_FL  GENDER  \\\n",
       "0      59910150       0   49                  1                  0       1   \n",
       "1      59910230       0   32                  1                  0       1   \n",
       "2      59910525       0   52                  1                  0       1   \n",
       "3      59910803       0   39                  1                  0       1   \n",
       "4      59911781       0   30                  1                  0       0   \n",
       "\n",
       "   CHILD_TOTAL  DEPENDANTS            EDUCATION  MARITAL_STATUS  \\\n",
       "0            2           1  Среднее специальное  Состою в браке   \n",
       "1            3           3              Среднее  Состою в браке   \n",
       "2            4           0     Неполное среднее  Состою в браке   \n",
       "3            1           1               Высшее  Состою в браке   \n",
       "4            0           0              Среднее  Состою в браке   \n",
       "\n",
       "             ...             REG_PHONE_FL GEN_PHONE_FL LOAN_NUM_TOTAL  \\\n",
       "0            ...                        0            1              1   \n",
       "1            ...                        0            1              1   \n",
       "2            ...                        0            1              2   \n",
       "3            ...                        1            1              1   \n",
       "4            ...                        0            1              2   \n",
       "\n",
       "  LOAN_NUM_CLOSED LOAN_NUM_PAYM LOAN_DLQ_NUM LOAN_MAX_DLQ  LOAN_AVG_DLQ_AMT  \\\n",
       "0               1             6            2            1              1580   \n",
       "1               1             6            1            1              4020   \n",
       "2               1            11            0            0                 0   \n",
       "3               1             6            3            1  1589,92333333333   \n",
       "4               1            16            2            1           1152,15   \n",
       "\n",
       "  LOAN_MAX_DLQ_AMT PREVIOUS_CARD_NUM_UTILIZED  \n",
       "0             1580                        NaN  \n",
       "1             4020                        NaN  \n",
       "2                0                        NaN  \n",
       "3             1590                        NaN  \n",
       "4             2230                        NaN  \n",
       "\n",
       "[5 rows x 52 columns]"
      ]
     },
     "execution_count": 9,
     "metadata": {},
     "output_type": "execute_result"
    }
   ],
   "source": [
    "df_train.head()"
   ]
  },
  {
   "cell_type": "markdown",
   "metadata": {},
   "source": [
    "## Объединим две выборки\n",
    "\n",
    "Так как пока мы пока не умеем работать sklearn  Pipeline, то для того, чтобы после предобработки столбцы в двух выборках находились на своих местах.\n",
    "\n",
    "Для того, чтобы в дальнейшем отделить их введем новый столбец \"sample\""
   ]
  },
  {
   "cell_type": "code",
   "execution_count": 10,
   "metadata": {},
   "outputs": [],
   "source": [
    "df_train.loc[:, 'sample'] = 'train'\n",
    "df_test.loc[:, 'sample'] = 'test'"
   ]
  },
  {
   "cell_type": "code",
   "execution_count": 11,
   "metadata": {},
   "outputs": [],
   "source": [
    "df = df_test.append(df_train).reset_index(drop=True)"
   ]
  },
  {
   "cell_type": "code",
   "execution_count": 12,
   "metadata": {},
   "outputs": [
    {
     "data": {
      "text/plain": [
       "(30133, 53)"
      ]
     },
     "execution_count": 12,
     "metadata": {},
     "output_type": "execute_result"
    }
   ],
   "source": [
    "df.shape"
   ]
  },
  {
   "cell_type": "markdown",
   "metadata": {},
   "source": [
    "### Чуть-чуть посмотрим на данные"
   ]
  },
  {
   "cell_type": "markdown",
   "metadata": {
    "collapsed": true
   },
   "source": [
    "Посмотрим типы данных и их заполняемость"
   ]
  },
  {
   "cell_type": "code",
   "execution_count": 13,
   "metadata": {
    "scrolled": false
   },
   "outputs": [
    {
     "name": "stdout",
     "output_type": "stream",
     "text": [
      "<class 'pandas.core.frame.DataFrame'>\n",
      "RangeIndex: 30133 entries, 0 to 30132\n",
      "Data columns (total 53 columns):\n",
      "AGREEMENT_RK                  30133 non-null int64\n",
      "TARGET                        30133 non-null int64\n",
      "AGE                           30133 non-null int64\n",
      "SOCSTATUS_WORK_FL             30133 non-null int64\n",
      "SOCSTATUS_PENS_FL             30133 non-null int64\n",
      "GENDER                        30133 non-null int64\n",
      "CHILD_TOTAL                   30133 non-null int64\n",
      "DEPENDANTS                    30133 non-null int64\n",
      "EDUCATION                     30133 non-null object\n",
      "MARITAL_STATUS                30133 non-null object\n",
      "GEN_INDUSTRY                  27420 non-null object\n",
      "GEN_TITLE                     27420 non-null object\n",
      "ORG_TP_STATE                  27420 non-null object\n",
      "ORG_TP_FCAPITAL               27425 non-null object\n",
      "JOB_DIR                       27420 non-null object\n",
      "FAMILY_INCOME                 30133 non-null object\n",
      "PERSONAL_INCOME               30133 non-null object\n",
      "REG_ADDRESS_PROVINCE          30133 non-null object\n",
      "FACT_ADDRESS_PROVINCE         30133 non-null object\n",
      "POSTAL_ADDRESS_PROVINCE       30133 non-null object\n",
      "TP_PROVINCE                   29543 non-null object\n",
      "REGION_NM                     30131 non-null object\n",
      "REG_FACT_FL                   30133 non-null int64\n",
      "FACT_POST_FL                  30133 non-null int64\n",
      "REG_POST_FL                   30133 non-null int64\n",
      "REG_FACT_POST_FL              30133 non-null int64\n",
      "REG_FACT_POST_TP_FL           30133 non-null int64\n",
      "FL_PRESENCE_FL                30133 non-null int64\n",
      "OWN_AUTO                      30133 non-null int64\n",
      "AUTO_RUS_FL                   30133 non-null int64\n",
      "HS_PRESENCE_FL                30133 non-null int64\n",
      "COT_PRESENCE_FL               30133 non-null int64\n",
      "GAR_PRESENCE_FL               30133 non-null int64\n",
      "LAND_PRESENCE_FL              30133 non-null int64\n",
      "CREDIT                        30133 non-null object\n",
      "TERM                          30133 non-null int64\n",
      "FST_PAYMENT                   30133 non-null object\n",
      "DL_DOCUMENT_FL                30133 non-null int64\n",
      "GPF_DOCUMENT_FL               30133 non-null int64\n",
      "FACT_LIVING_TERM              30133 non-null int64\n",
      "WORK_TIME                     27416 non-null float64\n",
      "FACT_PHONE_FL                 30133 non-null int64\n",
      "REG_PHONE_FL                  30133 non-null int64\n",
      "GEN_PHONE_FL                  30133 non-null int64\n",
      "LOAN_NUM_TOTAL                30133 non-null int64\n",
      "LOAN_NUM_CLOSED               30133 non-null int64\n",
      "LOAN_NUM_PAYM                 30133 non-null int64\n",
      "LOAN_DLQ_NUM                  30133 non-null int64\n",
      "LOAN_MAX_DLQ                  30133 non-null int64\n",
      "LOAN_AVG_DLQ_AMT              30133 non-null object\n",
      "LOAN_MAX_DLQ_AMT              30133 non-null object\n",
      "PREVIOUS_CARD_NUM_UTILIZED    600 non-null float64\n",
      "sample                        30133 non-null object\n",
      "dtypes: float64(2), int64(32), object(19)\n",
      "memory usage: 12.2+ MB\n"
     ]
    }
   ],
   "source": [
    "df.info()"
   ]
  },
  {
   "cell_type": "markdown",
   "metadata": {
    "collapsed": true
   },
   "source": [
    "Видим, что часть данных - object, скорее всего стоки.\n",
    "\n",
    "\n",
    "Давайте выведем эти значения для каждого столбца"
   ]
  },
  {
   "cell_type": "code",
   "execution_count": 14,
   "metadata": {},
   "outputs": [
    {
     "name": "stdout",
     "output_type": "stream",
     "text": [
      "==========\n",
      "EDUCATION\n",
      "{'Высшее', 'Ученая степень', 'Среднее специальное', 'Неоконченное высшее', 'Неполное среднее', 'Среднее', 'Два и более высших образования'}\n",
      "\n",
      "\n",
      "==========\n",
      "MARITAL_STATUS\n",
      "{'Разведен(а)', 'Не состоял в браке', 'Гражданский брак', 'Состою в браке', 'Вдовец/Вдова'}\n",
      "\n",
      "\n",
      "==========\n",
      "GEN_INDUSTRY\n",
      "{nan, 'Транспорт', 'Туризм', 'Строительство', 'Ресторанный бизнес/Общественное питание', 'Банк/Финансы', 'Сборочные производства', 'Подбор персонала', 'Информационные услуги', 'Нефтегазовая промышленность', 'Маркетинг', 'ЧОП/Детективная д-ть', 'Торговля', 'Государственная служба', 'Энергетика', 'Металлургия/Промышленность/Машиностроение', 'Сельское хозяйство', 'Образование', 'Недвижимость', 'Управляющая компания', 'Страхование', 'Логистика', 'Развлечения/Искусство', 'СМИ/Реклама/PR-агенства', 'Наука', 'Информационные технологии', 'Здравоохранение', 'Химия/Парфюмерия/Фармацевтика', 'Салоны красоты и здоровья', 'Коммунальное хоз-во/Дорожные службы', 'Юридические услуги/нотариальные услуги', 'Другие сферы'}\n",
      "\n",
      "\n",
      "==========\n",
      "GEN_TITLE\n",
      "{'Рабочий', 'Руководитель среднего звена', 'Индивидуальный предприниматель', nan, 'Военнослужащий по контракту', 'Служащий', 'Другое', 'Партнер', 'Работник сферы услуг', 'Высококвалифиц. специалист', 'Руководитель высшего звена', 'Руководитель низшего звена', 'Специалист'}\n",
      "\n",
      "\n",
      "==========\n",
      "ORG_TP_STATE\n",
      "{nan, 'Индивидуальный предприниматель', 'Государственная комп./учреж.', 'Частная компания', 'Некоммерческая организация', 'Частная ком. с инос. капиталом'}\n",
      "\n",
      "\n",
      "==========\n",
      "ORG_TP_FCAPITAL\n",
      "{nan, 'Без участия', 'С участием'}\n",
      "\n",
      "\n",
      "==========\n",
      "JOB_DIR\n",
      "{nan, 'Вспомогательный техперсонал', 'Реклама и маркетинг', 'Юридическая служба', 'Участие в основ. деятельности', 'Пр-техн. обесп. и телеком.', 'Адм-хоз. и трансп. службы', 'Бухгалтерия, финансы, планир.', 'Снабжение и сбыт', 'Служба безопасности', 'Кадровая служба и секретариат'}\n",
      "\n",
      "\n",
      "==========\n",
      "FAMILY_INCOME\n",
      "{'от 5000 до 10000 руб.', 'до 5000 руб.', 'от 20000 до 50000 руб.', 'от 10000 до 20000 руб.', 'свыше 50000 руб.'}\n",
      "\n",
      "\n",
      "==========\n",
      "PERSONAL_INCOME\n",
      "{'9000', '13160', '4700', '5446', '8800', '6608', '23500', '11640', '16200', '13450', '4400', '4515', '50000', '19800', '5050', '92000', '7600', '9240', '4200', '30000', '4600', '48000', '9500', '5360', '6300', '68000', '10200', '10100', '13900', '14358', '11600', '6299,19', '5425', '5800', '35000', '9300', '22000', '13700', '7500', '7850', '9600', '9330', '7900', '5400', '8900', '12700', '9400', '15200', '5790', '7830', '13000', '8600', '6100', '46000', '3800', '9200', '80000', '32640', '18600', '25800', '17800', '12000', '5000', '9900', '16100', '25000', '10700', '5350', '17600', '11800', '110000', '13500', '54000', '19000', '5900', '67700', '7220', '9100', '11300', '3100', '14500', '17700', '5700', '29500', '75000', '11200', '27300', '56000', '26500', '13150', '51000', '15400', '10900', '4330', '6359', '3400', '15380', '10000', '15000', '11000', '24000', '28000', '150000', '2100', '16000', '29000', '38000', '5088', '14800', '11700', '13300', '3500', '34000', '14000', '32000', '53000', '28300', '49000', '4800', '40000', '27000', '12800', '9700', '31000', '7400', '7200', '13200', '2000', '17900', '3900', '4300', '12650', '19300', '67000', '22500', '8200', '17000', '7101', '29800', '8400', '3000', '14300', '5680', '8066', '7251', '13400', '16500', '10600', '8500', '21000', '11900', '7050', '24500', '250000', '12100', '10500', '41000', '6700', '42500', '18500', '16800', '5600', '9800', '5582', '33000', '7250', '4360', '8100', '60000', '3300', '15500', '7800', '2300', '65000', '170000', '12900', '5460', '4340', '100000', '17500', '4500', '19500', '18000', '5200', '3700', '4950', '21500', '160000', '6400', '8000', '45000', '13800', '41900', '26000', '15600', '4900', '8300', '52000', '19600', '77000', '5500', '23800', '5230', '8726', '23000', '7700', '24800', '43000', '14700', '8350', '6200', '15560', '18700', '7550', '6670', '47000', '20646,16', '6180', '6000', '9628', '12300', '23100', '7000', '3200', '5100', '4000', '18200', '12600', '7100', '13600', '7300', '11500', '8700', '3600', '5300', '17404', '8250', '37000', '6900', '70000', '5339', '6600', '20000', '15300', '6500', '12400', '16900', '16050', '4100', '10300', '7650', '20500', '220000', '36000', '39000', '11400', '10400', '4590', '42000', '2800', '22955', '16700', '44000', '55000', '6800', '21800', '24', '12500', '19700', '9340', '17200', '7640', '10800', '1950'}\n",
      "\n",
      "\n",
      "==========\n",
      "REG_ADDRESS_PROVINCE\n",
      "{'Тамбовская область', 'Калмыкия', 'Карелия', 'Белгородская область', 'Ульяновская область', 'Вологодская область', 'Московская область', 'Хабаровский край', 'Омская область', 'Нижегородская область', 'Владимирская область', 'Удмуртия', 'Красноярский край', 'Ямало-Ненецкий АО', 'Тверская область', 'Коми', 'Орловская область', 'Новгородская область', 'Самарская область', 'Читинская область', 'Ханты-Мансийский АО', 'Курганская область', 'Краснодарский край', 'Хакасия', 'Мурманская область', 'Кировская область', 'Пермская область', 'Астраханская область', 'Брянская область', 'Дагестан', 'Саратовская область', 'Камчатская область', 'Москва', 'Еврейская АО', 'Калужская область', 'Усть-Ордынский Бурятский АО', 'Ставропольский край', 'Мордовская республика', 'Томская область', 'Эвенкийский АО', 'Челябинская область', 'Ивановская область', 'Курская область', 'Агинский Бурятский АО', 'Калининградская область', 'Адыгея', 'Карачаево-Черкесия', 'Амурская область', 'Ленинградская область', 'Липецкая область', 'Горный Алтай', 'Псковская область', 'Бурятия', 'Сахалинская область', 'Воронежская область', 'Алтайский край', 'Оренбургская область', 'Волгоградская область', 'Магаданская область', 'Тюменская область', 'Иркутская область', 'Архангельская область', 'Смоленская область', 'Татарстан', 'Санкт-Петербург', 'Башкирия', 'Новосибирская область', 'Якутия', 'Тульская область', 'Костромская область', 'Рязанская область', 'Чувашия', 'Ростовская область', 'Кемеровская область', 'Приморский край', 'Марийская республика', 'Кабардино-Балкария', 'Северная Осетия', 'Пензенская область', 'Ярославская область', 'Свердловская область'}\n",
      "\n",
      "\n",
      "==========\n",
      "FACT_ADDRESS_PROVINCE\n",
      "{'Тамбовская область', 'Калмыкия', 'Карелия', 'Белгородская область', 'Ульяновская область', 'Вологодская область', 'Московская область', 'Хабаровский край', 'Омская область', 'Нижегородская область', 'Владимирская область', 'Удмуртия', 'Красноярский край', 'Ямало-Ненецкий АО', 'Тверская область', 'Коми', 'Орловская область', 'Новгородская область', 'Самарская область', 'Читинская область', 'Ханты-Мансийский АО', 'Курганская область', 'Краснодарский край', 'Хакасия', 'Мурманская область', 'Кировская область', 'Пермская область', 'Астраханская область', 'Брянская область', 'Дагестан', 'Саратовская область', 'Камчатская область', 'Москва', 'Еврейская АО', 'Калужская область', 'Усть-Ордынский Бурятский АО', 'Ставропольский край', 'Мордовская республика', 'Томская область', 'Эвенкийский АО', 'Челябинская область', 'Ивановская область', 'Курская область', 'Агинский Бурятский АО', 'Калининградская область', 'Адыгея', 'Карачаево-Черкесия', 'Амурская область', 'Ленинградская область', 'Липецкая область', 'Горный Алтай', 'Псковская область', 'Бурятия', 'Сахалинская область', 'Воронежская область', 'Алтайский край', 'Оренбургская область', 'Волгоградская область', 'Магаданская область', 'Тюменская область', 'Иркутская область', 'Архангельская область', 'Смоленская область', 'Татарстан', 'Санкт-Петербург', 'Башкирия', 'Новосибирская область', 'Якутия', 'Тульская область', 'Костромская область', 'Рязанская область', 'Чувашия', 'Ростовская область', 'Кемеровская область', 'Приморский край', 'Марийская республика', 'Кабардино-Балкария', 'Северная Осетия', 'Пензенская область', 'Ярославская область', 'Свердловская область'}\n",
      "\n",
      "\n",
      "==========\n",
      "POSTAL_ADDRESS_PROVINCE\n",
      "{'Тамбовская область', 'Калмыкия', 'Карелия', 'Белгородская область', 'Ульяновская область', 'Вологодская область', 'Московская область', 'Хабаровский край', 'Омская область', 'Нижегородская область', 'Владимирская область', 'Удмуртия', 'Красноярский край', 'Ямало-Ненецкий АО', 'Тверская область', 'Коми', 'Орловская область', 'Новгородская область', 'Самарская область', 'Читинская область', 'Ханты-Мансийский АО', 'Курганская область', 'Краснодарский край', 'Хакасия', 'Мурманская область', 'Кировская область', 'Пермская область', 'Астраханская область', 'Брянская область', 'Саратовская область', 'Камчатская область', 'Москва', 'Еврейская АО', 'Калужская область', 'Усть-Ордынский Бурятский АО', 'Ставропольский край', 'Мордовская республика', 'Томская область', 'Эвенкийский АО', 'Челябинская область', 'Ивановская область', 'Курская область', 'Агинский Бурятский АО', 'Калининградская область', 'Адыгея', 'Карачаево-Черкесия', 'Амурская область', 'Ленинградская область', 'Липецкая область', 'Горный Алтай', 'Псковская область', 'Бурятия', 'Сахалинская область', 'Воронежская область', 'Алтайский край', 'Оренбургская область', 'Волгоградская область', 'Магаданская область', 'Тюменская область', 'Иркутская область', 'Архангельская область', 'Смоленская область', 'Татарстан', 'Санкт-Петербург', 'Башкирия', 'Новосибирская область', 'Якутия', 'Тульская область', 'Костромская область', 'Рязанская область', 'Чувашия', 'Ростовская область', 'Кемеровская область', 'Приморский край', 'Марийская республика', 'Кабардино-Балкария', 'Северная Осетия', 'Пензенская область', 'Ярославская область', 'Свердловская область'}\n",
      "\n",
      "\n",
      "==========\n",
      "TP_PROVINCE\n",
      "{nan, 'Тамбовская область', 'Карелия', 'Белгородская область', 'Ульяновская область', 'Вологодская область', 'Хабаровский край', 'Омская область', 'Нижегородская область', 'Владимирская область', 'Удмуртия', 'Красноярский край', 'Тверская область', 'Коми', 'Орловская область', 'Новгородская область', 'Самарская область', 'Читинская область', 'Ханты-Мансийский АО', 'Курганская область', 'Краснодарский край', 'Мурманская область', 'Кировская область', 'Пермская область', 'Астраханская область', 'Брянская область', 'Саратовская область', 'Камчатская область', 'Москва', 'Еврейская АО', 'Калужская область', 'Ставропольский край', 'Мордовская республика', 'Томская область', 'Челябинская область', 'Ивановская область', 'Курская область', 'Калининградская область', 'Адыгея', 'Горный Алтай', 'Амурская область', 'Липецкая область', 'Псковская область', 'Бурятия', 'Сахалинская область', 'Воронежская область', 'Алтайский край', 'Оренбургская область', 'Волгоградская область', 'Магаданская область', 'Тюменская область', 'Иркутская область', 'Архангельская область', 'Смоленская область', 'Татарстан', 'Санкт-Петербург', 'Башкирия', 'Новосибирская область', 'Якутия', 'Тульская область', 'Костромская область', 'Рязанская область', 'Чувашия', 'Ростовская область', 'Кемеровская область', 'Приморский край', 'Марийская республика', 'Кабардино-Балкария', 'Пензенская область', 'Ярославская область', 'Свердловская область'}\n",
      "\n",
      "\n",
      "==========\n",
      "REGION_NM\n",
      "{nan, 'ПОВОЛЖСКИЙ', 'ЮЖНЫЙ', 'ЦЕНТРАЛЬНЫЙ ОФИС', 'ВОСТОЧНО-СИБИРСКИЙ', 'ЦЕНТРАЛЬНЫЙ 2', 'ЗАПАДНО-СИБИРСКИЙ', 'ЦЕНТРАЛЬНЫЙ 1', 'УРАЛЬСКИЙ', 'ДАЛЬНЕВОСТОЧНЫЙ', 'ПРИВОЛЖСКИЙ', 'СЕВЕРО-ЗАПАДНЫЙ'}\n",
      "\n",
      "\n",
      "==========\n",
      "CREDIT\n",
      "{'7247', '19670', '72000', '9530', '18857', '9919', '27880', '17430', '12365,2', '5800', '8549,9', '9790', '74690', '34720', '29376', '16380', '20630', '6770', '7452', '17815', '19550', '32387', '18660', '38830', '23453', '9484', '21197', '32850', '27360', '56310', '4500,95', '20977', '26928', '6480', '2490', '20330', '4899', '2150', '4401', '22139', '9759', '18460', '3308', '11798', '5989', '5290', '11480', '4598,6', '16358', '8090', '10785', '6578', '20519', '6562', '94720', '18692', '22482', '16750', '7788', '18269', '14659,2', '4217', '12713', '19082,3', '5680', '3375', '21216', '24500', '27080', '17550', '2975', '22864', '5995,46', '18649', '15999', '9477', '8529', '8278', '74650', '5135', '23498', '20290', '22536', '32770', '7570', '3464', '19567', '56130', '13165', '10310', '4168,8', '18560', '26700', '23975', '92951', '7000', '13980', '5908', '31875,3', '22369', '10647', '39028', '3245', '12317', '14725', '16991', '9217', '4510', '72890', '56673', '4770', '5299', '20343', '8990', '4870', '10194', '19382', '8641', '25898', '3553', '6930', '40037', '13225', '19590', '29382', '13284', '15460', '4620', '25263', '6033', '7787', '8899', '6220', '5190', '21809', '8056', '26817', '14856', '6090', '23940', '5931', '13310', '9759,4', '12820', '13229', '19810', '22588', '5849', '56000', '2152', '48700', '10478', '8568', '19844', '16381', '13990', '2871', '20272', '21814', '25998', '6867', '25966', '7400', '12495', '7272', '32907,5', '6941', '10470', '36136', '21861', '5757', '7902', '9150', '24599', '16260', '4202', '17098,2', '22213', '4492', '8604', '29001', '29877,3', '4365', '7498', '4858', '21726', '23800', '3322', '15363', '7729', '31726', '19128,41', '15030', '13776', '20179,3', '4319', '10740', '10964', '11450,9', '17390', '22990', '21510', '23437', '15602,5', '19924', '9555', '65747', '26337,6', '19210', '2633', '8188,04', '5339', '16189,4', '2380', '7599', '9176', '8308,35', '25211', '18610', '27110', '19315', '23459', '24580', '7236', '15895', '19224', '7763', '85100', '18239', '18643', '12816', '4741', '86041', '19689', '21724', '20646', '22488', '11958', '20925', '18648', '13978', '14599', '3768', '2800,85', '17998,2', '18990,5', '65629,5', '27780', '61832', '16197', '2165,16', '9599', '38300', '12672', '9260', '31560', '23516,84', '83106', '17110', '31672', '13635', '2104', '30313', '8880', '4671', '10457', '11200', '20499', '6887', '9457', '3711', '13435', '7039', '17050', '7089', '23352', '21850', '9573,1', '20748', '21590', '13624', '58541', '13166', '6489', '5169', '11195', '29622', '4930,95', '9675', '29220', '22180', '29905', '9412', '13254', '30940', '6672', '15320', '3196', '7999,1', '27736', '5408', '34650', '14450', '4801', '32765', '14487', '9370', '13496', '3580', '8790', '25765', '5620', '18000', '30170', '13389', '21589,9', '23774', '20294', '42940', '23625', '8560', '3093', '7480', '19980', '37881', '7530', '21943', '3067', '25330', '21740', '10466', '8797', '2844', '11601', '9594', '6455', '3651', '25574', '3357', '9430', '2089', '8902', '7857', '27686,2', '3415', '9719', '13580', '25785', '16300', '18190', '3816', '4428', '40084', '9876', '12500', '6527', '26596', '23945', '13157', '5176,8', '6985', '10352', '9889', '27501', '27446', '26082', '14527', '3040', '48600', '8648', '11230', '28059,81', '19789', '12606', '19734', '7849', '51900', '10338', '12998', '15899', '8929', '13090', '17906', '27750', '14279', '3999', '11748', '6848', '11430', '20356', '12057', '20249', '10750', '8102', '7348,52', '8906', '7452,4', '9470', '18330', '2100', '16070,5', '25260', '6958,92', '12989', '11898', '23600', '20355', '4339', '8150', '43010', '38406', '9700', '30500', '21270', '29490', '22498,2', '16005', '63000', '23689', '5695', '3330', '9460', '5772', '12488,25', '3752,9', '5707,8', '6327', '33000', '4463', '6540', '6585', '5200', '7473', '16630', '6236', '28294', '17865', '11070', '9380', '41990', '34148', '7336,3', '8609,92', '15780', '4540', '3474', '18580', '17106', '4949', '11310', '6361', '35369,4', '20852', '11317', '5243', '23186', '20400', '4939', '2190,2', '23399', '24990', '16449', '6545', '14107', '15638', '14991', '7642', '11986', '12328', '29942', '7541', '9898', '11389', '5109', '73230', '45160', '24741', '6584', '18217', '27060', '14052', '16882', '12995', '7869,61', '23696', '22000', '29944', '16080', '27673', '5410', '20882', '12700', '4398', '12443', '4312', '17863', '14580', '16620', '7317', '8303', '21381,12', '3340', '79200', '9768', '9610', '28041', '7391', '11260', '84500', '15984', '28820', '28070', '17842', '9956', '6217', '6928', '9448', '17399,1', '24367', '9606', '6491', '17599', '38832', '7975', '14438', '40534', '22097', '17400', '8416', '13120', '13399', '40410', '7459,6', '22194', '13021', '10575', '9750', '12906', '26547', '2421,9', '5482,3', '14245', '16392', '13897', '6559', '20987', '27313', '9660', '14300', '5077', '46960', '18500', '4966', '3876', '29788', '7919', '11359', '7160', '10738,5', '7208', '24346', '14098,1', '13995', '12639', '20592', '20088', '14620', '13382', '21802', '20826', '26595', '31015', '4986', '25897,4', '13921,36', '99313', '5690', '22440', '15524', '12935', '4379', '4196', '3034', '6900', '6245', '5287', '27180', '11954', '18707,1', '2259,9', '24275', '24110', '16715', '11502', '8448', '6280', '6018,39', '7380', '19769', '5897', '30974', '23160', '18899', '11113', '34335', '2245', '22692,96', '20698', '9140', '7116', '5594', '5279', '6301', '10530', '37456', '5445', '14310', '2680', '39020', '2151', '24587', '25702', '19839', '3983', '19189', '25899', '21717', '3764', '32076', '16512', '18881', '23268', '90747,9', '5199', '11650', '16830', '22499', '16748,1', '21990', '25315', '10359', '25278,14', '3289', '8445', '14280', '21780', '9349,92', '12148', '7605', '24344', '31509', '17279,2', '17247', '12435', '7977', '38408', '55174', '4470', '10225', '3045', '12593,7', '21877', '19765', '9536', '4527', '12150', '12350', '18004', '7459', '23400', '17184', '6919', '7515', '9090', '15078', '32706', '17290', '7315', '13155', '20645', '10757', '16272', '4853', '9534', '18910', '10046', '28160', '16883', '3307', '13989', '12140', '25400', '16634,5', '14588', '36910', '3898', '10495', '28932', '5817', '6247', '17561,8', '21390', '38553', '17112', '24295', '11524,79', '9814', '21919', '10440', '7589', '11500', '15240', '22750', '22198,1', '14960', '11392', '10422', '8204', '14170', '5548', '22830', '37880', '17422', '6023,7', '20320', '17420', '22091', '15367', '42300', '9010', '9040', '11303', '18980', '5837', '18599,4', '17308', '14921', '11623', '7600', '24949,09', '16996', '8097', '10864', '17230', '5799', '11167', '5016', '7900', '22349', '22977', '12780', '6783', '5504', '4031', '15875', '5797', '3949,92', '15245', '10539', '25490', '4345', '10990', '10631', '10700', '16591', '13191', '9526', '19999', '7063', '8547', '17097', '4995', '11810', '12581,89', '14747,1', '24479', '23930', '15700', '20296', '7169', '19820', '51140', '15319', '4726', '10570', '6209', '30615', '12130', '4228', '9879', '11648', '2990', '30590,92', '6749', '19143', '10799', '18105', '10490', '3413', '7090', '6619', '13260', '22324', '13197', '21500', '2870', '10116', '15795', '3418,5', '7949', '2440', '26450', '22460', '17530', '3271,5', '11769', '11899', '6850', '10512', '39090', '4940', '45438', '47900', '10791', '6180', '14520', '9290,91', '6097,5', '7874', '24027', '6007', '9998', '21586', '5857', '70936,32', '10216', '5550', '3048', '5355', '5015', '23735', '70360', '3725', '14081', '7619', '14365', '22090', '16070', '16240', '12348', '10646,2', '19100', '8442', '21150', '28340', '9350', '12745', '21380', '11298', '75581', '8998', '16733', '73306', '3046', '11590,92', '3628', '17911', '17765', '8970', '4835', '21243', '4602', '19860', '15897,92', '4199', '3061,45', '13139', '9200', '5750', '12790', '27820', '13975', '7632', '11279', '14540,04', '17320', '9464', '3499', '19342', '16547,3', '4729,72', '31474', '2819', '23830', '23882', '19736', '59629', '7469', '25820', '16379', '24675,85', '11422', '13025', '25406', '4860', '2831,97', '6712', '2389', '17955', '26658,9', '10420', '26889', '8793', '17826', '17248', '38000', '23850', '23389', '10610', '13178', '2570', '4660', '17851', '31096', '4800', '8088', '5103', '30756', '20903,5', '6979', '14866', '14196', '10542', '13488', '11666', '23009', '13009', '10630', '5144', '9440', '5533', '41451', '17049', '35669', '12872', '7539', '11960', '31466', '4500', '8650', '13740', '4754', '4548', '15079,91', '7366', '14397', '21730', '9298', '8286', '34916', '15269', '20477', '16160', '10423', '6205', '2511,82', '16278', '9060', '51300', '15250', '21112', '63657', '67500', '11219', '5848', '6809', '20263', '25936', '17545', '4035,2', '22530', '26400', '8070', '29094', '4580,92', '12498', '46671', '43732,8', '7988', '17962', '4207', '2030', '12120', '5987', '6319', '5247', '26818', '12854', '12919', '14370', '12262', '34140', '23126', '4885', '19410', '26590', '14625', '11698', '7715', '6539', '13179', '6529', '18740', '17580', '38120', '11409', '30918', '14148', '25179', '36527', '39741', '13018,1', '19245', '52930', '5000', '13130', '31484,1', '44440', '11724', '6995', '21595', '8977', '4982,4', '17702', '16436', '9804', '16425', '7978', '9924', '11808', '19989', '2878', '11138', '18667', '2219', '29707', '18224', '30600', '27350', '26365,6', '7385', '31317', '13960', '5949', '11949', '27149', '7200', '5179', '10315', '8633,7', '10675', '8617', '12829', '6272', '11196', '11635', '19400', '9801', '17043', '16660', '4851,81', '46649', '5600', '30520', '26790', '9053', '17501', '30011', '8508', '19240', '27589', '8102,08', '19799', '6730', '7637,63', '23999', '15327', '43515', '20931', '8300', '8589', '16786', '7439', '13325', '11692', '4807', '18517,1', '18700', '6470', '12651', '13750', '5185', '19140', '13872', '18390', '31694', '41021', '4131', '8754', '4941', '15237,1', '36701', '12070', '38718', '11576', '4979', '3743', '27498', '81423', '23490', '11619,84', '45863', '5120', '28991', '3328', '5542', '22525', '14860', '28220', '20691', '27012', '24923', '21021,9', '3123', '12702', '7416', '35550', '10250', '5085', '6530', '7858', '80000', '17193', '6944', '3515', '19301', '10113', '23216', '13039', '28258', '35142', '4589', '9098', '18027', '7080', '7470', '14481', '11936', '30224', '12173', '11760', '26555', '62100', '9241', '21808', '9389', '21847', '20786', '32000', '18380', '15272', '5431,2', '51750', '6789', '3370', '8658', '3674', '5198', '9430,38', '6935', '20475', '10265', '28350', '17811', '15503', '3420', '2998', '15745', '10190', '9004', '6522', '16324', '17496', '82162', '7891', '34200', '17130', '16766', '45900', '6081', '25749', '15150', '5089', '5625', '24059,83', '17770', '23230', '13889', '18360', '89018', '4366,8', '12029', '11989', '20590', '6797', '8330', '3600', '12345', '15907', '8606', '21382', '8389', '3385,83', '21615', '24983', '14060', '43880', '7651', '23304,6', '33678,2', '12590', '7965', '25730', '2879', '23390,91', '10998', '12710', '16615', '3497', '3824', '3335', '11434', '6947', '22969', '53091', '50000', '19120', '9120', '19795', '19491', '77210', '10134', '3117', '5351', '3312', '11345', '11536', '14199', '27850', '14998', '23104', '7040,92', '3929', '41400', '23772,27', '16590', '17573', '7680', '17398,1', '16257', '31900', '14629', '14493', '4290,95', '11280', '7695', '27598', '13321', '16985', '27934', '29443', '17605', '4505', '53673', '5612', '14410', '16838', '11519,1', '22904', '21420', '18240,91', '16285', '7132', '2599', '2745', '25515', '5090', '5699', '22085', '4640', '2889', '4936', '18350', '16107', '6665', '8753', '60720', '9532', '8038', '9107', '18334', '3565', '6640', '7505', '16657', '3033,9', '17952', '5078', '28410', '3538', '7580', '4579', '33475', '10840', '25829,1', '21570', '11776', '16110', '24112', '7017', '13733', '33598', '19051', '16579', '23140', '7207', '24195', '7839', '9540', '21128', '23989', '26997', '8700', '26020', '5757,1', '19415', '19627', '21648', '6997', '54105', '6502', '40499', '13792', '5966,7', '10419', '16189', '11295', '4904', '20129', '15315', '16687', '8198', '10870', '14288', '19602', '25300', '24223', '29691', '17633', '8912', '13926', '6256,8', '9259', '2555', '8290', '3840', '15948', '35522', '4911', '20100', '3160', '28186', '4440', '66578', '21771', '17875', '15927', '9034', '24017', '15221', '42180', '5760', '6594', '34990', '3760', '22560', '21120', '4852', '9990', '16263', '3015,2', '12499', '13895', '14201', '69282', '13439', '37780', '4399', '6885', '5721', '25990', '5560', '18398', '4689', '26051', '10245', '25137', '23720', '2638', '23647', '39720', '5761,9', '6790', '3659,5', '26580', '25727', '12737', '2680,4', '14680', '42436', '27540', '26219', '44560', '2007', '19324', '29475', '4265', '11116', '7863', '6552', '7711', '22509', '3294', '10969', '21083', '13916', '18578', '22927', '50700', '20540', '12280', '13695', '16908', '4830', '17560', '3790', '26538', '13318', '15771', '8049', '31882', '19129', '18913', '33344', '24405,4', '4978', '17572,68', '13112', '4570', '4642', '12080', '26900', '5531,8', '9651', '11030', '6290', '4185', '28775', '19900', '15998', '34804', '2095', '6300', '4212', '2899', '9270', '4968', '16627', '14406', '19542', '7558', '14560', '12782', '50678', '22361', '14980', '17567', '4240', '7455', '13240', '84570', '18538', '3392', '17490', '17509', '15582', '15806,5', '16890', '52469,87', '46600', '27065', '12570', '11154', '5426', '7690', '2720', '8580', '5847', '4679', '20900', '4690', '19343', '6622', '24795', '12195', '16893', '13965', '22747,4', '10268', '22390', '16330', '35640', '19983', '33500', '6004', '6643', '27860', '24550', '27518', '8195', '31850', '5391', '26440', '30455', '15897', '7574', '9774', '5793,3', '17082', '11778', '6710', '15621', '25454', '16245', '18964', '2699', '14390', '5606', '21499', '6093', '5500', '27895', '8597', '22230', '23147', '8990,9', '36900', '12559', '24263', '18140', '4008', '31070', '29037,12', '3540', '6071', '22329,67', '8298', '19608', '26760', '26241,6', '27372', '18206', '18100', '11363,99', '6856', '10323', '11510', '70000', '10910', '16576,2', '14857', '12400', '11966', '6605', '10339', '32508,2', '14978', '5589', '14571', '5389', '11490', '17200', '28431', '10410', '7022,7', '6978', '2797', '50950', '5906', '14678,63', '4555', '8723', '41211', '8556', '4082', '40581', '21240', '12822', '14660', '13366,2', '29790', '29950', '3729', '5988,46', '32810', '8406', '25508', '17896', '3070', '13999,2', '14356', '2872', '3549', '84800', '7954', '21696', '5965', '34100', '29386', '6892', '22890', '27283', '9235', '4392', '23690,91', '21870', '86900', '22250', '10659', '6379', '13433', '90000', '6030', '7180', '3276', '4292', '67795', '16669', '16720', '9219', '3000', '14717', '3010', '7180,9', '8570', '37790', '70705,96', '7092', '3377', '22896', '16783', '7209', '11996', '14965', '38700', '6970', '6150', '13267', '17609', '35950', '38108', '7981', '21999,2', '29052', '17960', '34695', '14399', '9923', '13653', '13355', '5955', '16698', '53169', '21688', '8241', '19597', '14724', '23226', '29580', '20698,2', '7895', '39025', '16519,02', '33660', '22124', '28700', '8762', '25343', '26750', '15570', '14875', '22070', '7769', '4387', '7614', '8311,29', '19700', '21889,92', '6264', '32900', '18882', '4961', '4827', '5231', '7360', '9858', '19805', '19254', '34390', '14197', '11978', '14035', '12206', '14758', '8184', '3240', '6060', '6696', '14611', '3639', '3951', '42930', '6544', '5689', '9590', '19959', '13278', '94358', '25180', '11396', '18358', '32292', '20833', '20268', '11000', '8047', '12896', '7280', '9718', '4908', '13263', '13520', '16479', '35091', '10775', '4599', '22621', '16460', '14385', '4534', '13115', '9173,88', '15975', '16002', '16800', '4360', '28565', '18984', '2158', '11148', '14598', '65000', '9695', '8994', '6653', '5928,1', '4542', '28790', '8735', '2610', '11189', '2490,92', '6397', '3645', '19630', '11550', '10687', '2189', '9979', '10668', '14755', '3337', '7493', '5505', '16298', '25340', '18001,28', '12960', '4175', '11855', '28922', '21624', '8041', '7348', '7327,8', '16480', '13205', '4455', '11680', '10995', '9349', '4362', '19710', '4923', '3470', '14290', '4746', '13430', '24945', '12199', '4281', '5880', '7590,31', '8811', '6518', '26890', '5839', '4413', '10660', '7810', '25146', '11911', '4048', '7151', '46000', '15880', '6462', '9326', '3942', '14596', '16544', '3080', '5899', '3185', '27347', '20440', '3134', '10780', '2412', '21673', '5660', '27448', '6270', '2248', '3284', '4704', '15680', '17700', '24552', '22072', '4729', '4243', '5745', '16999,82', '16849', '37500', '10381,5', '12557', '98996', '10430', '17379,99', '8840', '8253', '3484', '23598', '21238', '2009', '43353', '3900', '4300', '13769,2', '69188', '3550', '17778', '5665', '9030', '41000', '9045', '4390,91', '35750', '14453', '29949,7', '9031', '5806', '5208', '5730', '5298,1', '5490', '18777', '11098,8', '36086', '7229', '6440', '25640', '50929,82', '45110', '6525', '16265', '16112', '37235', '21881', '11170', '41730', '5175', '58900', '13567', '7189', '5218', '26164', '13847', '6450', '27637', '26049', '10584', '20802', '10672', '14632', '4293', '17966', '10874', '33830', '6192', '10953', '15650', '18515,03', '6625', '15755', '6745', '30596', '3190', '22192', '20720', '18210', '17716', '12598,2', '7551', '31050', '7709', '37415', '22210', '11212,06', '18624', '25360', '20495', '29388', '12160', '16519', '26479', '24740', '8098', '21265', '5300,9', '21340', '18631', '3195', '8544', '2890', '27800', '5296', '32100', '6138', '15045', '13148', '14331', '12309', '17080', '9520', '17231', '5999', '10930,52', '17800', '16039', '5879', '3980', '9180', '21170', '3786', '24570', '37508', '8905', '5900', '17439', '30930', '27922', '7417,5', '20640', '22987', '19570', '4040,1', '38032', '6338', '4887', '3668', '18410', '6350', '18048', '45750', '8199', '7182', '4302', '6145', '4775', '20113', '6599', '30837', '10938', '7523', '41132', '10508', '24199', '21721,1', '28530', '10990,2', '20699', '12250', '23511', '7431', '12385', '28280', '9800', '30110', '20750', '3440', '4892', '19615', '8480', '18689', '7998', '29975', '2224,8', '15290', '10071', '13490,2', '22395', '14130', '19674', '45820', '15750,91', '17649', '27248', '30590', '11990,95', '3897', '6477', '7970', '10536', '22398', '40700', '54738', '5020', '59224', '4533', '13388', '3060', '15552', '5799,2', '24030', '18940', '25599', '6975', '10446', '14925', '25999', '8010', '10884', '11250', '4210', '39780', '40500', '6893,7', '24400', '2050', '15192', '12410', '13366', '9810', '15090', '3095', '7098', '21494', '18392,91', '17280', '21408', '22047', '18668', '22959', '4499', '12818', '20979', '13727', '6266', '21900', '8792', '16605', '10665', '9835', '30131', '4653', '2350', '16692', '4349', '3740', '20790', '33292', '14522', '28661', '16064', '8680', '3140', '6597', '10040', '14430', '11190', '3014', '6899', '21670', '30300', '17593', '49000', '15186', '8850', '5083', '33470', '21237', '51700,5', '52200', '27680', '21910', '26461', '15214', '2910', '18698', '9846', '3899', '19520', '4760', '4898', '98042', '32970', '3170', '5399', '4221', '5328', '4480', '8393', '19830', '25989', '22770', '96490', '17460', '21665', '18498', '41620', '8777,1', '16150', '5661', '3630', '20587', '19482', '13456,82', '8694', '2135,14', '10560', '14097', '11710', '7173', '22520', '5465,26', '23485', '83871', '11175', '5895', '10233', '13122', '27005', '26200', '32449', '31885', '26774', '8699', '8188', '29471', '15523', '23517', '27040', '27356', '7845', '18304', '8995', '4967', '13623', '21505', '21464', '6189,92', '6230', '15610', '2999', '11560', '19005', '17529,91', '13689,86', '9296', '71740', '4005', '5820', '16995', '9597', '23595', '11955', '2489', '7460', '17640', '30428', '8869', '35940', '2428,2', '31833', '10169', '9490', '2065,5', '19360', '20715', '29600', '18600', '3296', '34900', '16052', '56518', '11335', '15904', '7381', '22015', '6517', '25480', '26379,91', '7486,1', '13289', '24962', '6609', '13221', '34555', '33088,5', '50330', '14600', '4241', '10900', '5835', '4841', '76730', '17999', '18797', '17910', '28400', '4909', '30060', '30738', '5184', '16732', '10238', '26390', '21827', '14144', '23108', '14498', '4107', '11211', '14006', '15720,91', '16530', '26961', '29880', '3930', '11077', '19503', '70245', '10319', '8100', '3300', '28990,91', '23758', '45034', '25992', '5018', '24272', '12304', '37100', '7357', '14639', '13136', '17111', '16736', '15372', '4180', '17140', '21866', '58640', '38810', '6430', '4099,9', '39690', '6966', '11136', '17134', '23030', '19626', '2947', '18710', '23280', '4021', '18730', '9452,97', '21619', '25168', '5380', '24362', '24420', '18319', '14854', '97000', '76300', '4683', '8190', '26276', '13825', '30925', '28460', '37517', '11642,3', '10480', '10256,1', '7698', '10852', '32700', '4563', '25870', '12636', '10061', '8858,8', '6999', '28684', '7990', '18861', '16467', '13063', '26300', '3301', '12542', '15887', '8034,2', '6168', '16701', '33862', '5684', '28421', '24459', '30340', '14349', '9427', '26080', '2955', '13227,7', '23822', '14292', '11300', '6719', '91168', '4648', '14090', '24290', '29760', '13198', '17895', '10805', '10191', '15466', '11790', '25109', '19300', '19498', '6096,13', '16949', '24506', '39800', '79959', '6108', '24680', '9596', '10151', '3820', '16833', '4550', '18615', '28172', '2690', '6616', '5320', '15730', '21030', '9960', '27890', '8210', '2514', '88312', '13344', '6191', '17804', '21890', '13921,52', '14005', '27740', '25662', '14110', '20871', '10287', '7876', '8489', '27124', '25920', '24145', '15727', '13257', '3050', '15658', '11779', '3750', '2974,15', '11720', '27816', '22057', '13332', '12870', '19446', '19622', '14513', '60300', '11586', '50652,94', '37437,66', '6201', '12166', '13598', '30360', '24750', '23990', '10704', '5050', '11020', '21207', '9669', '21220', '5430', '28580', '26708', '22905', '3715', '14942', '4098', '6036', '6021', '29198', '10174', '97220', '10398', '7982', '8935', '11665', '3051', '9198', '19095', '3861', '41500', '7578', '4910', '26641', '21850,94', '9820', '5640', '9554', '19990', '15900', '21728', '11660,93', '45952', '3750,91', '24970', '23137', '27570', '3528', '5742', '11690,91', '26740', '22280', '5310', '8997', '21498', '17372', '4386', '18170', '22145,1', '14900', '21985', '6999,3', '4670', '22761', '19857', '14047', '2421', '28750', '35500', '50020', '9839', '18510', '26138', '23166', '30580', '4257', '21166', '32540', '3520,8', '21496', '13566', '16820', '7917', '10210', '41397', '5221', '18999', '5230', '14976', '25200', '9729', '22100', '18990', '15883', '4310', '2751', '10755', '12518,5', '9963', '16218', '16691', '23780', '12405', '17505', '15247', '13649', '27980', '3710', '3498', '23395', '7390', '7128', '16910', '4812', '8260', '26490', '30627', '5220', '27340', '24858', '7677', '11048', '31294', '4135', '11330', '4170', '8470', '9670', '13887,68', '28502', '9629', '9340', '22150', '32790,9', '19929', '14796', '13491', '3143', '25100', '15920', '23029', '8240', '16520', '5778', '15481', '27228', '33183,4', '4435', '4351', '15624', '5990', '2855', '6822', '6624', '6141,75', '6228', '9301', '17346', '16776', '5450', '2792', '19502', '15480', '16322', '17650', '20874', '34905', '9341,5', '8984', '15299,9', '19417', '6513', '28341', '7838', '11920', '33920', '9405', '3718', '17150', '18632', '9870', '8110', '8373', '12670', '5995', '98030', '44690', '7224', '14340', '4767', '17340', '32650', '14690', '10912', '15756', '2263', '4951', '13200', '20450', '6340', '5099', '7660', '30344', '18530', '19938', '18782,2', '25290', '20200', '3731', '23552', '14890', '7797,6', '9290', '27170', '13910', '18060', '13934', '13680', '36260', '5639', '3545', '37305', '26510', '19079', '6620', '3305', '6982', '10075', '8603', '10021,5', '15889', '16690', '13541', '27971', '20883', '6299,72', '8806', '42689', '2399', '24035,5', '4845', '12427,1', '9550,82', '31200', '23297', '15230', '22789', '26340', '8148', '2691', '28170', '12198', '11526', '22495', '23425', '13748', '19220', '10342', '21195', '21086', '19781', '12631', '35955', '11833', '19720', '20565', '31810', '14461', '23539', '9315', '9620', '22799', '29445', '4647', '5607', '7183', '10670', '5294', '16571', '6910', '17453', '17802', '3006', '23109', '9907,2', '6939', '29742', '10496', '11871', '11595', '9980', '18413', '3442', '8940', '12560,01', '13001', '11042', '10088', '6313', '11085', '31588', '20939', '3979', '23185', '4186', '12687', '28715', '5435', '17329,92', '26560', '13830', '13719', '5285', '22286', '5259', '12159', '94300', '31990,6', '22121,1', '9702', '7197', '27130', '14209', '23057', '5941', '7070', '24174', '6202', '24000', '4117,5', '5984', '13922', '33978,63', '8067', '14800', '5710', '28242', '22497', '6830', '5312', '9227', '8669', '9970', '8412', '2125', '16920', '8979', '14355', '22900', '27550', '24864', '9450', '10089', '6732', '3575', '24940', '17324', '13006', '7741', '26022', '9546', '36500', '5478', '4765', '26457', '21762', '24881', '14390,92', '12061', '15565,5', '34280', '18250', '7937', '21015', '11090', '25122', '19177', '31716', '4738', '6000', '25385', '9467', '4725', '4497', '16310', '16704', '10467,1', '53400', '3501', '7829', '6246', '12598', '3220', '29782', '35097,66', '21440', '4487,4', '4450', '5346', '10585', '23840', '23663', '61487', '10800', '20880', '10690', '74466', '4290,91', '20699,1', '5850', '30510', '9679', '28417', '6940', '6675', '3875', '14190', '4057', '6370', '16455', '17594', '12628,91', '4240,91', '5370', '5129', '11819', '18150', '12000', '3130', '23025', '14891,92', '7720', '26642', '6781', '8874', '5043', '16169', '12384', '7795', '27298', '20310', '30681', '12725', '41170', '14765', '9397', '13259', '12810,94', '5170', '3880', '9499', '21209', '9550', '13498', '10280', '13420', '35060', '11520', '7199', '31221', '3030', '4389', '5242,3', '30696', '15575', '5755', '21000', '19060', '13728', '2619', '20706', '13494', '5937', '8825', '8725', '31404', '21218', '8033', '12572', '27706', '17500', '100000', '7984', '17300', '7204', '18318', '4990', '13670', '20297', '26000', '56964,6', '43996', '18054', '23399,2', '39500', '15740', '3398', '17991', '7499', '4928,96', '7189,6', '15165', '11325', '64500', '20960', '34700', '37440', '9095', '9338', '23478', '11445', '24850', '6070', '44415', '15788', '4477', '5037', '10618', '8440', '22330', '12799', '17613', '19050', '5333', '8941', '16364', '9899', '15347', '14593', '34806', '3737,6', '14243', '6475', '8275', '8369', '11489', '6080', '8800', '18376', '12797', '4580', '31263', '63700', '11391', '5140', '20943', '51685', '25632', '7870', '15615', '30825', '46500', '5516', '11308', '12360', '4935', '6746', '8918', '75500', '5494', '22590', '22860', '8299', '10935', '26115', '6733', '3150', '23790', '7448', '23985', '14100', '15389', '7259', '9996', '6449', '11551', '5174', '12240', '8849', '23990,83', '19920', '8064', '20985,62', '5877', '13846', '6660', '2240', '8715', '14177', '5178', '13785', '7181', '8399', '23608', '3998', '17980', '7441', '37016', '16060', '25783', '27381', '35165', '7443', '8346', '10021', '6999,9', '16680', '87673', '34618', '2341', '60888', '10331', '3923', '26999', '7296', '15035', '30673', '45000', '17251', '10778', '21654', '19290', '12520', '38244', '37350', '3348', '24260', '10279', '5193', '13050', '11395', '29599', '9949', '3970', '8435', '13600', '19897,1', '21097', '6278', '19169', '8250', '16990', '16872,3', '21845', '4810', '5938', '29661', '8652', '25301', '5438', '11674', '10150', '20300', '17549', '6186,7', '19748', '25732,2', '20252', '26315', '15890', '18176', '10790', '4652', '11151', '6556', '27260', '18598', '25390,94', '10100', '9972', '8078', '17361,76', '16450', '9902', '9009,91', '3389', '3703', '16490', '20169', '11804', '20660', '9400', '14040', '18497', '12996', '14480', '28472', '10274', '10697', '3535', '6345', '4380', '5180', '2704', '11194,06', '3100', '3935', '11689', '6373', '6396', '25570', '44030', '17946,2', '21190', '18180', '27200', '20390', '5292', '12903', '24198,2', '10991', '7890', '25177', '4021,92', '20229', '11040', '6692', '20143', '5570', '12510', '27000', '20381', '8689', '22455', '12339', '24239', '15602', '3769', '10550', '8991', '33097', '5432', '11620', '27886', '41929', '19760', '22945', '5019', '26330', '5773', '8262', '8320', '23480', '26060', '18246', '19991', '7190', '34740', '3460', '13465', '16870', '19730', '8917', '11135', '39638', '18468', '29065', '13850', '25740', '70410', '5390', '13530', '30200', '6744', '21984,55', '26499', '10925', '7581', '98136', '3270', '17901', '11830', '5890', '5091', '22672', '4890,2', '19145', '23950', '6470,9', '14990,95', '35787', '27796', '3149', '5449', '29470', '19610', '11995', '11496', '8630', '5219', '6756', '6843', '14295', '27781', '5688', '23750', '31502', '7630', '14398', '7163', '16868', '16859', '6240', '7740', '2489,4', '6890', '4230', '15098', '28945', '4460', '6346', '11970', '8068', '10112,8', '28778,3', '12290', '17624', '31702', '2650', '4952', '2039', '7860', '9900', '25000', '18450', '7433', '29234', '29334', '17162', '11377', '3940', '8741', '5155', '5568', '15427', '6263', '2529,61', '8901', '12910', '4752', '15226', '7516', '57593', '19899', '18790', '24768', '15990', '15127,38', '5630', '34000', '44760', '15690', '10290', '23365', '12514', '11727', '26174', '49500', '12189', '7495', '10350', '22240', '16438', '21349', '26395', '5270', '10025', '11204', '4150,95', '7115', '71400', '24835', '6828', '8540', '7687', '21388', '56700', '6950', '10752', '26780', '15325', '18720', '10445', '10448', '17750', '11651', '7540', '17873,75', '8878', '49743', '29789,91', '20928', '6127', '6200', '12597', '30390', '12680', '22307', '3590', '63271', '7909', '10205,5', '11685', '3199', '5100', '4060', '19593', '2072,7', '5150', '8745', '27348', '30960', '4745', '23852', '78000', '19850', '78390', '11400', '4867', '13193', '12616', '22955', '6445', '3215', '14489,2', '4177', '21580', '5238', '10855', '6560', '34120', '13040', '4097', '9072', '4018', '22589', '12953', '9128', '21915', '21042', '5510', '14618', '32397', '48000', '2498', '23315', '5738', '5712', '21920', '13700', '43573', '4208', '53364', '61250', '6537', '4973', '20205', '14996', '5759', '13981,8', '8381', '39254', '3167', '4701,6', '5268', '7667', '23110', '26524', '7077', '2270', '5670', '10330', '3195,9', '4809', '28162', '30299', '25492', '17600', '31933', '4889', '12053', '10447', '26500', '23745', '5825', '10980', '2573', '16975', '36093', '28000', '87570', '3119', '14215', '26461,91', '22317', '8400', '25240', '13400', '6101', '8610', '39160', '4026,55', '5950', '7088', '16613', '26872', '20583', '19044', '24889', '81612', '15500', '13016', '12849', '12315', '34295', '8456', '10010', '4641', '3285', '10708', '15128', '61290', '20424', '7302', '2578', '51570', '26837', '30951', '4336,2', '18547', '64670', '11289', '2390', '7135', '15930', '9690', '35900', '23320', '15291', '19854', '8047,1', '15160', '20530', '14773', '12566', '5796', '16418', '30799', '28338', '6567', '23783', '10844', '19046', '14990', '7060', '3877', '33996', '12428,7', '13780,82', '13835', '9498', '39830', '24752', '30220', '21800', '6390', '46729', '21069,8', '28208', '10429', '13495', '14185', '16980', '13690', '26339', '7020,9', '4744', '2961', '20990', '35775', '8055', '82910', '8156', '4769', '29640', '10262,2', '13875', '39388', '16065', '38070', '10950', '49227', '3239', '6119', '89200', '24047', '7563', '14916', '8640', '20995', '17720', '8833', '11290', '17360', '5520', '3069,9', '23470', '9995', '9647', '14494', '20999', '3682', '15065', '19591,36', '12742', '18463', '22635', '13250', '4311', '12417', '2223', '28722', '6925', '5480', '7342', '3530', '9447', '33725', '2330', '17556', '9983', '15619', '37466', '10904', '3825', '21490', '2730', '22212', '9560', '7750', '10695,13', '17270', '11302', '18849', '25897', '19819', '2724', '18575,2', '116360', '26260', '7991', '6190', '10576', '24777', '20575', '75535,08', '13539,2', '15430', '8091', '21320', '6193', '17503', '10566', '31680', '15870', '4290', '10097', '91536', '25540', '10417', '4114', '34150', '11466', '26410', '4291', '13383', '15398', '36617', '4169', '20053', '10300', '8755', '30796', '38880', '22263', '29266', '6069', '2930', '19047', '28500', '31817,2', '3222,9', '13820', '28079,84', '3990,92', '5377', '12646', '11126', '12447', '14330', '18495', '6467', '22656', '6520', '20196', '33510', '6289', '21901', '5988', '4329', '22999', '15838', '6380,91', '19099', '10248,2', '2241', '11600', '8006,1', '9300', '46800', '15540', '30999', '4090', '22598,1', '12840', '17060', '20133', '19665', '13989,4', '10231', '13770', '25800', '4650', '9529', '28933', '25631', '21286', '9396', '10989', '11677', '22498', '23310', '10320', '7191', '4314', '20063', '96000', '21290', '18654', '29294', '16621', '6452', '3222', '25881', '18582', '20277', '12695', '26329', '12246', '6199', '9390', '34557,1', '3882', '11247', '6838', '9417', '6682', '23396', '13688', '28930', '4458', '3339', '9728', '16977', '88300', '7422', '17869', '17950', '18119', '6787,8', '85270', '6720', '26999,2', '2950', '12490', '5870', '32955', '12050', '32370', '21160', '13577', '18010', '15512', '7655', '13665', '10020', '4150', '10972', '6115', '19950', '15653', '21347', '8095', '48900', '19490', '9167', '17540', '16098', '2700', '15067', '8999', '29612', '30430', '24640', '36800', '10349', '16362', '12610', '7490', '19589', '7582', '24015', '17648', '7430', '76360', '3890', '18050', '27196,1', '21480', '12127', '17045', '11150', '6680', '5929,95', '11672', '47704', '26099', '33120', '34195', '11259', '6498', '5162', '3376,8', '7610', '28890', '25713', '21620', '8832', '12390', '15840', '87600', '26370', '11297', '4041,9', '13952,73', '21506', '28016', '24179', '16799,4', '82800', '25991', '34990,8', '20770', '14780', '20505', '50400', '6354', '8499', '9999', '13905', '10147', '17690', '28059', '5207', '5353,5', '30190', '6991', '21330', '14947', '17199', '21180', '4148', '13891,5', '10124', '18006', '21146,4', '10880', '12762', '7693', '5912', '3647', '6399', '2873', '15844', '27925', '26650', '5562', '21736,2', '7066', '28950', '25220', '32280', '19460', '4520', '34479', '18338', '7620', '27795', '9538', '50970', '12325', '56899', '11764', '2850', '22299', '5232,2', '8730', '35580,91', '24600', '23499', '24830', '8549', '20431', '4581,87', '14609', '20007', '37495,2', '10616', '5189', '22490', '20375', '24270', '6247,8', '14885', '13230', '21350', '10760', '8361', '5300', '4535', '17379', '17276', '32090', '2629,8', '18972', '3387', '11477', '3168', '10850', '2470', '14669', '22798', '21899,94', '41171', '18885', '10456', '3520', '38778,01', '16540', '28230', '19800', '35990', '8904', '28879', '24300', '5225', '24003', '3892', '13350', '8788', '14160', '27714', '7511', '10130', '9840', '3159', '29336,4', '3109', '4250', '25887', '26990', '28098', '4485', '8405', '17714', '32576,5', '18702', '25588', '14645', '6561', '15034', '10090', '4330', '2500', '19260', '9570', '73996', '3690,82', '37360', '6161', '17590', '13679', '3654', '32490', '5240', '7369,7', '16965', '62000', '7047', '12889', '19316', '25068,94', '27010', '28551', '30422', '58947', '4964', '5427', '9021', '19880', '4575', '27370', '2322', '8390', '8341', '31090', '22214,69', '11753', '16407', '8536', '2435', '14648', '7968', '3640', '13800', '28850', '4050', '34020', '35793', '18090', '21060', '60829', '13141', '15255', '15496', '8639', '16647', '35320', '11796', '37400', '9264,69', '12396', '7885', '10940', '6980', '7745', '21750', '4140,2', '3961', '21685', '33300', '6048', '30150', '3542', '7307', '9496', '10999', '26140', '4059', '43631', '23475', '21658', '8380', '3314', '18440', '5487', '22160', '6780,95', '10616,4', '33358,84', '20350', '11927', '3492', '22803', '12290,9', '3103,2', '22080', '81743,87', '2190', '14165', '6291', '4740', '30656', '7492', '3205', '4743,68', '93000', '14388,3', '11968', '29006', '24330', '5030', '17575', '15865,65', '46695', '62550', '9664,5', '13280', '21598', '6726,1', '6514', '14849', '17704', '20698,1', '15580', '18789', '9116', '40000', '11499', '6469', '8744', '4611', '9158', '43682', '28641', '6863', '22200', '11900', '6297', '19977', '18067', '10769', '11487', '3076', '25506,19', '13888', '9927', '18085', '40050', '11350', '2559', '20610', '17190', '23240', '5931,8', '12999', '5634', '24301', '8127', '16551', '6210', '4522', '17480', '10770', '18414', '6309', '16063', '25299', '6058,1', '9573', '21204', '30420', '33570', '17020', '6269', '15470', '33330', '19772', '7100', '5865', '7230', '4475', '24717', '11943', '5268,47', '11655', '42000', '9997', '16596', '13098', '8410', '5575', '5152', '9866', '21484', '5636', '21810', '20648', '32990', '8441', '10238,82', '8879', '4040', '23152', '15020', '9295', '26960', '19278', '18280', '6299,2', '3959', '14240', '3996,9', '18450,8', '5940', '16045,2', '6219', '2936', '3541', '22600', '25904', '7105', '6129', '9510', '10048', '15290,7', '9986', '9622,77', '4372,2', '16823', '34821', '8835', '15003', '16489,9', '4617', '17510', '15115', '71243', '13590', '23854', '9160', '79679', '18997', '17769', '18361', '13386', '31000', '25855', '29070', '9538,9', '9650', '9621', '7290', '30946,29', '23259', '41994', '8767', '86618', '7739', '10680', '19470', '10322', '13294', '3617', '2928', '2075', '4493', '11795', '15599', '23411', '25313', '19650', '39900', '19960', '10463', '31300', '14570,01', '7319', '10590', '20393', '24630', '55846', '15760', '9908', '4479', '11748,2', '3137', '76738', '33190', '20430', '13195', '21430', '7710', '16010', '15041', '12755', '27398', '3598', '5869', '29345', '29858', '14013', '2995', '21940', '11080', '4645', '9574', '24120', '15625', '17316', '30813', '6860', '14030', '11296', '16499', '14688', '19083', '7794', '23377', '29300', '2420', '11789', '35100', '6792', '11990', '24100,83', '8600', '17838', '3800', '14446,3', '8076', '18121', '11060', '99540', '12730', '10555', '20850', '7150', '11426', '24502', '5405', '16140', '79910', '28590', '9130', '75000', '6053', '11081,52', '23715', '4220', '50177', '24423', '19529', '14361', '5088', '3031', '18290', '3493', '9971,3', '14133', '19905', '15164', '24408', '12890,92', '14698', '22050', '5715', '20313', '9438', '7289', '9592', '2372', '10609,2', '5889', '35744', '11025', '6181', '16198', '27898', '12784', '9595', '4633', '17920', '61540', '6875', '7847', '52000', '18540', '7386,75', '7700', '14891', '25639', '31580', '14787', '24131', '47529,91', '14940', '15120', '16561', '9809', '11321', '40200', '27939', '9504', '7299', '22275', '37480', '4896', '35530', '31450', '12904', '23749,76', '12232', '9365', '7560', '2250', '16950', '16284', '7776', '5301', '28221', '3231', '46385', '11428', '12508,2', '15016', '4212,9', '5347', '19883', '11528', '10759', '6840', '28428', '16200', '12789', '13948,2', '3023,58', '3749', '24280', '11293', '33030', '15748', '7291,85', '10374', '7850', '6903', '15556', '12591', '11539', '21520', '3799', '5525', '15950', '4275', '2572', '3681', '15863', '19011', '20242', '7220', '90590', '26091', '72885,57', '5128', '18340', '18799', '18906', '7995', '12290,94', '5149', '24233', '11180', '11446', '14219', '13290', '29697', '21300', '14820', '38058', '4872', '6323,33', '4779', '25298', '10525,01', '4498', '18840', '10640', '15097', '15099', '21960', '15695', '12265', '2299', '19728', '6873', '25350', '14510', '18198', '22233', '29900', '44660', '7905', '17558', '22810', '24200', '3310', '26529', '45500', '24519', '46540', '15299', '27096', '10394', '36570', '41907', '22075', '23920', '7629', '3090', '16367', '3619', '14709', '3898,1', '20670', '31224', '32617', '4969', '18686', '28450', '25199', '35035,2', '6600', '3680', '22480', '17325', '9850', '46156', '4918', '44900', '10373', '5272', '9576', '25317', '30031', '9825', '23020', '17470', '8381,5', '7609,5', '8149', '23124', '22394', '4600', '5360', '16090', '10820', '3396', '12320', '11860', '18670', '23050', '32975,3', '12077', '5669', '19966', '3792,92', '7310', '6906', '21592', '16099', '78150', '9680', '17795', '7770', '17820', '17450', '7910', '3547', '4260', '16399', '11754', '7713,42', '25182,4', '14420', '11800', '17099', '10220', '3848', '9652', '14065', '5724,2', '3063', '28557', '8020', '29690', '7940', '3269', '18784', '30230', '12549,07', '11725', '39590', '6739', '4056', '6490,5', '77860', '18690', '11690', '19611', '3752', '37200', '13985', '3145', '5745,12', '14574', '24840', '22500', '15822', '11890', '23980', '5424', '18566', '34630', '21907', '5913', '6415', '5610', '10188', '25420', '10548', '18750', '10529', '5683', '18197', '11385', '36730', '21999', '16860', '19750', '25780', '4644', '16317', '14700', '6323', '11730', '11315', '5794', '3350', '20464', '11558', '3943', '28116', '7240', '3200', '12600', '9977', '6481,8', '22880', '6782', '10295', '5936', '15300', '26848', '16899', '4826', '18535', '13100', '12024', '35332', '7645', '18810', '32400', '12716', '6380', '20680', '7875', '22300', '7201', '19430', '20298', '4326', '5970', '20620', '7019', '3730', '7682', '2781', '14744', '12048', '8770', '17890', '3895', '27456', '18891', '6365', '5921', '13312', '37531', '13000', '7030', '15640', '17520', '19420', '15629', '32935', '10240', '15857', '4182', '9525', '8225', '22345', '21050', '4491', '95441', '7157', '10591', '11999', '16199', '6499', '3516', '19770', '14930', '14440', '17888', '15084', '13300', '28983', '25225', '18260', '18185', '10837', '10286', '4268', '15354', '10034', '16498', '27166', '12380', '9991', '21279', '20561', '3509', '18113', '24283', '8590', '11529,91', '5295', '5496', '28517', '4843', '23355', '4370', '10057', '16960', '16416', '20040', '10390', '14938', '10789', '12318', '23391', '31610', '36308', '66680', '29650', '27062', '75424', '8598', '8860', '32348', '11740', '11055', '8625', '29390', '57581', '37752', '17697', '34699', '12509,9', '7140', '4495', '3885', '35450', '11817', '14175', '6189,3', '25460', '11399', '20598', '26489', '20155', '9973', '4089', '31250', '9813', '22640', '23792', '2070', '4079', '20767', '25500', '3879', '11787', '6679', '15442', '4320', '7980', '5888', '4408', '16999', '4674', '17531', '3490,91', '89640', '8890', '16450,71', '3690', '13671', '14696', '13592', '5419', '11063', '8140', '4070', '9325', '11718,94', '29380', '15789', '24160', '8846', '8619', '18240', '15670', '5545', '20490', '23451', '9950', '21927', '21880', '3906', '15739', '13150', '32670,79', '49100', '5942', '12097', '6647', '26690', '4189', '5573', '21295', '15359', '22428', '33450', '3950', '10413', '18481', '19286', '8200', '9655', '6336', '3771', '8500', '14950', '6429', '7050', '21746', '13678', '9278', '26183,5', '3717', '56340', '21784', '17100', '7621', '8595', '16190', '10699', '4390', '24690', '28273', '9248', '8690', '15600', '9899,92', '76000', '4299', '3316', '19040', '20768', '22269', '30361', '20338', '16850', '18171', '6964', '11362', '9425', '12655', '9497', '22188', '26462', '17448', '6881', '19464', '23200', '3238', '14337', '3990', '35670', '8490,92', '12389', '9287', '33800', '11639', '15010', '15696', '21479', '24190', '9199', '78550', '13563', '17615', '9480', '21717,92', '5681', '22660', '27617,1', '10442', '7947', '30990', '18549', '20091', '4789,92', '11039', '2268', '15292', '12711', '18890', '30826', '19021', '15127,4', '14441', '3869', '3798,9', '5261', '34766', '7478,2', '5852', '10439', '5288', '6898', '5404', '37800', '11755', '6651', '2569', '7830', '14760', '6650', '22558', '27962', '9515', '9367', '8297', '33400', '17366', '4869,66', '6504', '3358', '14044', '39276', '19000', '14917', '29200', '4077', '18216', '18711,05', '31415', '2979', '25950', '8830', '36194', '20792', '18528', '4252', '18400', '35326', '5832', '9230', '22522', '35991', '8011', '16290', '19475', '18144', '17203', '13180', '40110', '6703', '19089', '48920', '30597', '8581', '56277', '24328', '14840', '23331', '29875', '16848', '7395', '15784', '28490', '12900', '8398', '5535', '5614', '8419', '6347', '3860', '10735', '22850', '18725', '7011', '9250', '17671,2', '9738', '24465', '15980', '4938', '28420', '19269', '3591', '48800', '3762', '12465', '27600', '20069,33', '22430', '12541', '2759', '23890', '4758', '5650', '26550', '8515', '13745', '3865', '8071', '9689', '24650', '3834', '3670', '22645', '3779', '4945', '17073', '19572,1', '12310', '4100', '3886', '23700', '39000', '34422', '10400', '21950', '23797', '15910', '20992,78', '24520', '4986,5', '21009', '6411,72', '32525', '10551', '5789', '9917', '9230,9', '24059', '12480', '9240', '2000,51', '2310', '6503', '19375', '6282', '19547', '35201', '6120', '17568,3', '13287', '36980', '25937', '10499', '20536,1', '11269', '4879,8', '18825', '12537', '26920', '5388', '5350', '10085,9', '26871', '18602', '12608', '2691,9', '3722', '22617', '2957', '2447', '7556', '27020', '8099', '9153', '2160', '23251', '15850', '3383', '16740', '22800', '33850', '20820,44', '3675', '31460', '11227', '11518', '7649', '11646', '5736,6', '14200', '48572', '26170', '10298', '5265', '3614', '19439', '8120', '11670', '3560', '9393', '6299', '7020', '6040', '12908', '6136', '16629', '6960', '14798', '6400', '7586', '6610', '13768', '38250', '24475', '29206', '18030', '10978', '9754', '23220', '5239', '40480', '14205', '18734', '8957', '13843', '2060', '18300', '14678', '8270', '12959', '15468', '19791', '14321', '2495', '25105,1', '8185', '17091,9', '17459', '5590', '45280', '19133', '11322', '29990', '4999', '9971,89', '31792', '16700', '27472', '8186', '19184', '14521', '9988', '8638', '32200', '19580', '4596', '8230', '9000', '18603', '6088', '27670', '59009', '17930', '13793', '11368', '40490,91', '10052', '70047', '9416', '28594', '12213', '13275', '21700', '4790', '27449', '26120', '28728', '7285', '4840', '4454', '47691', '22792', '5765', '3237', '15200', '12132', '16485', '17380', '7920', '14636', '4262', '16879', '19489,91', '15220', '7679', '3889', '2679', '29970', '31990', '2590', '20989', '6329', '23677', '51000', '7112', '11264,25', '96200', '13507', '37818', '15547', '6146', '13462', '5676', '25587', '5276', '5748', '88555', '18630', '6367', '6330', '4727', '6700', '10992', '6854', '39600', '9310', '23667', '6889', '16993', '6182', '7618', '12720', '11405', '6799', '22252', '25896', '10029,92', '4080', '19660', '21062', '18187', '12342', '10198', '21994', '26695,8', '7420', '32481,83', '14880', '30372', '15800', '22356', '3311', '2333', '14850', '7249', '12136', '8564', '15360', '16199,2', '21660', '17347', '11266', '9144', '10348', '7210', '11323', '87880', '7547,2', '21328', '31587', '8920', '5830', '4489', '35145', '2595', '16280', '50098', '3490', '33192', '23865', '55000', '4318,2', '20755', '16824', '10611', '12696', '6561,9', '13184', '3663', '21588', '5798', '6089', '26896', '3429', '44290', '24495', '11389,2', '18850', '23912', '28970', '24314', '3798', '29100', '9282', '9880', '28509', '31800', '20498,1', '12210', '7425', '3916', '24466', '3032', '5032', '4590,2', '3701', '19560', '43950', '13790', '22515', '16880,91', '6590', '27900', '8370', '15100', '17595', '16370', '13463', '5499', '6237,03', '26346', '18458', '15810', '61920', '17483', '10022', '2305,8', '3928', '27877', '6570', '5409', '12650', '5579', '4013', '7872', '22320', '7166', '5708', '30196', '3879,17', '3919', '12019', '19993,4', '10163', '17310', '10628', '15199', '23711', '9989', '29384', '20409', '15040', '16653', '3089', '15940', '21200', '37656', '13010', '8129', '8430', '11669', '24061', '18230', '32415', '12398', '13490', '22575', '4099', '6721', '28861', '19289', '10340', '23060', '41100', '9823', '11370', '22221', '19440', '13140', '14795', '13469', '25140', '28845', '13455', '3955', '17670', '9557,1', '47247', '18220', '10646', '78120', '4842', '15215', '35563', '13448', '31596,92', '5456', '20443', '14387', '23713', '13815', '2800', '14083', '11877', '11630', '20753', '6652', '15598', '74482', '32335', '26090', '22940', '4700', '17780', '34190', '21214', '26941', '5720', '23300', '11498', '14994,6', '15824', '12948', '6496,1', '31278', '13900', '17261', '29680', '5211', '30686', '76550', '12472', '21473', '7749', '27945', '13476', '5040', '26819', '27560', '5282', '2165,4', '13392', '17039,91', '6550', '74319', '36805', '18590', '60500', '27995', '14528', '6543', '13410', '16081', '60080', '44700', '9170', '32444', '6295', '12898', '31498', '22970', '22570', '20132', '8980', '10803,84', '11223', '17631', '8057', '11910', '10801', '7867', '20536', '2660', '18900', '19296', '17451', '24771', '8889', '5748,3', '13730', '8491,82', '10580', '19170', '22098', '90200', '6035', '10730', '34449', '7478', '6984', '29615', '16040', '4638', '22951', '2366', '3407', '42950', '8775', '19798', '7550', '23103', '27450', '18445', '19680', '36490', '25520', '17997', '4350', '49490', '15440', '26800', '2439', '20650', '19790', '21600', '17789', '20659', '29592', '13720', '16320', '30920', '44100', '19925', '12810', '18592', '27769', '16050', '9799', '13550', '7350', '28039', '22162', '9567', '14328', '35825', '4452,91', '3904,3', '9432', '12220', '25145,79', '29997,24', '16834', '3035', '23202', '9251', '28999', '8886', '18374', '17970', '7258', '4750', '7334', '30720', '26430', '6698,3', '17370', '21895', '16244,9', '32750', '29430', '23148', '5309', '40080', '15639', '8180', '22236', '18389', '12251', '5805', '11750', '20237', '30100', '26280', '11514', '4190', '22225', '5645', '13265', '22962', '13438,3', '4366', '24399', '17215', '13387', '41498', '7488', '10841', '7514', '10920', '4428,1', '4039', '28210', '10917', '13080', '8718,1', '11429', '22302', '13087', '10424,6', '15400', '19358', '3400', '23397', '10693', '8295', '58490', '17273', '8160', '18819', '17397', '17900', '3110', '37017', '2799', '10479', '16500', '2243,7', '7250', '5599', '35529', '35360', '6460', '28469', '5770', '17981,9', '4980', '10060', '8350', '41470', '16507', '9345', '22290', '29799', '9793', '4610', '5455,8', '5011', '12421', '2880', '27400', '19116', '19106', '4680', '34999', '3138', '19930', '2860', '20862', '11850', '14948', '19513', '19035', '15450', '11935', '33821', '10737', '5605', '9189', '13599', '7370', '3744', '3989', '14781', '10506,76', '32980', '17350', '10260', '52295', '4095', '28224', '11697,1', '5306', '12902', '40313', '23370', '10990,94', '12860', '29898', '14230', '17425', '22960', '18020', '20690', '32828', '4115', '29177', '17146', '18820', '33881', '65250', '6715,2', '9117', '35598', '24950', '12490,9', '5357', '12580', '23998', '8651', '16670', '23688', '7198', '10671', '6549,83', '5898', '15380', '24490', '11450', '2028,56', '30324', '19840,5', '16000', '6831', '13650', '11950', '4837', '9347', '14610', '20140', '4525', '7588', '7595', '18270', '24340', '14661', '25386', '4619', '7083,05', '4276', '17330', '11441', '8438', '16312', '20324,92', '7454', '26710', '5337', '26720', '20009', '10970', '18669,2', '4328,1', '3555', '5267', '26730', '7144', '70500', '22700', '3690,92', '6279', '3700', '3801', '12944', '9681,5', '9910', '19751', '12211', '14400', '10740,64', '18175', '25167', '4103', '16350', '7796', '20877', '4315', '3059', '4607', '23737', '10492', '13489', '12300', '10428', '18200', '55500', '12530', '24070', '12511', '6967', '19521', '15370', '17089,9', '13941', '6500', '16900', '30603', '12366', '17756', '7650', '4191', '10714', '13899', '10149', '35700', '9468', '4720', '23650', '3180', '13527', '19940', '16600', '29205', '2450', '49860', '20295', '18970', '19080', '21597', '25150', '92000', '3107,7', '6876', '6099', '28781', '3039', '29040', '14050', '7440', '5400', '5143', '7279', '17091', '6142', '3924', '62700', '4996,8', '4476', '7735', '19809', '3717,9', '9830', '23146', '15201', '24281', '6049', '5936,81', '19230', '23684', '17790', '6424', '31991', '35770', '27905', '13848', '23197', '9577,8', '6575', '17272', '14350', '31491', '17592', '6959', '6918,34', '21865', '3434', '27599', '6697', '42669', '5160', '15390', '39240', '21805', '3114', '9360', '19404', '6776', '13890', '12899', '7194,72', '3354', '10734', '9444', '7101', '18749', '23121', '18096', '6086', '5436', '20250', '27990', '10450', '35250', '4490', '23390', '17541', '6950,7', '29526,12', '19218', '8532', '8117', '7625', '21930', '7812', '11880', '10712', '16011', '53499', '22310', '14999', '2180', '11892', '5130', '18550', '29780', '5827', '13747', '29980', '3419', '14927,83', '16470', '25250', '18022', '12095', '4290,9', '3385,92', '2520', '8389,91', '36267', '4244', '3602', '20820,2', '37000', '22410', '18012', '6948', '20601', '11240', '14260', '61600', '74700', '6342', '2031', '5110', '16992', '86071', '19945,35', '7766', '5340', '5384', '6075', '4773', '8037', '6691', '14449', '9928', '13326', '14250', '4400', '13078', '5740', '4200', '30000', '4947', '16635', '24933', '5489', '12411', '10084', '38625', '29933,4', '9545', '40521', '29653', '4242', '25760', '11938', '25280', '21860', '20046', '14189', '24450', '25158', '31333', '54000', '9842', '9443', '12972', '30545', '19295', '13644', '32940', '15336', '12110', '10366', '4572', '67950', '15210', '10000', '28810', '8829', '36400', '26875', '38850', '11700', '32499', '28110', '11236', '23154', '3808', '12800', '17432', '22898', '30599', '11349', '11799', '14848', '20710', '10248', '3188', '5222', '9013', '8620', '5723', '13920', '10599', '15070', '24721', '49653', '13709', '4950', '9840,6', '22930', '17752', '59760', '14472', '3745', '12451', '2748', '28215', '8398,1', '14204', '52561', '3941', '12425', '27234', '11580', '16447', '3393', '21704', '10782', '6381', '17254', '34500', '20190', '13990,92', '25940', '18491', '9720', '9588', '33476', '14646', '22338,94', '23040', '13248', '88440', '2580', '25840', '8490', '13302', '21105', '7747', '6920', '12038', '19782', '5366', '13930', '12991,82', '31520', '29012', '18880', '6766,4', '29493', '9445', '20050', '77762', '23095', '6835', '39980', '4888', '8459', '33760', '24980', '40180', '13950', '14004', '3329', '23575', '16880', '25983', '16598', '21280', '9892', '6938', '7760', '19037,2', '21858', '4624', '15856', '21410', '5860', '20209', '12940', '9212', '17854', '6490', '34396', '29663', '17117', '17528', '29500', '5602', '34154', '62468', '2290,7', '12170', '20160', '50940', '15912', '11192', '28900', '12546', '4998', '5555', '17040', '7780', '18074', '17630', '12044', '3854', '9456', '10795', '27759', '3780', '8080', '10846', '79380', '28308', '3570', '4118', '39865', '27190', '5687', '11390', '19540', '16865', '19500', '5364', '13959', '29295', '10523', '29677', '3356', '8644', '16114', '20658,2', '30350', '7997', '17339', '4915', '27070', '21398', '6109', '18130', '33111', '45665', '10520', '10720', '14168', '12845', '23100', '20433', '84630', '16214', '23680', '14651', '31500', '10635', '6375', '7790', '17940', '14206', '37560', '13421', '31091', '18898', '11589', '10230', '12980', '15085', '19390', '4375', '22469', '22662', '26232', '3660', '4560', '9276', '12209,5', '9429', '17006', '16180', '21640', '11050', '11455', '16020', '10058,5', '7373', '21578', '17949', '5472', '6118', '19976', '6105', '14119', '4816', '4122', '15685', '14207,1', '7137', '4403', '26034', '4109', '18472', '25623', '9837', '13320', '5754', '7752', '16170', '2934', '20609', '5250', '19740', '83194', '18225', '14500', '22427', '8050', '4963', '6596', '24647', '6834', '9614', '14637', '9019', '27790', '4664', '7497', '26770', '8666', '62800', '14949', '29699', '13640', '25641', '8910', '4820', '24130', '5616,15', '22920', '30820', '6348', '3636,9', '14570', '11394', '18490,91', '15027', '7755', '6360', '7084', '24929', '6170', '17775', '10080', '17839,92', '4248', '18286', '5210', '20480', '24480', '12347', '3850', '16785', '6311', '9074', '10706', '14770', '20225', '28055', '13630', '8883', '18960', '3173', '26150', '5932', '13686', '10830', '9855', '22616', '12474', '16840', '2430', '40900', '7590', '4608', '9710', '10435', '6260', '36000', '12947', '15832', '20570', '27250', '22040', '33700', '33255', '15313', '10818', '12060', '31538', '3353', '10990,92', '19085', '20379,5', '50879,83', '19890', '19280', '24711', '78800', '13450', '34199', '25447', '7123', '9913', '16092', '3883', '3072', '16389', '16789,98', '69500', '4983', '8697', '7611', '4430', '3179', '14094', '9791', '28042', '11383', '6273', '7147', '12599,9', '21246', '7604', '3280', '25498', '4777', '18780', '4072', '3275', '34891', '23382', '16989,92', '8233,95', '12850', '13641,3', '14391', '8675', '16395', '3892,2', '10438', '7040', '6125', '2238', '4284', '41490', '5451', '21482', '21450', '6780', '7800', '18099', '13170', '20980', '19187', '12575', '6393', '18719', '4165', '9798', '9655,2', '6130', '4673', '11615,4', '18143', '3599', '6027', '13298', '6758', '5840', '3450', '7174,6', '4838', '14443', '6698', '15121', '12554', '10879', '21840', '25050', '4630', '14270', '5415', '10418', '12690', '35767,4', '14590', '19719', '9080', '23037', '26820', '5818,5', '9580', '22082', '61000', '10990,91', '3128,2', '14530', '6288', '6870', '24667', '13591', '11199', '13190', '9845', '42740', '5119', '21038', '7035', '10939', '29075', '3359', '13010,94', '5790', '12330', '17428', '3255', '7638', '13499', '4891', '5482', '13365', '20220', '13669', '22848', '9406', '5977', '15498', '29450', '7498,9', '11398', '10655', '14338', '5345', '24833', '13880', '9069', '10115', '20086', '5105,7', '17298', '3028', '9308', '21630', '7899', '12434', '22528', '12219', '7878', '23094', '28971', '24458', '49798,1', '25900', '14750', '20863', '18068', '41125,88', '10073', '26543', '9654', '4850', '6510', '47195,92', '11930', '47789', '3827', '16390', '12803,4', '17885', '3490,92', '49838', '60000', '14396', '31040', '28666', '9586', '14092', '20179', '37857,2', '64660', '8785', '6819', '6747', '26055', '24119', '11598', '42320', '23000', '19205', '9042', '11286', '17476', '12090', '10185', '24900', '12914', '9733', '17610', '19993', '29590', '20636,91', '19886', '4576,5', '21400', '11243', '10347', '7120', '16649', '6785', '39627', '7281,94', '32580', '14766', '52509', '2045', '12236', '24470', '3646', '15725', '10971', '21187', '40756', '7880', '9280', '20397', '5228', '2881', '15246', '14257,91', '11786,85', '4930', '4010', '19843', '21650', '11133', '9600', '27480', '8171', '12092', '4761', '8685', '30391', '6100', '37069', '11876', '17712', '8235', '5097', '2088', '12699', '3510', '23440', '3537', '14730', '73300', '24370', '13620', '13689', '8720', '5031', '4270', '13447', '30198', '21550', '16730', '7472', '34466,4', '63320', '7848', '21938', '16940', '4869', '9097', '8515,7', '62240', '11540', '10960', '2255,4', '9985', '9398', '17000', '8289', '4703', '46881', '8750', '16448', '7110', '3933', '10500', '11897', '22413', '3187', '18251', '6598', '15555', '17998', '53162', '28060', '13699', '11842', '10968', '13440', '3849', '6435', '43373', '65400', '11691', '5922', '7313', '18329', '7228,2', '13324', '19045', '16998', '10540', '6130,8', '6050', '41837', '20317', '10898', '15314', '7300', '10001', '33280', '13336', '24380', '14089', '26054', '8717', '24103', '5871', '27470', '11304', '19746', '6457', '28090', '24220', '25680', '11115', '23500', '4878', '41936', '9420', '4088', '20800', '10140', '5960', '5064', '32500', '22670', '8530', '4730', '38800', '18045', '3320', '19340', '9341', '19250', '24250', '4595', '13841', '19125', '14096', '16550', '7337', '10170', '3480', '31790', '23488', '14360', '6386', '16400', '15520', '7730', '13380,56', '23706', '29285', '14046', '3128', '7002', '13992', '17075', '5994', '17990', '3909', '17840', '3500', '2990,92', '14718', '27970', '4420', '28241', '4508', '17388', '22011', '17076,2', '6166', '4781', '23577', '3910', '16745', '3410', '26547,1', '16440', '12197', '11456', '7362', '23971', '16743', '10656', '29280', '26930', '13199', '29700', '27541', '25080', '14348', '12450', '3868', '11529', '3894', '13460', '24132', '23204', '15293', '22384', '15790', '8228', '5588', '28600', '19110', '8844', '10389', '12512', '33990', '24867', '26886', '83000', '4064', '12397', '15033', '12645', '16420', '51370', '15705', '10505,5', '28674', '17466', '25627', '4743', '22244', '10853', '8280', '14619', '7648', '29750', '16961,1', '3894,2', '13315', '4041', '6820', '12470', '24682', '22872', '25320', '21298', '32844', '22110', '5706', '9760', '9500', '6281', '3424', '22167,6', '8322,77', '26950', '9025', '4962', '8763', '12340', '9169', '9551', '5829', '6103', '26397', '9994', '16100', '7820', '31190', '21405', '21124', '18426', '119700', '8128', '4074', '5700', '11212', '29199', '3399', '7859', '11049', '22561', '2635', '66504', '25227', '15096', '5017,9', '12260', '17398,2', '47309', '4920', '4239', '28800', '11159', '10431', '2940', '17660', '18080', '12598,1', '4188', '14150', '9990,91', '5735,7', '39110', '16897', '8424', '5025', '12830', '5910', '6479', '6020', '13829', '84000', '11488', '3290', '18425', '35992', '27846', '25720', '7340', '34162', '3548', '8000', '14490', '4905', '23070,6', '23784', '9009', '6998', '18896', '6519', '36290', '7327', '12848', '26660,2', '10490,91', '5195', '7908', '15216,06', '14229', '8780', '5807', '81000', '4195', '19457', '21597,8', '4890', '5749', '15309', '11225', '22450', '5051', '22692', '18962', '10854', '6793', '7509', '16501', '3784', '24236', '6880', '5611', '5980', '5751', '5260', '8237', '10987', '15647', '3720', '6839', '11687', '13360', '9769', '29120', '8132', '6204', '11765', '25440', '12463', '12424', '6024', '31499', '5855', '5963', '2909', '7549,89', '11719', '31696', '2499', '11751', '38570', '8943', '31060', '2400', '4735', '44500', '16662', '6283', '6630', '5010', '22618', '5718', '12493', '3430', '13390', '22323', '20370', '17538', '20488', '27493', '17173', '11305', '5076', '8432', '23290', '14910', '2183', '10890', '6748', '9891', '21536', '84558', '8550', '32846', '3360', '35400', '15490', '23661', '19320', '6883', '41210', '35960', '23795', '30879,55', '43200', '26989', '23128', '30735', '11980', '13558', '15270', '12749', '5329', '16250', '24800', '15280', '6779', '24700', '3987', '16948', '7404', '23992', '23900', '22760', '8517', '13949', '22419', '3748', '14380', '3699', '27986', '29460', '10024', '17367', '18724', '25700', '5840,5', '20500', '4590', '40970', '3250', '31646', '7640', '6163', '22947', '8268', '21312', '6580', '12506', '5440', '10538', '14383', '19150', '3920', '35000', '15102', '11376', '12890', '13456', '6136,58', '16760', '9533', '38340', '11130', '19377', '10936', '9215', '13441', '6750', '17988', '26355', '17010', '16030', '13288', '33100', '4922', '27342,5', '6969', '6190,92', '7676', '2907', '3870', '8025', '15435', '28440', '11940', '6492', '13480', '4658', '15759', '28402', '42746', '12284', '2360', '9342', '9371', '10605', '11590', '45672', '11600,6', '19797,1', '6364', '38200', '13780', '9007', '2090', '8453', '18138', '12100', '11565', '21481', '18204', '27810', '3099', '24605', '6377', '9395', '10360', '30630', '71600', '82700,9', '3033', '7349', '7892', '4768', '22102', '7703,1', '31910', '46921', '20751', '7999', '11571', '99000', '21974', '31730,91', '34641', '7559', '12599', '4504', '13698', '21460', '8340', '2798', '2790', '22599', '15518', '31806', '7908,1', '7032', '7084,28', '13882,92', '9059,92', '13060', '31490', '22293', '20679', '15859', '8355', '17250', '11495', '16371', '25683', '6658', '18209', '7471', '39450', '5544', '8857', '7450', '9050', '6546', '15482', '7513', '17170', '3152', '5867', '10860', '9931', '26547,3', '13030', '17198', '96860', '11288', '22870', '11093', '8360,92', '18949', '2282', '27580', '17880', '13615', '16194', '97026', '12550', '20060', '12833', '5023', '12289', '83407', '98644', '18296', '8487', '32175', '13402', '4628', '3547,42', '8285', '4710', '45297', '15100,82', '21123', '19497', '23351', '7660,42', '33126', '14658', '2000', '10804', '4132,5', '5632', '19008', '6181,09', '27490', '8118', '13208', '14140', '23954', '9278,1', '9899,1', '13173', '6990,92', '6255,15', '6461', '32391', '6865', '7950', '12843', '21778', '18696', '18934', '18399', '17297,6', '14469', '23450', '23406', '4780', '4900', '13492', '15843', '15403,02', '6419,78', '6662', '59398,2', '12310,91', '13489,91', '25491', '17546', '6983', '22950', '9749', '22168', '3789', '21838', '26865', '4000', '22195', '5746', '5775', '11202,3', '23660', '24871', '9127', '21082', '16875', '23944', '13409', '10779', '29478', '20090', '5488', '11333', '10471', '18895', '44000', '12412', '70300', '4934', '17688', '15890,9', '21690', '18040', '25020', '29400', '9940', '4134,4', '6197', '4672', '6990', '6250', '3405', '16145', '7544', '5398', '25600', '5045', '2540', '15806', '14031', '3321', '22650', '17499', '6796', '7639', '24810', '8108', '8492', '3380', '23393', '14495,35', '20059', '71500', '15190,5', '5070', '20600', '8978', '13734', '12597,3', '4858,1', '26084', '3735', '24389', '4546', '4410', '14989', '24085', '12884', '15000', '8116', '30325', '11099', '32593', '8244', '16398', '80440', '12741', '30197', '17399,2', '28842', '18370', '8292', '13134', '7510', '30370', '20180', '25980', '27744', '8698', '34499,2', '7798', '44879', '3650', '15036', '19200', '6678', '20653', '24760', '16773', '3960', '36177', '6707', '5080', '10193', '13005', '5280', '12708', '11723,2', '3770', '3561', '16796', '12191', '13570', '27500', '2119', '20856', '4130', '38520', '10354', '19889,92', '8892', '39327,2', '18553', '8421', '16648', '13232,88', '21100', '26085', '18115', '20910', '4921', '6916', '4297', '20644', '10483', '28640', '12760', '12990', '3230', '6800', '27270', '27690', '19895', '10767', '12283', '4788', '20095', '13137', '7235', '25695', '41600', '3199,2', '2599,2', '22458', '10617', '8220', '27510', '61915', '10200', '5859', '17763', '5232', '20562,2', '9375', '11977', '2676', '33900', '5369', '14644', '23579', '2600', '6740', '17810,82', '8221', '25459,3', '22756', '6407,5', '5968', '32914,31', '6374,78', '4405', '29461,34', '7353', '18760,75', '8169,55', '3391', '14169,1', '9755', '59590', '16105', '32310', '9630', '4209,2', '16045', '28745', '12945', '18499', '4020', '7507', '13326,5', '14872', '30800', '14595', '28238', '13216', '26100', '13356', '25625', '18490', '23530', '9920', '5335', '21760', '7996', '7240,5', '13993', '7394', '13710', '9085', '17415', '6039', '32041', '12059,1', '25584', '28899', '17424', '23820', '7130', '6116', '7262', '11768', '3390', '28288', '12640', '17263', '18740,5', '6538', '3489', '12099,1', '23825', '22781', '21475', '3874', '32822', '58670', '32800', '12200', '4882', '13479', '9789', '14847', '17220', '10836', '15279', '16798,2', '22944', '16220', '35600', '19419', '19130', '5694', '19998', '14080', '10432', '9648', '26379', '5330', '6454,8', '4804', '19020', '12455', '4970', '2689', '16141', '7888', '17622', '11217', '14497', '13235', '10114', '8429', '4629', '69000', '8648,5', '18573', '21936', '6993', '16616', '8420', '26199', '8900', '18471', '11460', '15147', '22881', '23861', '13998', '29630', '16650', '29250', '33680', '7399', '36350', '12239', '35943', '17240', '20580', '63776', '4139', '22147', '30418', '7187', '12012', '8948', '57209', '20550', '2745,9', '13999', '14845', '4592', '20305', '18049', '27990,91', '2120', '7597', '8960', '16491', '28026', '14670', '27369', '39422', '44495', '23044', '47223', '5055', '35610', '30471', '24844', '19620', '20779', '9930', '23347', '28955', '14284', '16428', '12950', '23793', '32293', '7632,92', '22140', '30697', '20789', '16175', '15170', '31014', '14456', '2671,2', '13443', '15820', '3448', '37640,77', '14994', '6495', '79770', '2300', '19341,2', '6298,6', '4462', '20520', '22674', '30980', '15110', '7799', '88000', '8360', '4110', '4799', '77000', '12868', '31255', '3411', '6893', '4212,8', '8771', '14993', '16185', '4125', '20079', '6741', '21989', '11188,14', '80973', '4369', '16063,29', '22627', '3448,8', '9461,5', '16781', '23170', '18470', '11021', '18800', '4785', '23358', '4120', '21770', '5930', '25538', '29830', '15750', '93400', '12228', '9748', '21355', '8870', '3540,2', '31895,48', '14470', '16765', '22711,21', '14320', '17099,1', '15350', '51200', '23410', '26485', '7500', '5005', '7068', '8498', '94330', '12393', '13351', '6945', '37710', '37150', '27208', '9351', '63306', '3141', '15616', '42408', '9826', '4160', '17995', '18868', '3984', '7598', '32819', '18328,6', '5678', '8386', '4499,2', '4984', '21487', '27428', '6757', '11699', '6139', '2620', '78400', '11270', '23584', '4880', '22490,91', '22105', '4042', '5920', '5997', '8377', '7336', '3299', '16669,84', '5508', '19235', '16814', '49750', '5517', '8170', '2099', '22264', '6639', '11749', '8988', '19877', '17956', '19699', '2200', '32450', '11916', '16227', '15763', '15340', '10528,3', '24125', '10773', '24210', '26380', '28755', '47000', '13301', '24778', '8856', '23130', '9890', '35520', '15914', '18855', '4675', '15960', '9730', '41700', '11416', '5540', '5005,8', '21075', '6904', '4661', '7407', '48580', '10981,82', '6699', '11489,91', '2719,2', '3930,81', '28310', '2970', '3385', '42928', '6165', '6858', '40824', '19797', '10648', '27950', '8955', '11926', '9054', '10910,6', '9263', '10650', '7335', '5131', '11637', '5060', '35683', '4756,5', '4280', '8396', '3815', '9224', '7898', '13500', '87786', '10497', '4377', '6690', '44225', '16780', '23659', '58500', '5253', '4994', '11100', '7376', '5780', '5197', '25812,5', '2048', '24357', '29000', '5577', '14000', '14460', '31020', '53000', '30729', '5058', '17789,2', '11440', '9246', '5359', '29948', '10600', '15732', '15036,21', '16988', '19840', '42228', '16191', '5448', '3604', '3850,85', '11410', '15985', '13020', '15017', '15393', '10019', '35596', '5530', '18693', '32938', '26970,6', '27854', '5824', '19600', '4274', '6507', '52250', '22550', '23550', '7368', '12454', '14550', '28050', '14020', '11470', '10526', '21646', '7170', '19970', '22980', '99308', '14316', '4004', '10105', '20280', '27150', '20000', '37450', '16048', '40574', '21470', '26321', '31400', '19522', '24897', '11034', '18999,2', '7824', '8698,1', '18650', '28247', '3610', '5095', '11997,2', '13302,83', '58567', '18599', '27088', '5397', '4047', '25830', '22400', '8951', '33340', '26910', '25081,98', '5580', '30050', '9061', '47600', '20326', '7107', '17850', '4436', '9422', '7713', '16128', '15830', '10361', '13918', '42135', '12460', '9100', '7815', '17860', '15190', '93947', '4919', '20700', '5297', '5592', '33320', '11750,31', '26600', '13940', '18162', '13300,91', '54700', '12478', '5304', '27645', '9268', '26988', '38725', '11853', '8950', '8450', '50568', '93890', '32114', '11340', '4030', '12249', '6420', '10128,8', '4488', '34391', '21154', '5768', '3001', '15704', '4140', '27700', '16979', '25271', '6056', '6494', '3616', '19745', '24772', '7410', '11160', '12678', '13536', '4879', '10189', '17090', '4469', '44697', '43376', '10158', '17025', '17760', '15770', '89196', '9137', '6073', '15560', '14193', '20510', '19350', '21710', '12734', '21980', '42335', '2457', '8460', '16222', '2900', '12138', '9237', '11583', '9955', '9862', '34493', '29694', '7152', '10525', '25960', '7593', '7369', '89344', '8543', '12331', '27620', '12835', '12750', '21250', '21080', '33459', '7985', '23760', '13860', '13110', '21948', '13138'}\n",
      "\n",
      "\n",
      "==========\n",
      "FST_PAYMENT\n",
      "{'2222', '8820', '9530', '1999,94', '6399,9', '669,3', '3158', '1261', '7747', '4983,2', '6357', '5366', '4263', '5000,8', '3687,5', '3195', '7822', '1634', '2890', '6532', '1661', '3492', '5800', '2892', '9790', '788', '1615', '1837', '6138', '1340,92', '6835', '1763', '1176', '2190', '485,2', '1796,94', '544', '9520', '5999', '445', '1268', '18588', '3205', '4353', '3277', '1480', '2084', '3980', '1933', '1000,67', '1463', '2280', '309', '1625,2', '815', '3787', '562', '634,2', '990', '5900', '6480', '1099', '2259', '2535', '2345', '9068', '2490', '2150', '1093,4', '446,88', '29500', '540', '3124', '53541', '7125', '2375', '1016', '3107', '2405,69', '5989', '100', '1922', '470', '4775', '230,3', '4155', '1842', '1152', '8734', '12044', '10795', '40000', '16750', '1973', '8000,91', '276,6', '2110', '1216', '272', '456', '1656', '3780', '1138', '652', '11900', '6297', '655', '24500', '2625', '2863', '1279', '3363', '527', '696', '9800', '6625,16', '2491', '3570', '3639,5', '3440', '1082', '546', '1493', '2559', '2975', '1305', '1202', '8480', '415', '380', '10041', '12999', '431', '2915', '948', '810', '885', '575,2', '1155', '14935', '1866', '1040', '1351', '1543,5', '1365', '413,1', '1475', '465', '1026', '1460', '531', '429', '1222', '1115', '1800', '2584', '1098', '39910', '346', '1100', '3060', '35800', '7000', '1880,2', '1739,69', '7100', '7230', '1584', '1708,5', '234', '25599', '6975', '1070', '3245', '49038', '5033', '2433', '360', '5246,5', '1680,82', '2096', '1596', '10230', '4510', '4770', '2358', '3830', '4210', '3660', '4870', '9445,95', '1700,91', '306', '2050', '1898', '1847', '2568', '855', '1515,7', '605', '1399', '1590', '4040', '5472', '3095', '383,2', '2278', '3901', '269', '539,09', '615', '2796', '7631', '4086', '10425', '1383', '4953', '4403', '2019', '783', '4499', '3136', '5940', '21900', '984', '1106', '2230', '463,2', '468,1', '4653', '2350', '887', '2934', '5250', '748', '1312', '3740', '1058', '14500', '539', '16515', '5000,91', '653', '490', '8680', '2152', '1398', '3140', '1434', '1889', '1103', '3014', '1089', '8328', '1306', '9108', '49356', '706', '1989', '1781,83', '1565', '1835', '26565', '50', '10933', '694', '372', '7400', '31000', '2253', '4820', '4739', '1231', '2923', '2910', '4000,9', '334', '1700,92', '1171', '3043', '2062', '5838', '1470', '630', '1179', '3899', '6196', '950,92', '4898', '5667', '400,2', '3170', '2205', '1849', '2289', '2952', '4268,72', '3194', '2437,5', '479,8', '4480', '3293', '860', '518', '717,2', '2027,7', '4340', '1591', '1619', '10637,7', '4138', '2454', '1001,7', '1080', '2926,4', '23800', '1178', '3169', '13519', '663', '1376', '5210', '2490,95', '13776', '10560', '4587', '4319', '1992', '3850', '542,2', '730', '2703', '498,6', '2698', '5705', '5145', '10706', '4225,44', '982', '1605', '1103,85', '1571', '439', '2702', '2040', '19924', '3173', '1259', '1140', '4139,36', '197', '1013', '43359', '20890', '514', '1018', '1457', '365', '1674', '2288', '555,2', '2380', '2010', '2430', '1765', '7590', '7845', '41774', '700', '7118', '1300,92', '625', '11080', '3000,95', '1147', '1430', '9574', '10227,2', '11560', '1442', '1495', '2651', '1002', '5744,5', '2285', '3105', '1220', '7883', '4005', '3698', '1051', '2493', '2571', '3454', '1630', '5820', '3092', '4000,22', '2810', '5373', '2420', '10015', '1670', '6541', '3800,2', '538', '8923', '2653', '11990', '1997', '833', '0,95', '1499', '353', '9490', '1570', '3800', '4430', '1786,9', '17110', '820', '2293', '8263', '5703', '1910', '34492', '1920', '3433', '1226', '11200', '606', '455', '3280', '10162', '734', '3711', '9457', '3275', '953', '10900', '3995', '1999,8', '1213', '7185', '1389,8', '2469', '1371', '628', '9838', '1046', '873', '359', '1535', '623', '1725', '8342,38', '1679', '771', '1197', '5767', '1050', '2712', '1319', '2238', '5398,1', '1225', '582', '5001,9', '1491', '726', '2372', '3930', '60488', '4197', '637,3', '2877', '8100', '3300', '979', '7800', '2000,85', '460', '2467', '8790', '18000', '1310,62', '10723', '1515', '18719', '362', '459', '3416', '6875', '3236', '1029,41', '3599', '2597', '1574,1', '7700', '3450', '4395', '11337', '960', '159', '1597', '14940', '7480', '1498', '602', '1000,1', '1638', '6534', '1694', '530', '4235', '1813', '1829', '2947', '877', '2517', '1249,95', '1477', '1273', '589', '3500,6', '2250', '2233', '1776', '772,3', '3357', '2852', '3264', '3534', '1081', '846', '7776', '1841', '420', '3415', '718', '11024', '1281', '13580', '8190', '4980,91', '1275', '11528', '10759', '3502', '1533', '524,85', '53530', '34698,2', '2710', '12500', '2155', '46832', '2028', '48052,1', '7165', '1897', '54910', '416', '6257', '941', '9845', '1392', '1752', '10026', '4498,91', '54080', '485,8', '1395', '1333', '1012', '2574', '6999', '11230', '7990', '2000,6', '1293', '3359', '5790', '3288', '799', '330', '4686', '13526', '780,3', '2076', '33694', '1094', '845,5', '1393', '1899,8', '1671', '13203', '1930', '520', '2504', '1958', '2572', '7547,8', '7124', '2955', '2861', '1034', '1990', '1969', '2898', '352', '7945', '1000,2', '3999', '404,1', '814,2', '2046', '7995', '1703', '2131', '672', '10750', '626', '3028', '1799', '5812', '1093', '10981', '522,4', '2100', '1420', '11233', '5148', '2213', '3463', '549', '889', '160', '48210', '893', '9272', '9700', '1303', '691', '755', '2500,95', '4498', '3297', '3318', '1885', '2500,2', '1185', '1999', '1288', '3330', '517', '373', '1004,2', '2347', '4937', '1962', '724', '75606', '10000,2', '790', '349', '7528', '9016', '2477', '2765', '381', '1245', '754', '3064', '1250', '4550', '60245', '2690', '1955', '5320', '9960', '5200', '2901', '1405', '293', '3310', '2514', '9020', '847', '8650,48', '853', '508,5', '23000', '1256', '16293', '669', '16000,1', '5784', '5192', '971', '7174,87', '3482', '1431', '3090', '17610', '3619', '7964', '1084', '4393', '29590', '1000,92', '4949', '9047', '818', '1877', '786', '3050', '551', '3750', '918', '2167', '2586', '838', '1828', '710', '9602', '933', '682', '6600', '3680', '451', '2409', '2826', '4798', '686', '6785', '1691,6', '1888', '1805', '2045', '3165', '612', '14753', '556,2', '4925', '3212', '1011', '9898', '7541', '4194,3', '7880', '450', '50120', '1784,81', '1870', '8522,2', '5050', '599', '11020', '1379', '250,6', '4600', '2114', '11860', '798', '1168', '22000', '6882', '9600', '4098', '754,2', '12700', '4398', '6603', '290', '592', '515', '2997', '6100', '1200,8', '949', '2000,22', '70940', '4011', '11425,8', '4081', '1123', '3340', '1294', '1188', '891', '4245', '4260', '2848', '11754', '1087', '10502', '11800', '5097', '2088', '2966,2', '1257', '223', '3510', '1722', '2079,02', '6217', '3537', '2688', '2553', '1901', '2159', '4910', '808', '1299', '17669', '1390', '6777', '6491', '2900,5', '15900', '19990', '4270', '610', '1503', '1545', '7000,5', '1424', '3752', '9750', '3538,92', '2605', '1452', '1649', '3605', '559', '481,8', '22500', '17000', '1572', '11890', '8750', '1200,2', '7110', '1760', '561', '1300', '10500', '3298,92', '1481', '5610', '699', '1182', '6598', '1158', '19151', '363,5', '2299,8', '6832', '2231', '1540,84', '752', '311', '942', '1561', '1876', '6323', '4310', '2751', '3350', '1004', '640', '1549', '3943', '6050', '3739', '5690', '1399,7', '1160', '3710', '3498', '7240', '2500,8', '3200', '2716', '7128', '12600', '7300', '1161', '60432', '6782', '6900', '18589', '692', '2442', '1015', '2335', '10008', '3162,71', '1107', '1059', '1961', '210', '1233,2', '13100', '11660', '1254', '6957', '767', '1650', '4346', '1514', '3688', '645', '959,3', '46300', '19430', '1948,92', '2937', '878', '283', '742', '541', '42518', '2245', '3020', '11292', '1129', '840', '1353', '1151', '650,95', '14448', '7019', '7116', '3730', '320', '10140', '5279', '1800,2', '5594', '5990', '3907', '2855', '1369', '336', '930', '1400,95', '6365', '925', '6228', '1994', '38800', '2680', '1309,65', '3320', '2596', '5450', '2151', '921', '816', '1924', '13000', '2887', '3872', '2197', '33590', '705', '337,1', '247', '1701', '6513', '247,2', '574', '56638', '862', '10240', '9824', '973', '299,92', '769', '2608', '5521', '3265', '570', '19355', '1525', '3480', '1148', '7623,3', '1244,7', '8', '16400', '2331', '315', '681', '0', '1411', '2640', '2506', '3516', '2989', '1737', '14440', '869', '1075', '10177', '225', '4632', '3045', '49200', '5631', '3569', '13300', '3500', '1820', '552', '29860', '2263', '2958', '8164', '1540', '13200', '2437', '1619,95', '7660', '6340', '2655', '10434', '50500', '1284', '2067', '8125', '5902', '7520', '1890', '3685', '4287', '855,9', '7464', '407', '681,2', '4198', '3910', '20645', '1215', '9267', '6320', '1264', '4944', '40100', '3410', '2044', '2029', '3157', '601', '6844', '3545', '5722,21', '9991', '1490', '1172', '4444', '54929', '11382', '25400', '5383,85', '3216', '7082', '677,5', '750', '4370', '3469', '5461,11', '5817', '413', '639', '39804', '177', '368', '2455', '1394', '2399', '3524', '1320', '1975', '4206,8', '2356', '5245', '457,5', '168', '140000', '11500', '376,21', '2047', '438', '11320', '555', '5044', '677,3', '269,1', '5811', '542', '825', '51127', '1292', '2750', '239', '4743', '3885', '48156,13', '6837', '3186', '571', '418', '2920', '16484', '405', '4647', '62250', '1053', '2034', '9040', '2052', '6820', '804,5', '1705,5', '10000,1', '6910', '749', '1653', '1693', '2179', '3006', '7600', '4184', '9500', '1392,4', '9037', '2070', '858', '729', '1715', '1108', '4320', '4335', '7900', '3442', '6641', '1567', '2857', '15000,4', '8940', '608', '5504', '2835', '3426', '660', '9325', '1939', '658', '2000,92', '16100', '1894', '7820', '1479', '10700', '2279', '3000,4', '9568', '15670', '813', '510', '528,5', '18152', '10397', '4995', '2349,6', '1482', '422,1', '1940', '5700', '2843', '1575', '1385', '2199', '2635', '9964', '776', '720,2', '11221,5', '590', '1458', '3902', '24000', '4239', '28800', '9661,66', '1219', '4846,96', '2630', '1812', '550', '2510', '1840', '2201', '553', '2940', '10431', '5000,87', '5710', '30303', '1987', '18080', '281', '1280', '1949', '3950', '1368', '458', '2805', '1512', '2990', '8200', '2125', '4145', '6410', '999', '8500', '1899,9', '2685', '54470', '2200,91', '4521', '41580', '3575', '3290', '3717', '3413', '1806', '2000,9', '1030', '2062,5', '1860,9', '4390', '21500', '2870', '8000', '9248', '15600', '1153,5', '9190', '2387', '3609', '2440', '3678', '28257', '364', '499', '3187,74', '10512', '688', '1899', '7633', '6519', '1726', '2670', '2458', '457', '1829,43', '11090', '2999,6', '6670', '3658', '774', '781', '677', '9425', '2149', '6000', '1640', '835', '1700', '6007', '1534', '1370', '5550', '573', '5074', '3990', '3135', '797', '8274', '2098', '1453', '1497', '3220', '600', '1295', '598', '1864', '618', '512', '9480', '837,91', '4450', '16070', '7270', '1196', '745', '495', '20235', '5611', '10800', '1950', '700,83', '4186,59', '5980', '1820,94', '5260', '4850,8', '842', '55982', '5248,91', '11673', '1730', '9664', '1255,41', '5850', '14640', '3720', '6929', '1400,1', '13360', '8998', '1005', '1350', '419', '14190', '8040', '6370', '596', '1500,5', '1516', '3822', '10152', '509', '668,71', '2569', '1788', '2444', '479', '14760', '6650', '2499', '4199', '9200', '5750', '2324', '3774', '687', '12000', '3130', '7811', '2400', '2962,1', '3499', '4815', '44500', '19000', '7795', '1072', '5010', '5718', '1979', '830', '1580', '1165', '827', '2845', '2024', '6712', '2482', '18400', '2911', '5170', '3880', '22097,99', '5081', '770', '2466', '38000', '9550', '667', '1719', '240,6', '4712', '4660', '2570', '3765', '4800', '7148,1', '6748', '780,1', '39400', '3030', '9699,69', '3360', '10', '217,5', '2472,5', '2370', '565', '21000', '613', '1195', '25089', '6646', '3596', '1759', '1510', '3763', '7395', '2916', '2935', '1869', '2778', '1278', '2175', '988', '736', '7531', '17500', '6174', '4500', '8650', '6933', '1871,75', '964', '3097,8', '4990', '13670', '26000', '2749', '9250', '3846', '16250', '24800', '11044', '1180', '276', '2228', '3398', '345,3', '48800', '8816', '1252', '4828', '3183', '2634', '5437', '49582', '1050,92', '13395', '11924', '1328', '23900', '2340', '5650', '340', '437', '26550', '2480', '1253,7', '3670', '1199', '1159', '21094', '3779', '1356', '715', '503', '4708', '2988', '1620', '1914', '4014', '1487', '3148', '4100', '2346', '409', '4523', '10489,92', '23700', '10400', '1921', '4590', '3000,92', '2030', '1740', '2020', '251,1', '26802', '787', '4986,5', '3250', '777', '510,9', '4851', '469', '2320', '8800', '4536', '1670,69', '4580', '644', '5140', '1450', '2564', '2858', '1121', '5440', '1507', '1348', '46500', '1399,3', '9288', '648', '1808', '2310', '3198', '35000', '4948', '1009', '4935', '75500', '962', '7034', '1077', '1883', '9528', '1287', '1875', '3997', '53370', '4343', '687,7', '695,2', '1995', '5244', '516', '3015', '1271,1', '3150', '6750', '6599,8', '14100', '7259', '1310', '5000', '9996', '2014', '1386', '377', '5350', '9770', '7261', '8064', '1814', '868,83', '1899,1', '1291', '58800', '3870', '1703,2', '2518', '1800,1', '44963', '2708', '3228', '1204', '1685', '2240', '910', '2878', '363', '8099', '12335', '6554', '27350', '138', '2160', '4823', '1380', '1900', '2360', '7200', '1486', '9096', '2286', '695', '1991', '25131,59', '2530', '2090', '14200', '12100', '5038', '3099', '435', '2265', '5600', '8120', '1778', '1546', '7020', '3087', '1823', '6730', '2235', '2204', '500', '6400', '4768', '45000', '3137,9', '7586', '6610', '529', '8300', '545', '1326', '12520', '9754', '5375', '213', '588', '1810', '63219', '854', '2220', '2060', '1952', '4806', '2413', '756', '2522', '2375,68', '13750', '1064,2', '4504', '3970', '249', '2041', '2495', '3100,3', '4546,8', '10696', '8250', '3976,32', '2798', '2136', '299,1', '2790', '13807', '29080,92', '863', '4593', '5075,84', '861', '52182', '580', '5177', '3650,1', '1343', '3620', '9000', '1003', '1102', '1935', '17930', '1520', '2178', '2000,7', '341,1', '3266', '1695', '6398', '5120', '3328', '1802', '464', '1143', '10100', '758', '3703', '13613', '9400', '15140', '13818', '2365', '256,2', '1327', '1530', '6387', '1125', '8349', '10557', '1821', '576', '1050,33', '4318', '955', '905', '5023', '981', '3100', '3935', '2590', '11689', '713', '6396', '7080', '410', '567,3', '439,95', '3120', '15886', '799,5', '432', '9039', '391,2', '1557', '2830', '2780', '956', '1258', '1544', '27000', '980', '6789', '3370', '395', '2000', '2384', '5198', '2588', '675', '36330', '4352,37', '965', '10550', '697', '915', '1747', '828', '2998', '1124', '6700', '1767', '1238', '10051', '50642', '4434', '7950', '1547', '8320', '1041', '39600', '1381', '326', '2022', '2485', '2776', '1771', '2015', '4900', '3023', '1556,8', '560', '4080', '426', '9871', '2419', '940', '525', '903', '7420', '859', '1500,95', '2239', '515,85', '3311', '3371', '7142', '14990,94', '15701', '765', '2333', '1360,92', '3270', '1313', '4000', '9784', '5746', '5890', '3600', '8389', '2864', '1651', '3333', '1246', '370', '3595', '1110', '3149', '2595', '1770', '2429', '3490', '2538', '55000', '2879', '2247', '10136', '13539', '10460', '2547', '739', '10619', '1887', '659', '2487', '3335', '5361', '674', '1560', '50000', '10725', '11027', '2698,89', '18850', '7630', '2053', '14220', '3899,95', '6990', '1469', '3210', '1248', '6240', '5609', '2299,9', '7740', '5045', '857', '1290,6', '6890', '2540', '1860', '4230', '1789', '4715', '238', '3414', '2218', '1338', '4358', '824', '646,5', '5108', '2650', '1247', '3916', '1600', '2039', '2674', '2549', '1408', '3380', '9900', '25000', '1686', '4697', '2807', '13790', '744', '3677', '649', '1855', '2368', '5155', '3735', '711', '10394,5', '5499', '250', '1509', '1710', '4752', '1302', '970', '995', '12910', '8618', '2885', '8945', '15000', '2290', '2414', '2599', '1708', '1876,25', '2745', '34000', '500,39', '3597', '564', '1008', '2016', '3679', '4640', '2587', '11597', '7495', '2248,1', '386', '10350', '1366,05', '10515', '740', '433', '757', '5708', '4817', '367', '594', '3650', '1091', '1866,6', '9254', '6481,31', '1360', '2614', '8540', '3364', '50442', '16657', '6950', '1731', '912', '2355', '651', '10467', '513', '1135', '3159,86', '3960', '18735', '2294', '2698,93', '4517', '3538', '355', '586', '10695', '4579', '3209', '1318', '3718,2', '952', '1132', '1873', '5038,1', '1982', '6127', '2173', '638,7', '1588', '629', '4597', '120', '6200', '51929', '680', '2166', '1065', '436', '1462', '638', '3590', '1648,5', '1996', '7207', '1179,6', '10205,5', '622', '1341', '480', '5100', '1895', '4060', '800,82', '875', '13140', '1824', '424', '8700', '2348,8', '5150', '1780', '2784', '631', '383', '430', '2210', '7669', '1267', '895', '1035', '1682', '1880', '21648', '6509', '8008', '20644', '2800', '7238,86', '3230', '3215', '478', '2999,9', '4177', '6800', '2865', '2832', '4788', '1048', '3319,7', '4700', '26090', '2613', '2688,69', '4018', '880', '1036', '3304', '1069', '40664', '1517', '25300', '1047,82', '2498', '300', '5985', '10200', '746', '150', '387', '304', '40758', '3334', '258', '1523', '9375', '799,92', '13700', '9418', '2555', '6000,1', '1598', '285', '1666', '3840', '6317', '1999,2', '5445,92', '989', '3160', '1581', '3810', '2270', '7243', '5670', '1488', '10098', '2600', '13772,82', '3374', '3073,8', '10330', '2316', '5760', '1433', '2500,4', '3621,7', '4809', '3760', '392', '1850', '1568', '1235', '1956', '725', '4399', '943', '176', '1063', '6550', '998', '1071', '2985', '5560', '934', '10980', '3391', '319', '2135', '28000', '6543', '475', '832', '3119', '2598', '3298', '1355', '4364', '489', '4020', '870', '1957', '14806', '779', '7507', '4027', '249,3', '8400', '4000,5', '3666,2', '375', '13400', '7805', '24500,03', '2981', '2660', '18900', '1126', '6160', '280', '5950', '1635', '2816', '316', '15500', '900', '2007', '5002', '1689', '958', '1786', '1330', '635', '4916', '1444', '698', '11116', '449,1', '268', '2665', '3000,2', '3294', '3390', '10527', '1768', '1090', '2077', '1501', '2390', '3489', '3669,6', '7550', '344,8', '1648', '3874', '1912', '4350', '1339,9', '1550', '3235', '4830', '3790', '10000,92', '2364', '1504', '7816', '60360', '2772,13', '867', '735', '874', '0,92', '3568', '2395', '10516', '4091', '7350', '643', '1092', '11076', '1566', '4978', '4045', '2001', '9498', '3449', '1099,9', '2980', '747', '930,91', '9391', '3749,74', '2949,7', '900,2', '13126', '3100,1', '19958', '690', '1629', '2689', '1978', '5234', '1095', '650', '4185', '332', '1055', '6290', '7553', '4750', '2017', '3037', '4363', '694,2', '9922', '1625', '468', '2095', '8879,48', '4629', '2315', '2132', '6300', '32750', '3088', '400', '2459', '2899', '3511', '795', '1865', '627', '1361', '8900', '8180', '9270', '2237', '1000', '12251', '583', '10950', '637,4', '656', '4190', '1201', '554', '399', '8640', '3392', '1573', '2398', '12012', '1445', '54870', '5752', '1937', '20550', '834', '616', '1271', '200', '2869,9', '2528', '4053', '1474,3', '3794', '1489', '2720', '3400', '684', '5847', '388', '1690', '728', '4690', '868,42', '2223', '1750', '1251', '1970', '2330', '1559', '1265', '3110', '8688', '421', '1677', '1660', '2092,94', '2130', '1610', '720', '3260', '10267', '16500', '1116', '14221', '4567', '2730', '792', '1243', '1500,92', '3657', '3448', '2000,79', '2460', '7750', '7250', '5387', '358,1', '6495', '30660', '3969', '2300', '7049', '3795', '2112', '2550', '999,2', '894', '2888', '2840', '4110', '5500', '5735', '3829,6', '2697', '7913', '3411', '1229', '1374,88', '2283', '1830', '850', '1455', '2668', '5226,9', '987', '4000,92', '12144,42', '1959', '1289', '800', '9793', '2593', '2156', '1936', '1112', '10097', '2880', '75570', '553,6', '6995,92', '4680', '917', '1364', '3138', '6151', '5305', '947', '2860', '26410', '5022', '21839', '1146', '3346', '3245,95', '2811', '18800', '5979', '2930', '7659,01', '3104', '1831', '375,2', '301', '11490', '676', '7567', '3435', '778', '3444', '1484', '2797', '511', '579', '2690,92', '10260', '7707', '4095', '2186', '3172', '1809', '3055', '4082', '2241', '11600', '620', '1528', '1190', '1980', '9300', '685', '7500', '390', '3078', '10007', '1374', '2121', '342', '519', '936', '2647', '4267', '1609', '6945', '1915', '2157', '6325', '2170', '2643', '920', '1198', '4650', '1150', '2649', '3257,04', '3084', '19556', '4160', '3984', '448,9', '21696', '1610,4', '7836', '849', '2803', '1717', '299', '2328', '31350', '1720', '4989,92', '10729', '371', '8751', '1563', '1928', '532', '2323', '738', '1290', '888', '16000', '296,8', '2620', '13650', '1410', '446,05', '670', '5999,2', '2686', '950', '1700,95', '2140', '229,5', '4619', '3000', '636', '3010', '775', '3318,4', '3299', '337', '485', '11548', '443', '2129', '3270,82', '3555', '3339', '2604', '729,1', '1892', '2825,5', '1422,6', '5517', '2099', '3700', '938', '292,2', '2338', '1269', '2025', '5786', '9910', '4565', '323', '12211', '9639', '2515', '2200', '911', '496', '2950', '16350', '2632', '1819', '34923', '969,8', '868', '1418', '4315', '39487', '7794,92', '6115', '19950', '1845', '12300', '2080', '2352', '10095', '5532,66', '6326', '723', '4675', '2078', '3126', '3000,91', '6923', '9730', '9685', '2700', '19521', '6500', '5540', '393', '845', '444,1', '379', '2753', '974', '6699', '7953', '1438', '811', '1181', '323,25', '4387', '4720', '16481', '3180', '7882', '848', '2450', '1230', '2970', '508', '3385', '3223', '1049', '2508', '1622', '480,9', '2729', '8710', '10650', '10270', '1270', '3039', '642', '3049', '1745', '764', '690,95', '1818', '1874,7', '3451', '5400', '1608', '535', '1240', '2013', '5143', '1632', '2006', '1555', '1884', '5060', '558', '1595', '1373', '1599', '4280', '2578,8', '1500,2', '2954', '4476', '6000,81', '7506', '3240', '3086', '22399', '3815', '507', '11762,27', '2383', '1779', '13500', '10497', '1060', '6575', '2000,4', '704', '8499', '10147', '29032', '5000,1', '1960', '7477', '1000,95', '7670', '11000', '643,7', '4348', '2011', '54230', '1279,9', '1841,91', '14000', '2403', '1200', '2560', '15091', '1272', '927', '3114', '2142', '6445,86', '2192', '11440', '3439', '9444', '2567', '14385', '2775', '3252', '5562', '449', '3585', '1025', '4490', '14786', '1519', '4360', '2770', '1556', '1000,89', '7519', '16086', '2410', '5460', '1680', '6010,3', '65000', '9695', '2615', '8117', '2850', '890', '1815', '25405', '6000,95', '3202', '929', '1363', '425', '4274', '4551', '2610', '1020', '793', '2180', '1639', '5130', '1751', '2199,95', '2260', '1440', '7170', '384', '9979', '2394', '3249', '2520', '3337', '1717,92', '2244', '772', '1119', '5300', '3602', '1239', '5928', '1322,9', '20000', '633', '366', '488', '6948', '5761', '1399,8', '557', '2000,2', '2031', '2696', '899', '2055', '2470', '15939', '2482,84', '4455', '2667', '5340', '6075', '737', '2004', '1337', '7095', '3610', '5726,3', '3470', '4746', '5095', '2369', '3520', '3214', '4992', '4400', '1042', '389', '7447', '2206', '12358', '4200', '30000', '8082', '1329', '2616', '22400', '305,1', '42906', '1120', '2200,05', '1207', '606,2', '1785', '5580', '619', '18375', '2357', '1384', '5998', '20595', '9411', '4048', '1508', '3159', '1512,1', '1141', '2532', '4666', '3080', '5899', '4250', '1522', '1111', '1210', '3134', '712', '880,2', '2700,75', '1721', '5660', '3495', '2248', '2373', '2758', '3284', '1417', '3003,3', '15680', '780', '4919', '1340', '1790', '599,95', '508,79', '2740', '16668,82', '1056', '1010', '4330', '10090', '2500', '1331', '9570', '1655', '10000', '5814', '7298', '1735', '985', '2499,8', '2271', '1260', '10465', '5844', '2846', '5240', '2115', '3484', '9788', '3369', '4000,91', '230', '5036', '8450', '965,92', '1872', '3900', '4300', '3408,8', '1139', '567', '3550', '4030', '3425', '2198', '41000', '7764', '8390', '205', '1524', '1500', '727', '2287', '2325', '2420,1', '2327', '732', '339', '5730', '1266', '2457,9', '839', '4950', '1175', '1704', '1039', '13536', '4050', '759', '3403', '2754', '1854', '350', '3745', '473', '4275,2', '9663', '9472', '1834', '5352', '1130', '3278,9', '1170', '977', '6820,45', '2900', '1702', '440', '21750', '9955', '1045', '1400', '4742', '4289', '709', '369', '130', '524', '3108', '10525', '2760', '760', '1297', '8688,09', '3975', '2763', '279', '3000,68', '1255', '2849', '260', '2580', '2415'}\n",
      "\n",
      "\n",
      "==========\n",
      "LOAN_AVG_DLQ_AMT\n",
      "{'749,82', '690', '2112,17', '450', '6080', '1538,69', '2361,22', '965,1', '650', '1221,92', '2961', '5075,99', '9280', '809,42', '1870', '5140', '1450', '518,9', '791,56', '2409,01', '1626', '1147,5', '1149,495', '2732,2', '1312,44', '2070,52', '4600', '1097,86', '2796,66', '5430', '2890', '2310', '2656,68', '1931,44', '682,56', '2083', '1391,47', '1247,92', '400', '240', '966,07', '1615', '840,7', '2372,77', '5269,78', '2794,22333333333', '5410', '216,59', '1095,61', '1000', '2190', '115,65', '1804,9', '894,29', '1085,5', '806,19', '1388,83769230769', '568,7', '4190', '979,63', '552,57', '2343,41', '3150', '3106,29', '1088,05', '1480', '1144,98', '4240', '1310', '4260', '2059,46', '796,59', '5030', '2090,53', '3172,83', '2280', '2547,85', '2629,87', '2699,88', '990', '1986,88', '51,8', '2490', '830,53', '1141,06', '2979,31', '6490', '3510', '1066,605', '1459,54666666667', '1095,89', '2150', '3651,445', '8020', '3971,6', '1639,24571428571', '1144,03', '540', '2370,01', '2120', '2154,02', '1939,61', '1402,43', '3691,2675', '1390', '6660', '2720', '2240', '910', '3400', '755,063333333333', '1690', '100', '1798,49', '753', '610', '1002,60333333333', '3782,39', '772,73', '4690', '7780', '2160', '1776,96666666667', '820,124', '3315', '1380', '3769,3625', '865,05', '2910,25', '1750', '1492,404', '1900', '3530', '5397,15', '2360', '1029,75', '1970', '2510,2', '2425', '3102,49333333333', '2330', '2779,4', '1411,31', '2110', '1066,005', '1478,49', '1713,74', '3110', '2269,735', '957,63', '3780', '310', '1069,6', '1113,335', '802,36', '2755,21', '2130', '2707,25', '1610', '1593,76', '704,93', '1182,23', '720', '2031,34333333333', '3260', '918,255', '1352,85714285714', '1760', '2530', '2090', '1300', '574,21', '872,065', '1932,5', '2265', '1155,125', '823,54', '1439,94', '1259,39', '2573,8', '1006,59', '763,3', '3570', '846,55', '1563,45', '3440', '2300', '989,39', '2184,66', '134,78', '837,48', '2554,005', '380', '702,565', '2094,3', '752,923076923077', '500', '810', '2005,15', '2503,19', '2349,51', '613,12', '2550', '1697,22', '2840', '2368,84', '702,23', '957,59', '1717,47333333333', '5500', '1399,25', '3037,58', '3024', '789,23', '1241,32428571429', '1040', '533', '1830', '4310', '850', '1851,55', '1966,99', '6041,86', '1883,04', '446,31', '1810', '1134,58', '1555,00090909091', '640', '2119,77', '1460', '3914,24', '980,42', '2220', '2060', '673,6825', '800', '1800', '1010,55', '535,53', '3540', '4115,33333333333', '3119,99', '4290', '1100', '2880', '2002,45', '1160', '714', '3060', '1314,58666666667', '1040,78666666667', '782,21', '3970', '3200', '1127,76', '7100', '859,84', '4680', '2524,28', '2820', '6689,82', '14870', '2549,52', '1539,2', '1070', '1292,59', '2860', '4810', '957,46', '1015', '360', '2202,69', '2790', '951', '4530', '1589,92333333333', '4770', '2163,94', '740,575', '863,68', '5076,65', '3660', '4120', '4210', '1650', '2930', '532,24', '1093,75', '2957,71', '918,55', '1152,15', '580', '1879,28', '1412,55', '2276,54666666667', '509,52', '1149,395', '2050', '3620', '836,6', '1599,9', '355,04', '855', '559,94', '1830,2', '1010,27', '619,73', '3020', '1520', '2178', '2269,565', '1590', '840', '804,32', '517,51', '4620', '451,495', '1634,81', '1348,68', '567,51', '1439,815', '1091,2', '1108,574', '457,71', '984,79', '1683,49', '816,83', '198,88', '1878,86', '38,32', '1325,63', '1716,52', '2158,72', '1190', '620', '986,606666666667', '1276,66666666667', '2088,86', '930', '1980', '1193,9675', '909,424285714286', '2315,64857142857', '502,1', '2680', '966,953333333333', '663,05', '1090,8', '2293,65', '1120,93', '269,51', '481,506', '1530', '2127,1', '0,71', '110,91', '2170', '1529,06', '920', '3959', '673,02', '3070', '1150', '849,085', '2262,12', '1409,965', '4650', '2230', '2084,32', '3283,1', '4160', '4472,91333333333', '2350', '1957,21', '604,43', '2467,33', '570', '3480', '3127,19', '3100', '2590', '1059,47', '2464,55', '1761,03', '1175,57', '2128,74', '778,32', '3120', '0', '490', '2640', '6133,41', '1720', '3089,155', '3140', '776,59', '2492,54', '3433,42', '2509,38', '1439,9', '1740,19', '4710', '988,85', '2340,06777777778', '1290', '859,92', '603,55', '1398,58', '1920,9575', '3500', '879', '2830', '1820', '1410', '1591,94', '980', '1155,02142857143', '1033,905', '670', '2157,32', '798,53', '2000', '1540', '950', '1386,96', '2140', '1139,49', '2910', '911,793333333333', '3000', '3010', '2679,82', '1470', '630', '1003,255', '1793,66', '1205,4725', '4760', '1890', '5545,0225', '669,12', '3420', '767,566', '1197,38333333333', '3170', '3910', '4445,6', '1215', '2816,25', '856,64', '1179,394', '499,69', '762,93', '3410', '849,91', '1831,51333333333', '1433,4', '860', '647,42', '824,581428571429', '975', '677,474', '3460', '1171,686', '5048,19', '882,01', '896,31', '1490', '976,68', '3630', '2959', '1080', '913,4975', '1359,6', '887,79', '2701,26', '4565', '1889,43', '560', '2200', '510,136666666667', '2419,9', '648,68', '444', '750', '4508,2', '2273,72', '4370', '2950', '821,93', '2272,5', '5870', '1468,38', '1369,755', '1196,43', '2701,5', '3850', '3870,25', '730', '940', '3072,475', '582,386666666667', '526,563333333333', '1985,3', '1498,26', '1751,37', '1230,63', '1320', '1259,71333333333', '1636,04', '1102,7', '2040', '668,53', '1140', '946,49', '2080', '4000', '1056,95', '3635,77', '769,43', '619,4', '1324,41285714286', '3600', '270', '2739,76', '1258,95', '136,76', '2066,905', '2237,245', '825,10875', '2700', '1208,09', '805,86', '2380', '2010', '6500', '2430', '1768,07', '678,2', '1724,15333333333', '5830', '700', '6260', '370', '1110', '1770', '1264,23', '3490', '1154,34', '2750', '2538', '1430', '1792,71', '1833,77', '1570,46', '2013,19', '3428,56', '2920', '3180', '2359,898', '782,705', '1875,70333333333', '3890', '1313,33333333333', '896,1', '2018,255', '1508,79', '1053', '324,16', '2450', '1230', '2970', '892,18', '1608,255', '2097,97333333333', '1220', '2466,8625', '1560', '425,97', '1630', '1402,92', '605,32', '2810', '2070', '1258,69', '1670', '1007,36', '315,796666666667', '4729,07', '1270', '1405,53', '1477,37', '1304,0625', '4320', '1052,63', '687,11', '674,263333333333', '433,3425', '5394,29', '2540', '1240', '1374,28', '3762,5', '1860', '1116,49', '3964,85', '3202,2', '2044,155', '1570', '549,88', '3777,93333333333', '437,26', '1258,585', '1319,56', '605,496', '1427,295', '660', '2650', '18307,16', '4070', '1600', '4884,95', '1829,73', '3240', '699,78', '1065,62', '820', '2186,585', '908,78', '1411,835', '1535,89', '766,26', '94,89', '1910', '554,36', '510', '2263,2', '1275,785', '1922,69', '3940', '1060', '1283,89', '3589,09', '990,85', '310,126', '1605,95', '1920', '28012,2', '3501,45', '49,35', '1070,52', '1940', '1108,96333333333', '1841,9', '1539,13', '929,51', '901,64', '1552,325', '1960', '1286,73', '1710', '5780', '4220', '970', '846,74', '366,58', '904,08', '7670', '3209,5', '4920', '2290', '5160', '1909,16', '2259,35', '2630', '879,74', '2510', '3626,91', '599,19', '1840', '2940', '550', '1305,97', '553', '709,96', '2560', '1200', '1145,85', '0,04', '2569,05', '1280', '1601,63', '578,06', '2989,98', '4640', '1942,72', '2365,47', '769,915', '1512', '989,15', '2185', '433,306666666667', '2990', '836,79', '750,175', '2287,02', '1050', '740', '3322,7775', '981,71', '1266,34', '1663,27', '1426,72', '478,13', '367', '613,21', '1098,8', '957,4', '1317,06', '727,63', '665,57', '3279,705', '2960', '1288,63', '1360', '1949,8', '2770', '3509,805', '2410', '3300', '1680', '63,31', '1093,22', '386,666666666667', '2476,77', '2105', '1030', '7340', '1496,3275', '726,57', '3303,2', '651,16', '4390', '1953,6', '2139,63375', '1135', '2850', '890', '2870', '3960', '818,74', '610,986666666667', '2858,6', '6130', '3509,22', '855,675', '857,956666666667', '2440', '1258,49', '3770', '2610', '869,26', '960', '1671,7', '1020', '1778,635', '1260,55', '2180', '1429,99', '4940', '2670', '6200', '1424,9175', '1810,155', '680', '845,55', '530', '1410,53333333333', '177,34', '1789,04', '862,5', '5872,64', '3590', '4630', '2260', '1199,27', '2916,18', '1440', '2235,225', '1640', '651,625', '1639,99', '3659,0625', '1164,99666666667', '1300,386', '480', '1700', '1848,05', '1314,11', '339,83', '1160,96', '1088,48', '2520', '3086,66666666667', '5550', '1370', '2051,5', '3539,82', '438,19', '631', '1780', '1684,04', '472,11', '670,085', '3990', '7010', '2250', '430', '2210', '1215,45777777778', '1845,5', '2477,64', '763,185', '1880', '1516,872', '600', '1309,89', '567,16', '588,13', '1138,2', '5110', '2470', '1259,1', '560,36', '4450', '2800', '3018,275', '3230', '3506,07', '569,121428571429', '1418,86', '2406,8', '827,57', '2710', '948,58', '2379,46', '543,33', '658,42', '1299,55', '3610', '1373,99333333333', '1950', '3470', '1549,18', '791,98', '2647,9', '4700', '1675,75', '4827,666', '3520', '1335,47', '1582,435', '1649,37', '1894,04', '1109,855', '880', '2240,34', '4400', '3860,18', '1489,13', '5510', '1730', '1007,8', '1072,34', '1176,82', '87,39', '4200', '5850', '300', '2676,2125', '604,353333333333', '2751,25', '2590,15', '1350', '673,89', '2239,37', '3768,7', '1107,5', '821,45', '3040', '1222,06', '1120', '812,693333333333', '779,415', '3840', '2247,51', '370,77', '1068,47', '330', '3160', '875,2', '6650', '5370', '3716,35', '2925', '289,02', '558,06625', '1288,7', '722,59', '1731,06', '3810', '2270', '1094', '429,11', '2441,4', '2600', '1140,2', '758,95', '5760', '1930', '3080', '6310', '1892,238', '2497,09', '1386,115', '2400', '4250', '5040', '1210', '3760', '1272,72', '1283,93', '880,2', '761,866666666667', '1850', '1990', '2151,50333333333', '2585', '2101,256', '1677,48', '5526,72666666667', '1594,914', '5428,62', '917,57', '1614,36', '830', '780', '1340', '1790', '1580', '2740', '620,75', '1288,898', '1344,33', '2258,3', '1010', '5560', '2500', '1844,885', '1237,24', '586,646666666667', '1413,765', '1296,74', '1420', '2100', '1269,82', '5170', '3880', '3637,43', '770', '1296,4', '684,89', '1260', '892,95', '1742,41', '4660', '2570', '62,46', '683,9975', '4020', '4376,4', '5698,46', '870', '758,82', '1004,225', '2690,33333333333', '543,17', '2009', '777,84', '1745,7', '1679,2', '3900', '4300', '3030', '768,97', '1321,68833333333', '812,11', '1329,54', '3360', '3330', '4030', '1113,74', '2370', '1781,225', '2261,19', '2660', '367,35', '790', '4140', '497,62', '728,49', '2386,505', '1510', '2518,18', '3820', '1670,18', '1250', '4550', '860,505', '1500', '588,9', '970,155', '767,7', '13920', '900', '5320', '3201,95', '2782,89', '1626,75', '516,18', '630,49', '991,19', '875,09', '1200,99', '1330', '2326,81', '407,8', '2082,47857142857', '1002,22', '3310', '642,31', '4050', '4158,85', '1867,66166666667', '2232,28333333333', '455,32', '224,59', '4001,34', '3390', '1666,28', '327,98', '1090', '830,7', '1180', '2462,1', '1706,3', '954,65', '1459,99', '1686,92', '2390', '1959,99', '1130', '1077,03', '9060', '560,86', '862,43', '724,38', '600,93', '1170', '4055,03', '2340', '2441,465', '5650', '4350', '1077,605', '1550', '1899,7', '11310', '1259,43', '4164,34', '2742,25', '596,29', '756,1', '2480', '2900', '3670', '440', '2429,09', '1817,76', '3050', '6070', '1509,44', '3750', '1119,27', '1400', '3702,8', '959,955', '656,705', '710', '1033', '776,3', '1749,69', '1620', '735', '682', '1387,15', '1880,59', '598,5', '3237,94', '2702,4', '1371,86', '3190', '2568,45', '14990', '2760', '1070,05', '760', '849,19', '2030', '1740', '1581,82', '2020', '1010,43', '2201,11', '2142,2', '5603,82', '59,68', '1597,92', '3250', '1692,49', '1733,88', '2598,9', '2980', '1441,57', '2580', '6390', '1930,595', '578,3', '2320', '1179,86'}\n",
      "\n",
      "\n",
      "==========\n",
      "LOAN_MAX_DLQ_AMT\n",
      "{'749,82', '690', '2112,17', '450', '6080', '1538,69', '2361,22', '1110,39', '965,1', '650', '1221,92', '5075,99', '9280', '809,42', '1870', '5140', '1450', '518,9', '791,56', '2409,01', '1650,53', '1312,44', '1097,86', '2732,2', '1819,26', '4600', '2796,66', '5430', '2890', '2310', '2656,68', '1931,44', '2083', '3920', '1391,47', '1046,01', '1247,92', '400', '240', '966,07', '1615', '1828,89', '2372,77', '5269,78', '5410', '216,59', '1095,61', '1000', '2190', '115,65', '797,16', '1804,9', '894,29', '1085,5', '806,19', '568,7', '4190', '979,63', '1901,3', '552,57', '2343,41', '755,76', '3150', '3106,29', '1088,05', '1480', '1144,98', '4240', '1310', '2497', '4260', '2059,46', '796,59', '5030', '2090,53', '3172,83', '2280', '2547,85', '2629,87', '2699,88', '3089,5', '961,94', '990', '1986,88', '51,8', '2064,03', '2490', '830,53', '473,16', '1141,06', '6490', '3510', '1095,89', '2150', '8020', '3971,6', '1144,03', '540', '2120', '2154,02', '5980,18', '1939,61', '1402,43', '1390', '581,67', '6660', '2720', '2240', '910', '3400', '1690', '100', '1798,49', '610', '3782,39', '470', '772,73', '4690', '2160', '1380', '1750', '1900', '3530', '5397,15', '2360', '4960', '1029,75', '1970', '1452', '2510,2', '2425', '2330', '2779,4', '1411,31', '2110', '1478,49', '3110', '957,63', '3780', '310', '1069,6', '2707,25', '802,36', '2755,21', '2130', '1593,76', '1610', '989,15', '704,93', '720', '3260', '1760', '2530', '2090', '1300', '574,21', '1672,88', '2265', '823,54', '1439,94', '620,18', '1259,39', '2573,8', '1006,59', '3570', '1563,45', '846,55', '3560', '3440', '2300', '989,39', '2184,66', '134,78', '837,48', '790,77', '2094,3', '500', '810', '2005,15', '2503,19', '2349,51', '2550', '957,59', '1697,22', '2840', '2368,84', '702,23', '5500', '789,23', '1040', '533', '1830', '4310', '850', '1851,55', '1966,99', '6041,86', '1883,04', '446,31', '1810', '1134,58', '1365', '640', '2119,77', '1460', '3914,24', '980,42', '2220', '2060', '1010,55', '1800', '800', '535,53', '3540', '4290', '1100', '2880', '2002,45', '1160', '714', '3060', '3970', '3200', '7100', '4680', '2524,28', '2820', '6689,82', '14870', '2549,52', '1539,2', '1070', '1292,59', '2860', '997,66', '1066', '572,22', '360', '1015', '2202,69', '2790', '4530', '4770', '2163,94', '863,68', '5076,65', '3660', '4120', '4210', '1650', '2930', '1093,75', '1012,9', '609,52', '2957,71', '918,55', '580', '918,28', '2050', '3620', '836,6', '1599,9', '355,04', '559,94', '1010,27', '619,73', '3020', '1520', '2178', '1590', '840', '804,32', '517,51', '4620', '1348,68', '567,51', '457,71', '856,3', '1387,47', '1683,49', '816,83', '2247,51', '38,32', '1325,63', '1716,52', '2158,72', '1190', '620', '1980', '2088,86', '930', '502,1', '2680', '663,05', '1090,8', '2293,65', '1120,93', '269,51', '783', '1530', '2127,1', '0,71', '110,91', '2170', '1529,06', '920', '3959', '673,02', '3070', '1150', '2262,12', '4650', '1386,14', '943,56', '2230', '2084,32', '3283,1', '4160', '2350', '1957,21', '604,43', '2467,33', '570', '3480', '3127,19', '3100', '2590', '1059,47', '1761,03', '1175,57', '1479,51', '18310', '778,32', '3120', '0', '490', '2640', '1837,31', '6133,41', '1720', '3140', '776,59', '2492,54', '3433,42', '2509,38', '1439,9', '1740,19', '4710', '988,85', '7890', '1290', '859,92', '603,55', '1398,58', '2620', '3285,74', '3500', '879', '2830', '1820', '1410', '1591,94', '980', '604,76', '670', '2157,32', '798,53', '2000', '1540', '3111,86', '950', '937,79', '3357,52', '2140', '1139,49', '2910', '4880', '3000', '3010', '2679,82', '630', '1470', '1300,16', '1793,66', '586,5', '4760', '1890', '669,12', '3420', '3170', '3910', '2816,25', '856,64', '762,93', '499,69', '3410', '849,91', '1433,4', '860', '647,42', '975', '3460', '5048,19', '896,31', '3700', '1490', '976,68', '3630', '2959', '1080', '887,79', '1359,6', '2701,26', '4565', '1889,43', '560', '1105,07', '2200', '481,51', '918,83', '2419,9', '648,68', '444', '1783,55', '750', '3018,62', '4508,2', '4370', '2950', '821,93', '5870', '1468,38', '1196,43', '3850', '3870,25', '730', '940', '1985,3', '2979,35', '3780,1', '1498,26', '1751,37', '1230,63', '1320', '1636,04', '1102,7', '2858,62', '2040', '668,53', '1140', '946,49', '2080', '4000', '1056,95', '3635,77', '769,43', '3600', '270', '2375,59', '2739,76', '1154,9', '136,76', '2700', '1208,09', '2380', '2010', '6500', '2430', '1768,07', '331', '678,2', '5830', '1860,72', '700', '6260', '370', '1110', '1770', '3490', '1154,34', '1387,3', '2750', '1430', '1792,71', '1833,77', '2013,19', '3428,56', '2920', '3180', '3890', '896,1', '1053', '1508,79', '324,16', '2450', '1230', '2970', '892,18', '1220', '1560', '1630', '2810', '605,32', '2070', '1670', '2064,08', '4729,07', '1270', '1370,25', '1405,53', '1477,37', '4320', '1052,63', '687,11', '5394,29', '2540', '1240', '1374,28', '3762,5', '1860', '1116,49', '3964,85', '3202,2', '489,13', '1729,66', '1570', '549,88', '1930,47', '437,26', '1319,56', '660', '2650', '4070', '1600', '4884,95', '3240', '699,78', '1065,62', '820', '589,45', '908,78', '766,26', '94,89', '1910', '1519,64', '554,36', '510', '2263,2', '3940', '1060', '3589,09', '49,35', '990,85', '1920', '28012,2', '3501,45', '1070,52', '1940', '1841,9', '1539,13', '901,64', '1960', '1710', '5780', '4220', '970', '846,74', '1302,38', '366,58', '590', '904,08', '7670', '4920', '2290', '5160', '1909,16', '1489,45', '2630', '879,74', '2510', '1840', '3626,91', '599,19', '2940', '550', '553', '0,04', '1086,57', '2560', '1200', '1145,85', '736,3', '2569,05', '1280', '2398,8', '1601,63', '578,06', '2989,98', '4640', '1942,72', '2365,47', '836,79', '2990', '2287,02', '1050', '740', '1266,34', '981,71', '1663,27', '478,13', '367', '613,21', '1098,8', '957,4', '1317,06', '665,57', '2960', '1288,63', '1360', '660,86', '4490', '1949,8', '2770', '2410', '3300', '1680', '63,31', '849,07', '1093,22', '1030', '7340', '726,57', '3303,2', '651,16', '4390', '1953,6', '2850', '890', '2870', '3960', '2102,75', '818,74', '4446,3', '2642,83', '2858,6', '6130', '3509,22', '2440', '1258,49', '3770', '3450', '2610', '869,26', '960', '1671,7', '1020', '2220,72', '1260,55', '2180', '1429,99', '4940', '2670', '6200', '680', '530', '1789,04', '177,34', '862,5', '5872,64', '3590', '828,51', '2260', '1199,27', '2916,18', '1440', '1640', '1639,99', '1848,05', '2281,1', '339,83', '1700', '919,88', '480', '1127,76', '1160,96', '2520', '1185,5', '5550', '1370', '2051,5', '3539,82', '438,19', '631', '1780', '472,11', '2250', '3990', '7010', '430', '2210', '1845,5', '2477,64', '1880', '3220', '600', '2289,89', '1309,89', '567,16', '588,13', '1138,2', '5110', '2470', '1259,1', '560,36', '4450', '2800', '3230', '3506,07', '5340', '1840,14', '1870,69', '2406,8', '1418,86', '827,57', '2710', '948,58', '2379,46', '543,33', '1351,06', '658,42', '1299,55', '3610', '1819,09', '1950', '3470', '1549,18', '791,98', '2647,9', '4700', '1249,61', '3520', '1335,47', '1649,37', '1894,04', '5470', '880', '4400', '1489,13', '3860,18', '1730', '910,63', '1007,8', '1176,82', '87,39', '4200', '5850', '300', '2751,25', '2590,15', '1350', '673,89', '2239,37', '3768,7', '3040', '1222,06', '1120', '5580', '3840', '370,77', '1068,47', '330', '3160', '875,2', '6650', '5370', '3716,35', '289,02', '1288,7', '722,59', '1731,06', '3810', '2270', '1094', '429,11', '2441,4', '2600', '1140,2', '758,95', '5760', '1930', '3080', '6310', '2497,09', '1272,72', '2400', '4250', '5040', '1210', '3760', '1426,72', '1283,93', '880,2', '1850', '1990', '1408,32', '1677,48', '5428,62', '917,57', '1614,36', '830', '780', '1340', '1790', '1580', '2740', '883,33', '620,75', '1344,33', '2258,3', '1010', '5560', '2500', '1296,74', '1420', '2100', '776,6', '5170', '3880', '3637,43', '770', '1296,4', '684,89', '1260', '892,95', '1742,41', '1450,22', '4660', '2570', '62,46', '4020', '5698,46', '870', '543,17', '2009', '777,84', '1745,7', '1324,5', '1679,2', '3900', '4300', '3030', '768,97', '954,34', '812,11', '3360', '4030', '3330', '1113,74', '605,59', '2370', '724,93', '2058,71', '2044,32', '2261,19', '2782,93', '1427,4', '2660', '367,35', '790', '4140', '497,62', '728,49', '2902,89', '1510', '2518,18', '3820', '1670,18', '1250', '4550', '2969,75', '1500', '767,7', '13920', '900', '5320', '3201,95', '1626,75', '516,18', '630,49', '991,19', '875,09', '1200,99', '1330', '407,8', '1002,22', '3310', '642,31', '4050', '4158,85', '224,59', '4001,34', '3390', '1666,28', '327,98', '1090', '830,7', '1180', '2462,1', '1706,3', '490,88', '954,65', '1459,99', '1686,92', '2390', '840,4', '1959,99', '1130', '1077,03', '9060', '1056,64', '862,43', '724,38', '600,93', '1170', '4055,03', '1395,7', '826,77', '2340', '5650', '4350', '1550', '596,29', '11310', '1259,43', '4164,34', '2742,25', '756,1', '4830', '2480', '2900', '3670', '1090,01', '440', '2429,09', '1817,76', '3050', '6070', '1509,44', '3750', '1119,27', '1400', '3702,8', '1033', '710', '776,3', '1749,69', '1620', '1387,15', '682', '598,5', '1880,59', '3237,94', '2702,4', '1371,86', '3190', '2589,2', '2568,45', '14990', '2760', '1070,05', '760', '2030', '1740', '849,19', '1581,82', '2020', '937,6', '2201,11', '2142,2', '5603,82', '59,68', '1597,92', '3250', '1692,49', '1733,88', '2598,9', '2980', '2580', '6390', '578,3', '2320', '1179,86', '2618,78'}\n",
      "\n",
      "\n",
      "==========\n",
      "sample\n",
      "{'train'}\n",
      "\n",
      "\n"
     ]
    }
   ],
   "source": [
    "for i in df_train.columns: # перебираем все столбцы\n",
    "    if str(df_train[i].dtype) == 'object': # если тип столбца - object\n",
    "        print('='*10)\n",
    "        print(i) # выводим название столбца\n",
    "        print(set(df_train[i])) # выводим все его значения (но делаем set - чтоб значения не повторялись)\n",
    "        print('\\n') # выводим пустую строку"
   ]
  },
  {
   "cell_type": "markdown",
   "metadata": {
    "collapsed": true
   },
   "source": [
    "Mожно заметить что некоторые переменные, которые обозначены как строки (например PERSONAL_INCOME) на самом деле числа, но по какой-то причине были распознаны как строки\n",
    "\n",
    "Причина же что использовалась запятая для разделения не целой части числа.."
   ]
  },
  {
   "cell_type": "markdown",
   "metadata": {},
   "source": [
    "Перекодировать их можно например так:"
   ]
  },
  {
   "cell_type": "code",
   "execution_count": 15,
   "metadata": {},
   "outputs": [
    {
     "data": {
      "text/plain": [
       "0         7000.0\n",
       "1         4100.0\n",
       "2        40000.0\n",
       "3        20000.0\n",
       "4        17000.0\n",
       "5         7000.0\n",
       "6        10000.0\n",
       "7         7500.0\n",
       "8         9000.0\n",
       "9         4000.0\n",
       "10       15000.0\n",
       "11       12000.0\n",
       "12        8000.0\n",
       "13       20000.0\n",
       "14       18500.0\n",
       "15       14000.0\n",
       "16        6000.0\n",
       "17        9000.0\n",
       "18        5000.0\n",
       "19       15000.0\n",
       "20        6100.0\n",
       "21       22180.0\n",
       "22        9000.0\n",
       "23        8700.0\n",
       "24        7000.0\n",
       "25        6000.0\n",
       "26       15000.0\n",
       "27       12000.0\n",
       "28       11000.0\n",
       "29        8000.0\n",
       "          ...   \n",
       "30103    12000.0\n",
       "30104    10000.0\n",
       "30105    10000.0\n",
       "30106     8000.0\n",
       "30107    11000.0\n",
       "30108     7000.0\n",
       "30109    10000.0\n",
       "30110     8000.0\n",
       "30111    25000.0\n",
       "30112    10000.0\n",
       "30113    12000.0\n",
       "30114     7000.0\n",
       "30115    12000.0\n",
       "30116    14500.0\n",
       "30117    12000.0\n",
       "30118     8000.0\n",
       "30119     7000.0\n",
       "30120    10000.0\n",
       "30121    10000.0\n",
       "30122    10000.0\n",
       "30123    15000.0\n",
       "30124     8100.0\n",
       "30125     9500.0\n",
       "30126    13000.0\n",
       "30127    10000.0\n",
       "30128    12000.0\n",
       "30129    10000.0\n",
       "30130     6000.0\n",
       "30131     4500.0\n",
       "30132    20000.0\n",
       "Name: PERSONAL_INCOME, Length: 30133, dtype: float64"
      ]
     },
     "execution_count": 15,
     "metadata": {},
     "output_type": "execute_result"
    }
   ],
   "source": [
    "df['PERSONAL_INCOME'].map(lambda x: x.replace(',', '.')).astype('float')"
   ]
  },
  {
   "cell_type": "markdown",
   "metadata": {},
   "source": [
    "Такой эффект наблюдается в столбцах `PERSONAL_INCOME`, `CREDIT`, `FST_PAYMENT`, `LOAN_AVG_DLQ_AMT`, `LOAN_MAX_DLQ_AMT`"
   ]
  },
  {
   "cell_type": "markdown",
   "metadata": {},
   "source": [
    "### Теперь ваше небольшое исследование"
   ]
  },
  {
   "cell_type": "markdown",
   "metadata": {
    "collapsed": true
   },
   "source": [
    "#### Задание 1. Есть ли пропуски в данных? Что с ними сделать?\n",
    "\n",
    "(единственного верного ответа нет - аргументируйте)"
   ]
  },
  {
   "cell_type": "markdown",
   "metadata": {},
   "source": [
    "#### Ответ:\n",
    "\n",
    "Из результатов выше, мы знаем, что есть пропущенные значения. Посчитаем число пропусков в данных."
   ]
  },
  {
   "cell_type": "code",
   "execution_count": 16,
   "metadata": {},
   "outputs": [
    {
     "data": {
      "text/plain": [
       "GEN_INDUSTRY                   2713\n",
       "GEN_TITLE                      2713\n",
       "ORG_TP_STATE                   2713\n",
       "ORG_TP_FCAPITAL                2708\n",
       "JOB_DIR                        2713\n",
       "TP_PROVINCE                     590\n",
       "REGION_NM                         2\n",
       "WORK_TIME                      2717\n",
       "PREVIOUS_CARD_NUM_UTILIZED    29533\n",
       "dtype: int64"
      ]
     },
     "execution_count": 16,
     "metadata": {},
     "output_type": "execute_result"
    }
   ],
   "source": [
    "nan_vals_count = df.isnull().sum()\n",
    "nan_vals_count.iloc[nan_vals_count.nonzero()[0]]"
   ]
  },
  {
   "cell_type": "code",
   "execution_count": 17,
   "metadata": {},
   "outputs": [],
   "source": [
    "def show_data(dataframe, columns=None):\n",
    "    for i in df_train.columns if columns is None else columns: # перебираем столбцы\n",
    "        print('='*10)\n",
    "        print(i) # выводим название столбца\n",
    "        print(set(df_train[i])) # выводим все его значения (но делаем set - чтоб значения не повторялись)\n",
    "        print('\\n') # выводим пустую строку\n",
    "        "
   ]
  },
  {
   "cell_type": "code",
   "execution_count": 18,
   "metadata": {},
   "outputs": [
    {
     "name": "stdout",
     "output_type": "stream",
     "text": [
      "==========\n",
      "GEN_INDUSTRY\n",
      "{nan, 'Транспорт', 'Туризм', 'Строительство', 'Ресторанный бизнес/Общественное питание', 'Банк/Финансы', 'Сборочные производства', 'Подбор персонала', 'Информационные услуги', 'Нефтегазовая промышленность', 'Маркетинг', 'ЧОП/Детективная д-ть', 'Торговля', 'Государственная служба', 'Энергетика', 'Металлургия/Промышленность/Машиностроение', 'Сельское хозяйство', 'Образование', 'Недвижимость', 'Управляющая компания', 'Страхование', 'Логистика', 'Развлечения/Искусство', 'СМИ/Реклама/PR-агенства', 'Наука', 'Информационные технологии', 'Здравоохранение', 'Химия/Парфюмерия/Фармацевтика', 'Салоны красоты и здоровья', 'Коммунальное хоз-во/Дорожные службы', 'Юридические услуги/нотариальные услуги', 'Другие сферы'}\n",
      "\n",
      "\n",
      "==========\n",
      "GEN_TITLE\n",
      "{'Рабочий', 'Руководитель среднего звена', 'Индивидуальный предприниматель', nan, 'Военнослужащий по контракту', 'Служащий', 'Другое', 'Партнер', 'Работник сферы услуг', 'Высококвалифиц. специалист', 'Руководитель высшего звена', 'Руководитель низшего звена', 'Специалист'}\n",
      "\n",
      "\n",
      "==========\n",
      "ORG_TP_STATE\n",
      "{nan, 'Индивидуальный предприниматель', 'Государственная комп./учреж.', 'Частная компания', 'Некоммерческая организация', 'Частная ком. с инос. капиталом'}\n",
      "\n",
      "\n",
      "==========\n",
      "ORG_TP_FCAPITAL\n",
      "{nan, 'Без участия', 'С участием'}\n",
      "\n",
      "\n",
      "==========\n",
      "JOB_DIR\n",
      "{nan, 'Вспомогательный техперсонал', 'Реклама и маркетинг', 'Юридическая служба', 'Участие в основ. деятельности', 'Пр-техн. обесп. и телеком.', 'Адм-хоз. и трансп. службы', 'Бухгалтерия, финансы, планир.', 'Снабжение и сбыт', 'Служба безопасности', 'Кадровая служба и секретариат'}\n",
      "\n",
      "\n",
      "==========\n",
      "TP_PROVINCE\n",
      "{nan, 'Тамбовская область', 'Карелия', 'Белгородская область', 'Ульяновская область', 'Вологодская область', 'Хабаровский край', 'Омская область', 'Нижегородская область', 'Владимирская область', 'Удмуртия', 'Красноярский край', 'Тверская область', 'Коми', 'Орловская область', 'Новгородская область', 'Самарская область', 'Читинская область', 'Ханты-Мансийский АО', 'Курганская область', 'Краснодарский край', 'Мурманская область', 'Кировская область', 'Пермская область', 'Астраханская область', 'Брянская область', 'Саратовская область', 'Камчатская область', 'Москва', 'Еврейская АО', 'Калужская область', 'Ставропольский край', 'Мордовская республика', 'Томская область', 'Челябинская область', 'Ивановская область', 'Курская область', 'Калининградская область', 'Адыгея', 'Горный Алтай', 'Амурская область', 'Липецкая область', 'Псковская область', 'Бурятия', 'Сахалинская область', 'Воронежская область', 'Алтайский край', 'Оренбургская область', 'Волгоградская область', 'Магаданская область', 'Тюменская область', 'Иркутская область', 'Архангельская область', 'Смоленская область', 'Татарстан', 'Санкт-Петербург', 'Башкирия', 'Новосибирская область', 'Якутия', 'Тульская область', 'Костромская область', 'Рязанская область', 'Чувашия', 'Ростовская область', 'Кемеровская область', 'Приморский край', 'Марийская республика', 'Кабардино-Балкария', 'Пензенская область', 'Ярославская область', 'Свердловская область'}\n",
      "\n",
      "\n",
      "==========\n",
      "REGION_NM\n",
      "{nan, 'ПОВОЛЖСКИЙ', 'ЮЖНЫЙ', 'ЦЕНТРАЛЬНЫЙ ОФИС', 'ВОСТОЧНО-СИБИРСКИЙ', 'ЦЕНТРАЛЬНЫЙ 2', 'ЗАПАДНО-СИБИРСКИЙ', 'ЦЕНТРАЛЬНЫЙ 1', 'УРАЛЬСКИЙ', 'ДАЛЬНЕВОСТОЧНЫЙ', 'ПРИВОЛЖСКИЙ', 'СЕВЕРО-ЗАПАДНЫЙ'}\n",
      "\n",
      "\n",
      "==========\n",
      "WORK_TIME\n",
      "{nan, nan, 2.0, nan, 3.0, nan, 6.0, nan, 8.0, nan, nan, 10.0, 12.0, 13.0, 14.0, 15.0, 16.0, 9.0, 18.0, 19.0, 20.0, 4.0, 17.0, 23.0, 24.0, 25.0, 5.0, 27.0, 28.0, 29.0, 30.0, nan, nan, nan, nan, nan, 36.0, nan, 38.0, 7.0, 40.0, 39.0, 42.0, 37.0, 41.0, 45.0, 44.0, 46.0, 48.0, 49.0, 50.0, 51.0, 43.0, 53.0, 54.0, 47.0, 56.0, 11.0, 57.0, 59.0, 60.0, 61.0, 62.0, 58.0, 64.0, 65.0, 66.0, 67.0, 68.0, 69.0, 70.0, 71.0, 72.0, 73.0, 74.0, 75.0, 76.0, 77.0, 78.0, 79.0, 80.0, 82.0, 84.0, 85.0, 86.0, 87.0, 88.0, 89.0, 90.0, 91.0, 92.0, 93.0, 94.0, 95.0, 96.0, 97.0, 98.0, 99.0, 100.0, 101.0, 102.0, 104.0, 105.0, 106.0, 21.0, 108.0, 109.0, 110.0, 111.0, 22.0, 112.0, 114.0, 115.0, 116.0, 113.0, 118.0, 120.0, 121.0, 122.0, 123.0, 124.0, 125.0, 126.0, 127.0, 128.0, 129.0, 130.0, 26.0, 132.0, 133.0, 134.0, 131.0, 135.0, 136.0, 138.0, 140.0, 142.0, 144.0, 145.0, 147.0, 148.0, 150.0, 152.0, nan, nan, nan, nan, nan, nan, nan, nan, nan, nan, nan, 32.0, 167.0, 168.0, 169.0, 170.0, 171.0, 34.0, 165.0, 166.0, 33.0, 176.0, 35.0, 175.0, 179.0, 180.0, 177.0, 174.0, 183.0, 185.0, 186.0, 187.0, 188.0, 189.0, 190.0, nan, 192.0, nan, nan, nan, 196.0, 197.0, 198.0, nan, 200.0, 193.0, 194.0, 203.0, 204.0, 205.0, 206.0, 207.0, 209.0, 210.0, 211.0, 214.0, 215.0, 216.0, 217.0, 219.0, 220.0, 221.0, 228.0, 229.0, 230.0, 234.0, 235.0, 236.0, 239.0, 240.0, 241.0, 242.0, 243.0, 244.0, 245.0, 249.0, 250.0, 251.0, 252.0, 254.0, 256.0, 258.0, 260.0, 52.0, 263.0, 264.0, 265.0, 270.0, 273.0, 276.0, 55.0, 277.0, 279.0, 280.0, 282.0, 284.0, 287.0, 288.0, 295.0, 297.0, 298.0, 300.0, 301.0, 303.0, 305.0, 310.0, 312.0, 316.0, 63.0, 318.0, 320.0, 322.0, 324.0, 328.0, 330.0, 331.0, 335.0, 336.0, 339.0, 348.0, 350.0, 360.0, 361.0, 362.0, 363.0, 364.0, 365.0, 367.0, nan, nan, nan, nan, 372.0, nan, nan, nan, nan, nan, 378.0, nan, nan, nan, nan, nan, 384.0, nan, nan, 380.0, 390.0, 391.0, 395.0, 396.0, 398.0, 400.0, 407.0, 408.0, 410.0, 420.0, 430.0, 432.0, 444.0, 445.0, nan, nan, 456.0, 457.0, nan, nan, 460.0, nan, nan, 463.0, 468.0, 469.0, 474.0, 480.0, nan, nan, nan, nan, nan, 492.0, nan, nan, nan, nan, 504.0, 516.0, 519.0, 528.0, nan, nan, nan, 540.0, nan, nan, nan, nan, nan, nan, 107.0, 576.0, nan, nan, nan, 600.0, nan, nan, nan, nan, nan, nan, 612.0, nan, nan, nan, nan, nan, nan, nan, nan, nan, nan, nan, nan, nan, nan, nan, 31.0, nan, nan, nan, nan, nan, nan, nan, nan, nan, nan, nan, nan, nan, nan, 730.0, 2867959.0, nan, nan, nan, nan, 780.0, nan, nan, nan, nan, nan, nan, nan, nan, nan, nan, 156.0, 157.0, 158.0, 159.0, 160.0, 161.0, nan, nan, nan, 162.0, nan, nan, nan, nan, nan, nan, nan, nan, nan, nan, nan, nan, nan, nan, nan, nan, 860.0, 864.0, nan, nan, nan, nan, nan, nan, nan, nan, nan, nan, nan, nan, nan, nan, nan, nan, nan, nan, nan, nan, nan, nan, nan, nan, nan, nan, nan, nan, nan, nan, nan, nan, nan, nan, nan, nan, nan, nan, nan, nan, nan, nan, 191.0, 976.0, 195.0, nan, nan, nan, nan, nan, nan, nan, nan, nan, nan, nan, nan, nan, nan, nan, nan, nan, nan, nan, nan, 1120.0, nan, nan, nan, nan, nan, nan, nan, nan, nan, nan, nan, nan, nan, nan, nan, nan, nan, nan, nan, nan, 1254.0, 1312.0, nan, nan, nan, nan, nan, nan, nan, nan, nan, nan, nan, nan, nan, nan, nan, nan, nan, nan, nan, nan, nan, nan, nan, nan, nan, nan, nan, nan, nan, nan, nan, nan, nan, nan, nan, nan, nan, nan, nan, nan, nan, nan, nan, nan, nan, nan, nan, nan, 1500.0, nan, nan, nan, nan, nan, nan, nan, nan, nan, nan, nan, nan, nan, nan, nan, nan, nan, nan, nan, nan, nan, nan, nan, nan, nan, nan, nan, nan, nan, nan, 10000.0, nan, nan, nan, nan, nan, nan, nan, nan, nan, nan, nan, nan, nan, nan, nan, nan, nan, nan, nan, nan, nan, nan, nan, nan, nan, nan, nan, nan, nan, nan, nan, nan, nan, nan, nan, nan, nan, nan, nan, nan, nan, nan, nan, nan, nan, nan, nan, nan, nan, nan, nan, nan, nan, nan, nan, nan, nan, nan, nan, nan, nan, nan, nan, nan, nan, nan, nan, nan, nan, nan, nan, nan, nan, nan, nan, nan, nan, nan, nan, nan, nan, nan, nan, nan, nan, nan, nan, nan, nan, nan, nan, nan, nan, nan, nan, nan, nan, nan, nan, nan, nan, nan, nan, nan, nan, nan, nan, nan, nan, nan, nan, nan, nan, nan, nan, nan, nan, nan, nan, nan, nan, nan, nan, nan, nan, nan, nan, nan, nan, nan, nan, nan, nan, nan, nan, nan, nan, nan, nan, nan, nan, nan, nan, nan, nan, nan, nan, nan, nan, nan, nan, nan, nan, nan, nan, nan, nan, nan, nan, nan, nan, nan, nan, nan, nan, nan, nan, nan, nan, nan, nan, nan, nan, nan, nan, nan, nan, nan, nan, nan, nan, nan, nan, nan, nan, nan, nan, nan, nan, nan, nan, nan, nan, nan, nan, nan, nan, nan, nan, nan, nan, nan, nan, nan, nan, nan, nan, nan, nan, nan, nan, nan, nan, nan, nan, nan, nan, nan, nan, nan, nan, nan, nan, nan, nan, nan, nan, nan, nan, nan, nan, nan, nan, nan, nan, nan, nan, nan, nan, nan, nan, nan, nan, nan, nan, nan, nan, nan, nan, nan, nan, nan, nan, nan, nan, nan, nan, nan, nan, nan, nan, nan, nan, nan, nan, nan, nan, nan, nan, nan, nan, nan, nan, nan, nan, nan, nan, nan, nan, nan, nan, nan, nan, nan, nan, nan, nan, nan, nan, nan, nan, nan, nan, nan, nan, nan, nan, nan, nan, nan, nan, 3500.0, nan, nan, nan, nan, nan, nan, nan, nan, nan, nan, nan, nan, nan, nan, nan, nan, nan, nan, nan, nan, nan, nan, nan, nan, nan, nan, nan, nan, nan, nan, nan, nan, nan, nan, nan, nan, nan, nan, nan, nan, nan, nan, nan, nan, nan, nan, nan, nan, nan, nan, nan, nan, nan, nan, nan, nan, nan, nan, nan, nan, nan, nan, nan, nan, nan, nan, nan, nan, nan, nan, nan, nan, nan, nan, nan, nan, nan, nan, nan, nan, nan, nan, nan, nan, nan, nan, nan, nan, nan, nan, nan, nan, nan, nan, nan, nan, nan, nan, nan, nan, nan, nan, nan, nan, nan, nan, nan, nan, nan, nan, nan, nan, nan, nan, nan, nan, nan, nan, nan, nan, nan, nan, nan, nan, 4320.0, nan, nan, nan, nan, nan, nan, nan, nan, nan, nan, nan, nan, nan, nan, nan, nan, nan, nan, nan, nan, nan, nan, nan, nan, nan, nan, nan, nan, nan, nan, nan, nan, nan, nan, nan, nan, nan, nan, nan, nan, nan, nan, nan, nan, nan, nan, nan, nan, nan, nan, nan, nan, nan, nan, nan, nan, nan, nan, nan, nan, nan, nan, nan, nan, nan, nan, nan, nan, nan, nan, nan, nan, nan, nan, nan, nan, nan, nan, nan, nan, nan, nan, nan, nan, nan, nan, nan, nan, nan, nan, nan, nan, nan, nan, nan, nan, nan, nan, nan, nan, nan, nan, nan, nan, nan, nan, nan, nan, nan, nan, nan, nan, nan, nan, nan, nan, nan, nan, nan, nan, nan, nan, nan, nan, nan, nan, nan, nan, nan, nan, nan, nan, nan, nan, nan, nan, nan, nan, nan, nan, nan, nan, nan, nan, nan, nan, nan, nan, nan, nan, nan, nan, nan, nan, nan, nan, nan, nan, nan, nan, nan, nan, nan, nan, nan, nan, nan, nan, nan, nan, nan, nan, nan, nan, nan, nan, nan, nan, nan, nan, nan, nan, nan, nan, nan, nan, nan, nan, nan, nan, nan, nan, nan, nan, nan, nan, nan, nan, nan, nan, nan, nan, nan, nan, nan, nan, nan, nan, nan, nan, nan, nan, nan, nan, nan, nan, nan, nan, nan, nan, nan, nan, nan, nan, nan, nan, nan, nan, nan, nan, nan, nan, nan, nan, nan, nan, nan, nan, nan, nan, nan, nan, nan, nan, nan, nan, nan, nan, nan, nan, nan, nan, nan, nan, nan, nan, nan, nan, nan, nan, nan, nan, nan, nan, nan, nan, nan, nan, nan, nan, nan, nan, nan, nan, nan, nan, nan, nan, nan, nan, nan, nan, nan, nan, nan, nan, nan, nan, nan, nan, nan, nan, nan, nan, nan, nan, nan, nan, nan, nan, nan, nan, nan, nan, nan, nan, nan, nan, nan, nan, nan, nan, nan, nan, nan, nan, nan, nan, nan, nan, nan, nan, nan, nan, nan, nan, nan, nan, nan, nan, nan, nan, nan, nan, nan, nan, nan, nan, nan, nan, nan, nan, nan, nan, nan, nan, nan, nan, nan, nan, nan, nan, nan, nan, nan, nan, nan, nan, nan, nan, nan, nan, nan, nan, nan, nan, nan, nan, 1.0, nan, nan, nan, nan, nan, nan, nan, nan, nan, nan, nan, nan, nan, nan, nan, nan, nan, nan, nan, nan, nan, nan, nan, nan, nan, nan, nan, nan, nan, nan, nan, nan, nan, nan, nan, nan, nan, nan, nan, nan, nan, nan, nan, nan, nan, nan, nan, nan, nan, nan, nan, nan, nan, nan, nan, nan, nan, nan, nan, nan, nan, nan, nan, nan, nan, nan, nan, nan, nan, nan, nan, nan, nan, nan, nan, nan, nan, nan, nan, nan, nan, nan, nan, nan, nan, nan, nan, nan, nan, nan, nan, nan, nan, nan, nan, nan, nan, nan, nan, nan, nan, nan, nan, nan, nan, nan, nan, nan, nan, nan, nan, nan, nan, nan, nan, nan, nan, nan, nan, nan, nan, nan, nan, nan, nan, nan, nan, nan, nan, nan, nan, nan, nan, nan, nan, nan, nan, nan, nan, nan, nan, nan, nan, nan, nan, nan, nan, nan, nan, nan, nan, nan, nan, nan, nan, nan, nan, nan, nan, nan, nan, nan, nan, nan, nan, nan, nan, nan, nan, nan, nan, nan, nan, nan, nan, nan, nan, nan, nan, nan, nan, nan, nan, nan, nan, nan, nan, nan, nan, nan, nan, nan, nan, nan, nan, nan, nan, nan, nan, nan, nan, nan, nan, nan, nan, nan, nan, nan, nan, nan, nan, nan, nan, nan, nan, nan, nan, nan, nan, nan, nan, nan, nan, nan, nan, nan, nan, nan, nan, nan, nan, nan, nan, nan, nan, nan, nan, nan, nan, nan, nan, nan, nan, nan, nan, nan, nan, nan, nan, nan, nan, nan, nan, nan, nan, nan, nan, nan, nan, nan, nan, nan, nan, nan, nan, nan, nan, nan, nan, nan, nan, nan, nan, nan, nan}\n",
      "\n",
      "\n"
     ]
    }
   ],
   "source": [
    "columns_with_na = ['GEN_INDUSTRY', 'GEN_TITLE', 'ORG_TP_STATE', 'ORG_TP_FCAPITAL', 'JOB_DIR', 'TP_PROVINCE', 'REGION_NM', 'WORK_TIME']\n",
    "show_data(df, columns_with_na)"
   ]
  },
  {
   "cell_type": "markdown",
   "metadata": {
    "collapsed": true
   },
   "source": [
    "#### Задание 2. Есть ли категориальные признаки? Что с ними делать?"
   ]
  },
  {
   "cell_type": "markdown",
   "metadata": {},
   "source": [
    "Есть и их нужно закодировать."
   ]
  },
  {
   "cell_type": "markdown",
   "metadata": {},
   "source": [
    "#### Задание 3. Фунция предобработки"
   ]
  },
  {
   "cell_type": "markdown",
   "metadata": {},
   "source": [
    "Напишите функцию, которая бы\n",
    "\n",
    "* Удаляло идентификатор `AGREEMENT_RK`\n",
    "* Избавлялась от проблем с '.' и ',' в стобцах PERSONAL_INCOME, CREDIT, FST_PAYMENT, LOAN_AVG_DLQ_AMT, LOAN_MAX_DLQ_AMT\n",
    "* Что-то делала с пропусками\n",
    "* Кодировала категориальные признаки\n",
    "\n",
    "В результате, ваш датафрейм должен содержать только числа и не содержать пропусков!"
   ]
  },
  {
   "cell_type": "code",
   "execution_count": 19,
   "metadata": {},
   "outputs": [],
   "source": [
    "def preproc_data(df_input):\n",
    "    df_output = df_input.copy()    \n",
    "    \n",
    "    ## Your Code Here\n",
    "    df_output = df_output.drop(['AGREEMENT_RK'], axis=1)\n",
    "    \n",
    "    columns_to_fix = ['PERSONAL_INCOME', 'CREDIT', 'FST_PAYMENT', 'LOAN_AVG_DLQ_AMT', 'LOAN_MAX_DLQ_AMT']\n",
    "    \n",
    "    for column in columns_to_fix:\n",
    "        df_output[column] = df_output[column].map(lambda x: x.replace(',', '.')).astype('float')\n",
    "    \n",
    "    family_income_list = ['до 5000 руб.', 'от 5000 до 10000 руб.', 'от 10000 до 20000 руб.', 'от 20000 до 50000 руб.', 'свыше 50000 руб.']\n",
    "     \n",
    "    for idx, val in enumerate(family_income_list):\n",
    "        df_output['FAMILY_INCOME'].replace(to_replace = val, value=\"{}\".format(idx), inplace=True)\n",
    "    \n",
    "    df_output['FAMILY_INCOME'] = df_output.FAMILY_INCOME.astype('int64')\n",
    "    \n",
    "    df_output.WORK_TIME[df_output.WORK_TIME.isnull()] = df_output.WORK_TIME.mean()\n",
    "    \n",
    "    df_output = pd.get_dummies(df_output, columns=['EDUCATION', 'MARITAL_STATUS'])\n",
    "    \n",
    "    df_output = df_output.drop(['GEN_INDUSTRY', 'GEN_TITLE', 'ORG_TP_STATE', 'ORG_TP_FCAPITAL', 'JOB_DIR', 'TP_PROVINCE', 'REGION_NM',\n",
    "                                'REG_ADDRESS_PROVINCE', 'FACT_ADDRESS_PROVINCE', 'POSTAL_ADDRESS_PROVINCE', 'PREVIOUS_CARD_NUM_UTILIZED'], axis=1)\n",
    "    \n",
    "    return df_output"
   ]
  },
  {
   "cell_type": "code",
   "execution_count": 20,
   "metadata": {},
   "outputs": [
    {
     "name": "stderr",
     "output_type": "stream",
     "text": [
      "/home/am0z/miniconda3/envs/sfml/lib/python3.6/site-packages/ipykernel_launcher.py:19: SettingWithCopyWarning: \n",
      "A value is trying to be set on a copy of a slice from a DataFrame\n",
      "\n",
      "See the caveats in the documentation: http://pandas.pydata.org/pandas-docs/stable/indexing.html#indexing-view-versus-copy\n"
     ]
    }
   ],
   "source": [
    "df_preproc = df.pipe(preproc_data)\n",
    "\n",
    "df_train_preproc = df_preproc.query('sample == \"train\"').drop(['sample'], axis=1)\n",
    "df_test_preproc = df_preproc.query('sample == \"test\"').drop(['sample'], axis=1)"
   ]
  },
  {
   "cell_type": "markdown",
   "metadata": {},
   "source": [
    "#### Задание 4. Отделите целевую переменную и остальные признаки\n",
    "\n",
    "Должно получится:\n",
    "* 2 матрицы: X и X_test\n",
    "* 2 вектора: y и y_test"
   ]
  },
  {
   "cell_type": "code",
   "execution_count": 21,
   "metadata": {},
   "outputs": [],
   "source": [
    "y = df_train_preproc['TARGET']\n",
    "X = df_train_preproc.drop('TARGET', axis=1)\n",
    "\n",
    "y_test = df_test_preproc['TARGET']\n",
    "X_test = df_test_preproc.drop('TARGET', axis=1)"
   ]
  },
  {
   "cell_type": "markdown",
   "metadata": {},
   "source": [
    "#### Задание 5. Обучение и оценка качества разных моделей"
   ]
  },
  {
   "cell_type": "code",
   "execution_count": 22,
   "metadata": {},
   "outputs": [],
   "source": [
    "from sklearn.model_selection import train_test_split\n",
    "# test_size=0.3, random_state=42\n",
    "\n",
    "## Your Code Here\n",
    "target = df_preproc['TARGET']\n",
    "X = df_preproc.drop(['sample', 'TARGET'], axis=1)\n",
    "\n",
    "X_train, X_test, y_train, y_test = train_test_split(X, target, test_size=0.3, random_state=42)\n"
   ]
  },
  {
   "cell_type": "code",
   "execution_count": 23,
   "metadata": {},
   "outputs": [
    {
     "name": "stderr",
     "output_type": "stream",
     "text": [
      "/home/am0z/miniconda3/envs/sfml/lib/python3.6/site-packages/sklearn/linear_model/base.py:340: RuntimeWarning: overflow encountered in exp\n",
      "  np.exp(prob, prob)\n"
     ]
    }
   ],
   "source": [
    "# Попробовать следующие \"черные ящики\": интерфейс одинаковый \n",
    "#     fit, \n",
    "#     predict, \n",
    "#     predict_proba\n",
    "\n",
    "from sklearn.tree import DecisionTreeClassifier\n",
    "from sklearn.ensemble import RandomForestClassifier\n",
    "from sklearn.linear_model import LogisticRegression\n",
    "\n",
    "## Your Code Here\n",
    "dtc = DecisionTreeClassifier()\n",
    "dtc.fit(X_train, y_train)\n",
    "predict_dtc = dtc.predict(X_test)\n",
    "predict_proba_dtc  = dtc.predict_proba(X_test)\n",
    "\n",
    "rfc = RandomForestClassifier()\n",
    "rfc.fit(X_train, y_train)\n",
    "predict_rfc = rfc.predict(X_test)\n",
    "predict_proba_rfc = rfc.predict(X_test)\n",
    "\n",
    "lr = LogisticRegression()\n",
    "lr.fit(X_train, y_train)\n",
    "predict_lr = lr.predict(X_test)\n",
    "predict_proba_lr = lr.predict_proba(X_test)\n"
   ]
  },
  {
   "cell_type": "code",
   "execution_count": 24,
   "metadata": {},
   "outputs": [
    {
     "name": "stdout",
     "output_type": "stream",
     "text": [
      "DecisionTreeClassifier:\n",
      "precision 0.17583408476104598\n",
      "recall 0.1790633608815427\n",
      "accuracy 0.8\n",
      "==========\n",
      "RandomForestClassifier\n",
      "precision: 0.3018867924528302\n",
      "recall: 0.014692378328741965\n",
      "accuracy: 0.8772123893805309\n",
      "==========\n",
      "LogisticRegression\n",
      "precision: 0.14285714285714285\n",
      "recall: 0.0018365472910927456\n",
      "accuracy: 0.878429203539823\n",
      "==========\n"
     ]
    }
   ],
   "source": [
    "# Посчитать метрики стандартные\n",
    "# accuracy, precision, recall\n",
    "\n",
    "from sklearn.metrics import accuracy_score, precision_score, recall_score\n",
    "\n",
    "## Your Code Here\n",
    "print('DecisionTreeClassifier:')\n",
    "print('precision', precision_score(y_test, predict_dtc))\n",
    "print('recall', recall_score(y_test, predict_dtc))\n",
    "print('accuracy', accuracy_score(y_test, predict_dtc))\n",
    "print('='*10)\n",
    "\n",
    "print('RandomForestClassifier')\n",
    "print('precision: {}'.format(precision_score(y_test, predict_rfc)))\n",
    "print('recall: {}'.format(recall_score(y_test, predict_rfc)))\n",
    "print('accuracy: {}'.format(accuracy_score(y_test, predict_rfc)))\n",
    "print('='*10)\n",
    "\n",
    "print('LogisticRegression')\n",
    "print('precision: {}'.format(precision_score(y_test, predict_lr)))\n",
    "print('recall: {}'.format(recall_score(y_test, predict_lr)))\n",
    "print('accuracy: {}'.format(accuracy_score(y_test, predict_lr)))\n",
    "print('='*10)\n"
   ]
  },
  {
   "cell_type": "code",
   "execution_count": 25,
   "metadata": {},
   "outputs": [
    {
     "data": {
      "image/png": "[encoded data removed]",
      "text/plain": [
       "<matplotlib.figure.Figure at 0x7f44f5ea2c88>"
      ]
     },
     "metadata": {},
     "output_type": "display_data"
    }
   ],
   "source": [
    "# Визуалищировать эти метрики всех моделей на одном графике (чтоб визуально посмотреть)\n",
    "\n",
    "## Your Code Here\n",
    "from matplotlib import pyplot as plt\n",
    "%matplotlib inline\n",
    "\n",
    "fig, ax = plt.subplots(figsize=(15,10))\n",
    "\n",
    "precision1 = precision_score(y_test, predict_dtc)\n",
    "precision2 = precision_score(y_test, predict_rfc)\n",
    "precision3 = precision_score(y_test, predict_lr)\n",
    "\n",
    "recall1 = recall_score(y_test, predict_dtc)\n",
    "recall2 = recall_score(y_test, predict_rfc)\n",
    "recall3 = recall_score(y_test, predict_lr)\n",
    "\n",
    "accuracy1 = accuracy_score(y_test, predict_dtc)\n",
    "accuracy2 = accuracy_score(y_test, predict_rfc)\n",
    "accuracy3 = accuracy_score(y_test, predict_lr)\n",
    "\n",
    "fd = pd.DataFrame([[precision1, precision2, precision3],[recall1, recall2, recall3], [accuracy1, accuracy2, accuracy3]],\n",
    "                 index=['precision', 'recall', 'accuracy'], columns=pd.Index(['DecisionTreeClassifier','RandomForestClassifier','LogisticRegression'])).plot(kind='bar', ax=ax)"
   ]
  },
  {
   "cell_type": "code",
   "execution_count": 26,
   "metadata": {},
   "outputs": [
    {
     "data": {
      "text/plain": [
       "<matplotlib.legend.Legend at 0x7f44b0695d30>"
      ]
     },
     "execution_count": 26,
     "metadata": {},
     "output_type": "execute_result"
    },
    {
     "data": {
      "image/png": "[encoded data removed]",
      "text/plain": [
       "<matplotlib.figure.Figure at 0x7f44b4990f98>"
      ]
     },
     "metadata": {},
     "output_type": "display_data"
    }
   ],
   "source": [
    "from sklearn.metrics import roc_curve, auc\n",
    "plt.figure(figsize=(10, 7))\n",
    "\n",
    "fpr, tpr, thresholds = roc_curve(y_test, predict_proba_lr[:,1])\n",
    "roc_auc  = auc(fpr, tpr)\n",
    "plt.plot(fpr, tpr, label='%s ROC (area = %0.2f)' % ('LR', roc_auc))\n",
    "\n",
    "fpr2, tpr2, thresholds2 = roc_curve(y_test, predict_proba_dtc[:,1])\n",
    "roc_auc2  = auc(fpr2, tpr2)\n",
    "plt.plot(fpr2, tpr2, label='%s ROC (area = %0.2f)' % ('DTC', roc_auc2))\n",
    "\n",
    "fpr3, tpr3, thresholds3 = roc_curve(y_test, predict_proba_rfc)\n",
    "roc_auc3  = auc(fpr3, tpr3)\n",
    "plt.plot(fpr3, tpr3, label='%s ROC (area = %0.2f)' % ('RFC', roc_auc3))\n",
    "\n",
    "plt.plot([0, 1], [0, 1])\n",
    "plt.ylabel('tpr')\n",
    "plt.xlabel('fpr')\n",
    "plt.grid(True)\n",
    "plt.title('ROC curve')\n",
    "plt.xlim((-0.01, 1.01))\n",
    "plt.ylim((-0.01, 1.01))\n",
    "plt.legend(loc=0, fontsize='small')"
   ]
  },
  {
   "cell_type": "code",
   "execution_count": 27,
   "metadata": {},
   "outputs": [
    {
     "name": "stderr",
     "output_type": "stream",
     "text": [
      "/home/am0z/miniconda3/envs/sfml/lib/python3.6/site-packages/sklearn/cross_validation.py:41: DeprecationWarning: This module was deprecated in version 0.18 in favor of the model_selection module into which all the refactored classes and functions are moved. Also note that the interface of the new CV iterators are different from that of this module. This module will be removed in 0.20.\n",
      "  \"This module will be removed in 0.20.\", DeprecationWarning)\n"
     ]
    },
    {
     "name": "stdout",
     "output_type": "stream",
     "text": [
      "dtc:  [0.53420706 0.52613821 0.53877638 0.54726101 0.51921011 0.54203503\n",
      " 0.51869371 0.52342394 0.5227423  0.51183591]\n",
      "rfc:  [0.59342842 0.59250372 0.63756886 0.63057115 0.60166792 0.58235996\n",
      " 0.62077258 0.62321108 0.58240671 0.58054441]\n",
      "lr:  [0.62183829 0.61712389 0.66706585 0.64021534 0.62306866 0.60423688\n",
      " 0.65871228 0.6645525  0.63072661 0.63710172]\n",
      "dtc- mean:  0.5310606807696305\n",
      "rfc- mean:  0.5956216481286053\n",
      "lr- mean:  0.6364642032654912\n"
     ]
    }
   ],
   "source": [
    "from sklearn.cross_validation import cross_val_score\n",
    "from sklearn.model_selection import StratifiedKFold\n",
    "# Сделать k-fold (10 фолдов) кросс-валидацию каждой модели\n",
    "# И посчитать средний roc_auc\n",
    "skf = StratifiedKFold(n_splits=10, shuffle=True, random_state=123)\n",
    "\n",
    "## Your Code Here\n",
    "print('dtc: ', cross_val_score(dtc, X_train, y_train, scoring='roc_auc', cv=10))\n",
    "print('rfc: ', cross_val_score(rfc, X_train, y_train, scoring='roc_auc', cv=10))\n",
    "print('lr: ', cross_val_score(lr, X_train, y_train, scoring='roc_auc', cv=10))\n",
    "\n",
    "print('dtc- mean: ', np.mean(cross_val_score(dtc, X_train, y_train, scoring='roc_auc', cv=10)))\n",
    "print('rfc- mean: ', np.mean(cross_val_score(rfc, X_train, y_train, scoring='roc_auc', cv=10)))\n",
    "print('lr- mean: ', np.mean(cross_val_score(lr, X_train, y_train, scoring='roc_auc', cv=10)))"
   ]
  },
  {
   "cell_type": "code",
   "execution_count": 28,
   "metadata": {},
   "outputs": [
    {
     "name": "stdout",
     "output_type": "stream",
     "text": [
      "[[0.81008305 0.18991695]\n",
      " [0.85313143 0.14686857]\n",
      " [0.8515746  0.1484254 ]\n",
      " ...\n",
      " [0.93290282 0.06709718]\n",
      " [0.85149618 0.14850382]\n",
      " [0.70964337 0.29035663]]\n"
     ]
    },
    {
     "name": "stderr",
     "output_type": "stream",
     "text": [
      "/home/am0z/miniconda3/envs/sfml/lib/python3.6/site-packages/sklearn/linear_model/base.py:340: RuntimeWarning: overflow encountered in exp\n",
      "  np.exp(prob, prob)\n"
     ]
    }
   ],
   "source": [
    "# Взять лучшую модель и сделать predict (с вероятностями (!!!)) для test выборки\n",
    "\n",
    "\n",
    "## Your Code Here\n",
    "predict_lr_test = lr.predict_proba(X_test)\n",
    "print(predict_lr_test)"
   ]
  },
  {
   "cell_type": "code",
   "execution_count": 29,
   "metadata": {},
   "outputs": [
    {
     "name": "stdout",
     "output_type": "stream",
     "text": [
      "lr:  [0.57382094 0.61460966 0.64903352 0.62927702 0.58218222 0.6147366\n",
      " 0.65449195 0.64028619 0.65645375 0.65658048]\n"
     ]
    }
   ],
   "source": [
    "# Померить roc_auc на тесте\n",
    "print('lr: ', cross_val_score(lr, X_test, y_test, scoring='roc_auc', cv=10))"
   ]
  }
 ],
 "metadata": {
  "anaconda-cloud": {},
  "kernelspec": {
   "display_name": "Python 3",
   "language": "python",
   "name": "python3"
  },
  "language_info": {
   "codemirror_mode": {
    "name": "ipython",
    "version": 3
   },
   "file_extension": ".py",
   "mimetype": "text/x-python",
   "name": "python",
   "nbconvert_exporter": "python",
   "pygments_lexer": "ipython3",
   "version": "3.6.4"
  },
  "toc": {
   "colors": {
    "hover_highlight": "#DAA520",
    "navigate_num": "#000000",
    "navigate_text": "#333333",
    "running_highlight": "#FF0000",
    "selected_highlight": "#FFD700",
    "sidebar_border": "#EEEEEE",
    "wrapper_background": "#FFFFFF"
   },
   "moveMenuLeft": true,
   "nav_menu": {
    "height": "31px",
    "width": "253px"
   },
   "navigate_menu": true,
   "number_sections": false,
   "sideBar": true,
   "threshold": 4,
   "toc_cell": false,
   "toc_section_display": "block",
   "toc_window_display": false,
   "widenNotebook": false
  }
 },
 "nbformat": 4,
 "nbformat_minor": 2
}
